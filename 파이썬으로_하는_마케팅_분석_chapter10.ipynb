{
 "cells": [
  {
   "cell_type": "code",
   "execution_count": 1,
   "id": "6f33bafa",
   "metadata": {},
   "outputs": [
    {
     "data": {
      "text/html": [
       "<div>\n",
       "<style scoped>\n",
       "    .dataframe tbody tr th:only-of-type {\n",
       "        vertical-align: middle;\n",
       "    }\n",
       "\n",
       "    .dataframe tbody tr th {\n",
       "        vertical-align: top;\n",
       "    }\n",
       "\n",
       "    .dataframe thead th {\n",
       "        text-align: right;\n",
       "    }\n",
       "</style>\n",
       "<table border=\"1\" class=\"dataframe\">\n",
       "  <thead>\n",
       "    <tr style=\"text-align: right;\">\n",
       "      <th></th>\n",
       "      <th>Segment</th>\n",
       "      <th>age</th>\n",
       "      <th>gender</th>\n",
       "      <th>income</th>\n",
       "      <th>kids</th>\n",
       "      <th>own_home</th>\n",
       "      <th>subscribe</th>\n",
       "    </tr>\n",
       "  </thead>\n",
       "  <tbody>\n",
       "    <tr>\n",
       "      <th>0</th>\n",
       "      <td>travelers</td>\n",
       "      <td>60.794945</td>\n",
       "      <td>male</td>\n",
       "      <td>57014.537526</td>\n",
       "      <td>0</td>\n",
       "      <td>True</td>\n",
       "      <td>False</td>\n",
       "    </tr>\n",
       "    <tr>\n",
       "      <th>1</th>\n",
       "      <td>travelers</td>\n",
       "      <td>61.764535</td>\n",
       "      <td>female</td>\n",
       "      <td>43796.941252</td>\n",
       "      <td>0</td>\n",
       "      <td>False</td>\n",
       "      <td>False</td>\n",
       "    </tr>\n",
       "    <tr>\n",
       "      <th>2</th>\n",
       "      <td>travelers</td>\n",
       "      <td>47.493356</td>\n",
       "      <td>male</td>\n",
       "      <td>51095.344683</td>\n",
       "      <td>0</td>\n",
       "      <td>True</td>\n",
       "      <td>False</td>\n",
       "    </tr>\n",
       "    <tr>\n",
       "      <th>3</th>\n",
       "      <td>travelers</td>\n",
       "      <td>60.963694</td>\n",
       "      <td>male</td>\n",
       "      <td>56457.722237</td>\n",
       "      <td>0</td>\n",
       "      <td>True</td>\n",
       "      <td>True</td>\n",
       "    </tr>\n",
       "    <tr>\n",
       "      <th>4</th>\n",
       "      <td>travelers</td>\n",
       "      <td>60.594199</td>\n",
       "      <td>female</td>\n",
       "      <td>103020.070798</td>\n",
       "      <td>0</td>\n",
       "      <td>True</td>\n",
       "      <td>False</td>\n",
       "    </tr>\n",
       "  </tbody>\n",
       "</table>\n",
       "</div>"
      ],
      "text/plain": [
       "     Segment        age  gender         income  kids  own_home  subscribe\n",
       "0  travelers  60.794945    male   57014.537526     0      True      False\n",
       "1  travelers  61.764535  female   43796.941252     0     False      False\n",
       "2  travelers  47.493356    male   51095.344683     0      True      False\n",
       "3  travelers  60.963694    male   56457.722237     0      True       True\n",
       "4  travelers  60.594199  female  103020.070798     0      True      False"
      ]
     },
     "execution_count": 1,
     "metadata": {},
     "output_type": "execute_result"
    }
   ],
   "source": [
    "# 5장에서의 세그멘테이션 데이터를 사용\n",
    "\n",
    "import pandas as pd\n",
    "seg_df = pd.read_csv('http://bit.ly/PMR-ch5')\n",
    "seg_df.head()"
   ]
  },
  {
   "cell_type": "code",
   "execution_count": 2,
   "id": "fbb1949f",
   "metadata": {},
   "outputs": [],
   "source": [
    "# 두가지 목적으로 구독 세그먼트 이용\n",
    "# 1. 내재적 그룹화(이 장의 비지도 학습)를 찾는 클러스터링\n",
    "# 2. 분류 방법이 알려진 사례에서 그룹 구성원을 예측하는 방법을 어떻게 학습하는지 (지도학습, 11장)"
   ]
  },
  {
   "cell_type": "markdown",
   "id": "0cff78db",
   "metadata": {},
   "source": [
    "# 클러스터링"
   ]
  },
  {
   "cell_type": "code",
   "execution_count": 3,
   "id": "8d0f8998",
   "metadata": {},
   "outputs": [],
   "source": [
    "# 거리기반 클러스터링 방법\n",
    "# 1. 계층적 방법\n",
    "# 2. k-means (k-평균) 방법\n",
    "\n",
    "# 거리기반 방법은 그룹 내 구성원 간의 거리를 최소화하는 동시에\n",
    "# 다른 그룹과의 거리를 최대화하는 그룹을 찾으려고 시도한다.\n",
    "\n",
    "# 계층적 클러스터는 데이터를 트리 구조로 모델링해 이를 수행.\n",
    "# k-means는 그룹 중심(중심점)을 사용. "
   ]
  },
  {
   "cell_type": "code",
   "execution_count": 4,
   "id": "7f882b2d",
   "metadata": {},
   "outputs": [],
   "source": [
    "# 모델 기반 클러스터링 방법\n",
    "# 가우스 혼합 모델\n",
    "\n",
    "# 모델 기반 방법은 데이터를 서로 다른 분포에서 샘플링한 그룹의 혼합으로 보지만\n",
    "# 원시 분포와 소속 그룹에 대한 정보는 '손실'된 것이다. (즉, 알 수 없음)\n",
    "\n",
    "# 가우스 혼합 모델 방법은 관측된 분산이 다른 평균과 표준 편차 같은 특정 분포 특성을 가진\n",
    "# 소수의 가우스 (정규) 변수로 가장 잘 표현될 수 있도록 데이터를 모델링하려고 한다. "
   ]
  },
  {
   "cell_type": "markdown",
   "id": "487eceef",
   "metadata": {},
   "source": [
    "## 클러스터링 단계"
   ]
  },
  {
   "cell_type": "code",
   "execution_count": 6,
   "id": "505520dd",
   "metadata": {},
   "outputs": [],
   "source": [
    "# 1. 특정 클러스터링 기법에 맞게 데이터 변환. 일부 메서드는 모두 숫자 데이터 필요 (k-means)\n",
    "# 2. 열 간의 크기 차이가 큰 경우 데이터 크기를 조정. 거리 기반 방법은 다른 것보다 훨씬 더 크기에 민감하며 단일 차원이 \n",
    "#    전체를 지배할 수 있음.\n",
    "# 3. 데이터 분석에서 클러스터링을 지배할 수 있는 특이값을 확인. 특이값 데이터 포인트 제거를 고려. (여기서는 skip)\n",
    "# 4. 클러스터링 방법을 적용하고 그 결과를 객체에 저장. 대부분의 방법에서 이를 위해 원하는 그룹 수인 숫자(k)를 지정\n",
    "# 5. 일부 메서드의 경우 객체를 추가로 구문 분석해 k개 그룹이 있는 솔루션을 얻음.\n",
    "# 6. 기저 데이터와 관련해 모델 객체의 솔루션을 검토하고 비즈니스 질문에 적합한지 고려.\n",
    "\n",
    "# 앞서 설명했듯이, 이 프로세스에서 가장 어려운 부분은 제안된 통계 솔루션이 비즈니스 요구에 맞는지\n",
    "# 여부를 확인하는 마지막 단계.\n",
    "# 궁극적으로 클러스털링 솔루션은 관측치에 대해 추정된 그룹 할당 벡터.\n",
    "# 이러한 숫자가 데이터로부터 의미 있는 이야기를 전달하는지 알아내는 것은 본인에게 달려 있음."
   ]
  },
  {
   "cell_type": "markdown",
   "id": "fcca1e1a",
   "metadata": {},
   "source": [
    "### 데이터 변환 및 크기 조정"
   ]
  },
  {
   "cell_type": "code",
   "execution_count": 15,
   "id": "fe08cc51",
   "metadata": {},
   "outputs": [
    {
     "data": {
      "text/html": [
       "<div>\n",
       "<style scoped>\n",
       "    .dataframe tbody tr th:only-of-type {\n",
       "        vertical-align: middle;\n",
       "    }\n",
       "\n",
       "    .dataframe tbody tr th {\n",
       "        vertical-align: top;\n",
       "    }\n",
       "\n",
       "    .dataframe thead th {\n",
       "        text-align: right;\n",
       "    }\n",
       "</style>\n",
       "<table border=\"1\" class=\"dataframe\">\n",
       "  <thead>\n",
       "    <tr style=\"text-align: right;\">\n",
       "      <th></th>\n",
       "      <th>age</th>\n",
       "      <th>income</th>\n",
       "      <th>kids</th>\n",
       "      <th>own_home</th>\n",
       "      <th>subscribe</th>\n",
       "      <th>is_female</th>\n",
       "    </tr>\n",
       "  </thead>\n",
       "  <tbody>\n",
       "    <tr>\n",
       "      <th>0</th>\n",
       "      <td>60.794945</td>\n",
       "      <td>57014.537526</td>\n",
       "      <td>0</td>\n",
       "      <td>True</td>\n",
       "      <td>False</td>\n",
       "      <td>False</td>\n",
       "    </tr>\n",
       "    <tr>\n",
       "      <th>1</th>\n",
       "      <td>61.764535</td>\n",
       "      <td>43796.941252</td>\n",
       "      <td>0</td>\n",
       "      <td>False</td>\n",
       "      <td>False</td>\n",
       "      <td>True</td>\n",
       "    </tr>\n",
       "    <tr>\n",
       "      <th>2</th>\n",
       "      <td>47.493356</td>\n",
       "      <td>51095.344683</td>\n",
       "      <td>0</td>\n",
       "      <td>True</td>\n",
       "      <td>False</td>\n",
       "      <td>False</td>\n",
       "    </tr>\n",
       "    <tr>\n",
       "      <th>3</th>\n",
       "      <td>60.963694</td>\n",
       "      <td>56457.722237</td>\n",
       "      <td>0</td>\n",
       "      <td>True</td>\n",
       "      <td>True</td>\n",
       "      <td>False</td>\n",
       "    </tr>\n",
       "    <tr>\n",
       "      <th>4</th>\n",
       "      <td>60.594199</td>\n",
       "      <td>103020.070798</td>\n",
       "      <td>0</td>\n",
       "      <td>True</td>\n",
       "      <td>False</td>\n",
       "      <td>True</td>\n",
       "    </tr>\n",
       "  </tbody>\n",
       "</table>\n",
       "</div>"
      ],
      "text/plain": [
       "         age         income  kids  own_home  subscribe  is_female\n",
       "0  60.794945   57014.537526     0      True      False      False\n",
       "1  61.764535   43796.941252     0     False      False       True\n",
       "2  47.493356   51095.344683     0      True      False      False\n",
       "3  60.963694   56457.722237     0      True       True      False\n",
       "4  60.594199  103020.070798     0      True      False       True"
      ]
     },
     "execution_count": 15,
     "metadata": {},
     "output_type": "execute_result"
    }
   ],
   "source": [
    "\n",
    "# seg_df에는 알려진 세그먼트 할당이 들어있음.\n",
    "# 여기서의 임무는 세그먼트를 발견하는 것이므로 이러한 할당이 생략된 seg_sub 복사본을 생성해 세그먼트 방법을 탐색할 때\n",
    "# 알려진 값이 실수로 포함되지 않도록 하기.\n",
    "\n",
    "# 일부 클러스터링 모델은 범주형 변수를 사용할 수 있지만, \n",
    "# 이장에서의 접근 방식은 숫자데이터를 사용\n",
    "# 이 데이터셋의 모든 범주형 변수는 이진\n",
    "# subscribe와 own_home은 이미 명시적으로 이진이며 부울로 코딩되어있음\n",
    "\n",
    "# 성별을 부울 변수로 변경하고 segment 열 삭제\n",
    "\n",
    "seg_df['is_female'] = seg_df.gender == 'female'\n",
    "seg_sub = seg_df.drop(['Segment', 'gender'], axis=1)\n",
    "seg_sub.head()"
   ]
  },
  {
   "cell_type": "code",
   "execution_count": 11,
   "id": "f76ce3c6",
   "metadata": {},
   "outputs": [],
   "source": [
    "# 또한 거리 기반 클러스터링 접근 방식은 변수의 척도에 민감.\n",
    "# 10의 변화는 수입에서는 상대적으로 미미하지만 자녀 수에서는 상당히 중요\n",
    "# 그러나 거리 측정법은 이를 동일하게 취급.\n",
    "# 때문에 데이터를 조정"
   ]
  },
  {
   "cell_type": "code",
   "execution_count": 13,
   "id": "c7c8bba8",
   "metadata": {},
   "outputs": [
    {
     "data": {
      "text/html": [
       "<div>\n",
       "<style scoped>\n",
       "    .dataframe tbody tr th:only-of-type {\n",
       "        vertical-align: middle;\n",
       "    }\n",
       "\n",
       "    .dataframe tbody tr th {\n",
       "        vertical-align: top;\n",
       "    }\n",
       "\n",
       "    .dataframe thead th {\n",
       "        text-align: right;\n",
       "    }\n",
       "</style>\n",
       "<table border=\"1\" class=\"dataframe\">\n",
       "  <thead>\n",
       "    <tr style=\"text-align: right;\">\n",
       "      <th></th>\n",
       "      <th>age</th>\n",
       "      <th>income</th>\n",
       "      <th>kids</th>\n",
       "      <th>own_home</th>\n",
       "      <th>subscribe</th>\n",
       "      <th>is_female</th>\n",
       "    </tr>\n",
       "  </thead>\n",
       "  <tbody>\n",
       "    <tr>\n",
       "      <th>0</th>\n",
       "      <td>1.551729</td>\n",
       "      <td>0.328689</td>\n",
       "      <td>-0.902199</td>\n",
       "      <td>1.120553</td>\n",
       "      <td>-0.363422</td>\n",
       "      <td>-0.960769</td>\n",
       "    </tr>\n",
       "    <tr>\n",
       "      <th>1</th>\n",
       "      <td>1.627442</td>\n",
       "      <td>-0.356010</td>\n",
       "      <td>-0.902199</td>\n",
       "      <td>-0.892416</td>\n",
       "      <td>-0.363422</td>\n",
       "      <td>1.040833</td>\n",
       "    </tr>\n",
       "    <tr>\n",
       "      <th>2</th>\n",
       "      <td>0.513037</td>\n",
       "      <td>0.022062</td>\n",
       "      <td>-0.902199</td>\n",
       "      <td>1.120553</td>\n",
       "      <td>-0.363422</td>\n",
       "      <td>-0.960769</td>\n",
       "    </tr>\n",
       "    <tr>\n",
       "      <th>3</th>\n",
       "      <td>1.564906</td>\n",
       "      <td>0.299844</td>\n",
       "      <td>-0.902199</td>\n",
       "      <td>1.120553</td>\n",
       "      <td>2.751623</td>\n",
       "      <td>-0.960769</td>\n",
       "    </tr>\n",
       "    <tr>\n",
       "      <th>4</th>\n",
       "      <td>1.536053</td>\n",
       "      <td>2.711871</td>\n",
       "      <td>-0.902199</td>\n",
       "      <td>1.120553</td>\n",
       "      <td>-0.363422</td>\n",
       "      <td>1.040833</td>\n",
       "    </tr>\n",
       "  </tbody>\n",
       "</table>\n",
       "</div>"
      ],
      "text/plain": [
       "        age    income      kids  own_home  subscribe  is_female\n",
       "0  1.551729  0.328689 -0.902199  1.120553  -0.363422  -0.960769\n",
       "1  1.627442 -0.356010 -0.902199 -0.892416  -0.363422   1.040833\n",
       "2  0.513037  0.022062 -0.902199  1.120553  -0.363422  -0.960769\n",
       "3  1.564906  0.299844 -0.902199  1.120553   2.751623  -0.960769\n",
       "4  1.536053  2.711871 -0.902199  1.120553  -0.363422   1.040833"
      ]
     },
     "execution_count": 13,
     "metadata": {},
     "output_type": "execute_result"
    }
   ],
   "source": [
    "from sklearn import preprocessing\n",
    "\n",
    "seg_sc = pd.DataFrame(preprocessing.scale(seg_sub),\n",
    "                      columns = seg_sub.columns)\n",
    "seg_sc.head()"
   ]
  },
  {
   "cell_type": "code",
   "execution_count": 14,
   "id": "1e9a7b54",
   "metadata": {},
   "outputs": [],
   "source": [
    "# seg_sub: 이 분석에 필요한 모든 열만 있음.\n",
    "# seg_sc: 동일한 열이 있지만, 열이 직접 비교할 수 있도록 크기 조정."
   ]
  },
  {
   "cell_type": "markdown",
   "id": "df0ed86b",
   "metadata": {},
   "source": [
    "### 간단 검사 함수"
   ]
  },
  {
   "cell_type": "code",
   "execution_count": 19,
   "id": "3a9a5ea5",
   "metadata": {},
   "outputs": [
    {
     "data": {
      "text/html": [
       "<div>\n",
       "<style scoped>\n",
       "    .dataframe tbody tr th:only-of-type {\n",
       "        vertical-align: middle;\n",
       "    }\n",
       "\n",
       "    .dataframe tbody tr th {\n",
       "        vertical-align: top;\n",
       "    }\n",
       "\n",
       "    .dataframe thead th {\n",
       "        text-align: right;\n",
       "    }\n",
       "</style>\n",
       "<table border=\"1\" class=\"dataframe\">\n",
       "  <thead>\n",
       "    <tr style=\"text-align: right;\">\n",
       "      <th></th>\n",
       "      <th>age</th>\n",
       "      <th>income</th>\n",
       "      <th>is_female</th>\n",
       "      <th>kids</th>\n",
       "      <th>own_home</th>\n",
       "      <th>subscribe</th>\n",
       "    </tr>\n",
       "    <tr>\n",
       "      <th>Segment</th>\n",
       "      <th></th>\n",
       "      <th></th>\n",
       "      <th></th>\n",
       "      <th></th>\n",
       "      <th></th>\n",
       "      <th></th>\n",
       "    </tr>\n",
       "  </thead>\n",
       "  <tbody>\n",
       "    <tr>\n",
       "      <th>moving_up</th>\n",
       "      <td>36.216087</td>\n",
       "      <td>51763.552666</td>\n",
       "      <td>0.700</td>\n",
       "      <td>1.857143</td>\n",
       "      <td>0.357143</td>\n",
       "      <td>0.214286</td>\n",
       "    </tr>\n",
       "    <tr>\n",
       "      <th>suburb_mix</th>\n",
       "      <td>39.284730</td>\n",
       "      <td>55552.282925</td>\n",
       "      <td>0.530</td>\n",
       "      <td>1.950000</td>\n",
       "      <td>0.480000</td>\n",
       "      <td>0.070000</td>\n",
       "    </tr>\n",
       "    <tr>\n",
       "      <th>travelers</th>\n",
       "      <td>57.746500</td>\n",
       "      <td>62609.655328</td>\n",
       "      <td>0.325</td>\n",
       "      <td>0.000000</td>\n",
       "      <td>0.662500</td>\n",
       "      <td>0.025000</td>\n",
       "    </tr>\n",
       "    <tr>\n",
       "      <th>urban_hip</th>\n",
       "      <td>23.873716</td>\n",
       "      <td>20267.737317</td>\n",
       "      <td>0.320</td>\n",
       "      <td>1.140000</td>\n",
       "      <td>0.140000</td>\n",
       "      <td>0.220000</td>\n",
       "    </tr>\n",
       "  </tbody>\n",
       "</table>\n",
       "</div>"
      ],
      "text/plain": [
       "                  age        income  is_female      kids  own_home  subscribe\n",
       "Segment                                                                      \n",
       "moving_up   36.216087  51763.552666      0.700  1.857143  0.357143   0.214286\n",
       "suburb_mix  39.284730  55552.282925      0.530  1.950000  0.480000   0.070000\n",
       "travelers   57.746500  62609.655328      0.325  0.000000  0.662500   0.025000\n",
       "urban_hip   23.873716  20267.737317      0.320  1.140000  0.140000   0.220000"
      ]
     },
     "execution_count": 19,
     "metadata": {},
     "output_type": "execute_result"
    }
   ],
   "source": [
    "# 알고리즘으로 일부 그룹화가 제인됐다고 해서 반드시 비즈니스에 도움이 되는 것은 아니다.\n",
    "# 자주 사용하는 한 가지 방법은 데이터를 요약하고 그룹 간의 높은 수준의 차이를 빠르게 검사할 수 있는 간단한 함수를 작성.\n",
    "\n",
    "pd.pivot_table(seg_sub, index=seg_df.Segment)"
   ]
  },
  {
   "cell_type": "code",
   "execution_count": 23,
   "id": "6389b8e9",
   "metadata": {
    "scrolled": true
   },
   "outputs": [
    {
     "data": {
      "text/plain": [
       "                 Segment   \n",
       "mean  age        moving_up        36.216087\n",
       "                 suburb_mix       39.284730\n",
       "                 travelers        57.746500\n",
       "                 urban_hip        23.873716\n",
       "      income     moving_up     51763.552666\n",
       "                 suburb_mix    55552.282925\n",
       "                 travelers     62609.655328\n",
       "                 urban_hip     20267.737317\n",
       "      is_female  moving_up         0.700000\n",
       "                 suburb_mix        0.530000\n",
       "                 travelers         0.325000\n",
       "                 urban_hip         0.320000\n",
       "      kids       moving_up         1.857143\n",
       "                 suburb_mix        1.950000\n",
       "                 travelers         0.000000\n",
       "                 urban_hip         1.140000\n",
       "      own_home   moving_up         0.357143\n",
       "                 suburb_mix        0.480000\n",
       "                 travelers         0.662500\n",
       "                 urban_hip         0.140000\n",
       "      subscribe  moving_up         0.214286\n",
       "                 suburb_mix        0.070000\n",
       "                 travelers         0.025000\n",
       "                 urban_hip         0.220000\n",
       "std   age        moving_up         4.158029\n",
       "                 suburb_mix        5.388303\n",
       "                 travelers         8.678288\n",
       "                 urban_hip         1.949751\n",
       "      income     moving_up      8931.084768\n",
       "                 suburb_mix    11169.153348\n",
       "                 travelers     20373.987473\n",
       "                 urban_hip      4656.842520\n",
       "      is_female  moving_up         0.461566\n",
       "                 suburb_mix        0.501614\n",
       "                 travelers         0.471330\n",
       "                 urban_hip         0.471212\n",
       "      kids       moving_up         1.506370\n",
       "                 suburb_mix        1.373450\n",
       "                 travelers         0.000000\n",
       "                 urban_hip         1.049976\n",
       "      own_home   moving_up         0.482617\n",
       "                 suburb_mix        0.502117\n",
       "                 travelers         0.475840\n",
       "                 urban_hip         0.350510\n",
       "      subscribe  moving_up         0.413289\n",
       "                 suburb_mix        0.256432\n",
       "                 travelers         0.157110\n",
       "                 urban_hip         0.418452\n",
       "dtype: float64"
      ]
     },
     "execution_count": 23,
     "metadata": {},
     "output_type": "execute_result"
    }
   ],
   "source": [
    "pd.pivot_table(seg_sub, index=seg_df.Segment, \n",
    "               aggfunc=[np.mean, np.std]).unstack()"
   ]
  },
  {
   "cell_type": "code",
   "execution_count": 25,
   "id": "7e369ca7",
   "metadata": {},
   "outputs": [
    {
     "name": "stderr",
     "output_type": "stream",
     "text": [
      "/var/folders/yr/nt9qv8x55mv3g666qst4sx980000gn/T/ipykernel_9053/2268201805.py:1: FutureWarning: ['own_home', 'subscribe', 'is_female'] did not aggregate successfully. If any error is raised this will raise in a future version of pandas. Drop these columns/ops to avoid this warning.\n",
      "  pd.pivot_table(\n"
     ]
    },
    {
     "data": {
      "text/html": [
       "<div>\n",
       "<style scoped>\n",
       "    .dataframe tbody tr th:only-of-type {\n",
       "        vertical-align: middle;\n",
       "    }\n",
       "\n",
       "    .dataframe tbody tr th {\n",
       "        vertical-align: top;\n",
       "    }\n",
       "\n",
       "    .dataframe thead th {\n",
       "        text-align: right;\n",
       "    }\n",
       "</style>\n",
       "<table border=\"1\" class=\"dataframe\">\n",
       "  <thead>\n",
       "    <tr style=\"text-align: right;\">\n",
       "      <th></th>\n",
       "      <th>age</th>\n",
       "      <th>income</th>\n",
       "      <th>kids</th>\n",
       "    </tr>\n",
       "    <tr>\n",
       "      <th>Segment</th>\n",
       "      <th></th>\n",
       "      <th></th>\n",
       "      <th></th>\n",
       "    </tr>\n",
       "  </thead>\n",
       "  <tbody>\n",
       "    <tr>\n",
       "      <th>moving_up</th>\n",
       "      <td>43.273817</td>\n",
       "      <td>63948.927421</td>\n",
       "      <td>4.55</td>\n",
       "    </tr>\n",
       "    <tr>\n",
       "      <th>suburb_mix</th>\n",
       "      <td>47.476484</td>\n",
       "      <td>74814.773225</td>\n",
       "      <td>4.05</td>\n",
       "    </tr>\n",
       "    <tr>\n",
       "      <th>travelers</th>\n",
       "      <td>73.252981</td>\n",
       "      <td>96231.113850</td>\n",
       "      <td>0.00</td>\n",
       "    </tr>\n",
       "    <tr>\n",
       "      <th>urban_hip</th>\n",
       "      <td>26.871298</td>\n",
       "      <td>27540.504213</td>\n",
       "      <td>2.55</td>\n",
       "    </tr>\n",
       "  </tbody>\n",
       "</table>\n",
       "</div>"
      ],
      "text/plain": [
       "                  age        income  kids\n",
       "Segment                                  \n",
       "moving_up   43.273817  63948.927421  4.55\n",
       "suburb_mix  47.476484  74814.773225  4.05\n",
       "travelers   73.252981  96231.113850  0.00\n",
       "urban_hip   26.871298  27540.504213  2.55"
      ]
     },
     "execution_count": 25,
     "metadata": {},
     "output_type": "execute_result"
    }
   ],
   "source": [
    "pd.pivot_table(\n",
    "    seg_sub,\n",
    "    index=seg_df.Segment, \n",
    "    aggfunc=(lambda x: np.percentile(x,95))\n",
    ")"
   ]
  },
  {
   "cell_type": "code",
   "execution_count": 26,
   "id": "82911684",
   "metadata": {},
   "outputs": [
    {
     "data": {
      "text/html": [
       "<div>\n",
       "<style scoped>\n",
       "    .dataframe tbody tr th:only-of-type {\n",
       "        vertical-align: middle;\n",
       "    }\n",
       "\n",
       "    .dataframe tbody tr th {\n",
       "        vertical-align: top;\n",
       "    }\n",
       "\n",
       "    .dataframe thead th {\n",
       "        text-align: right;\n",
       "    }\n",
       "</style>\n",
       "<table border=\"1\" class=\"dataframe\">\n",
       "  <thead>\n",
       "    <tr style=\"text-align: right;\">\n",
       "      <th></th>\n",
       "      <th>age</th>\n",
       "      <th>income</th>\n",
       "      <th>is_female</th>\n",
       "      <th>kids</th>\n",
       "      <th>own_home</th>\n",
       "      <th>subscribe</th>\n",
       "    </tr>\n",
       "    <tr>\n",
       "      <th>Segment</th>\n",
       "      <th></th>\n",
       "      <th></th>\n",
       "      <th></th>\n",
       "      <th></th>\n",
       "      <th></th>\n",
       "      <th></th>\n",
       "    </tr>\n",
       "  </thead>\n",
       "  <tbody>\n",
       "    <tr>\n",
       "      <th>moving_up</th>\n",
       "      <td>36.216087</td>\n",
       "      <td>51763.552666</td>\n",
       "      <td>0.700</td>\n",
       "      <td>1.857143</td>\n",
       "      <td>0.357143</td>\n",
       "      <td>0.214286</td>\n",
       "    </tr>\n",
       "    <tr>\n",
       "      <th>suburb_mix</th>\n",
       "      <td>39.284730</td>\n",
       "      <td>55552.282925</td>\n",
       "      <td>0.530</td>\n",
       "      <td>1.950000</td>\n",
       "      <td>0.480000</td>\n",
       "      <td>0.070000</td>\n",
       "    </tr>\n",
       "    <tr>\n",
       "      <th>travelers</th>\n",
       "      <td>57.746500</td>\n",
       "      <td>62609.655328</td>\n",
       "      <td>0.325</td>\n",
       "      <td>0.000000</td>\n",
       "      <td>0.662500</td>\n",
       "      <td>0.025000</td>\n",
       "    </tr>\n",
       "    <tr>\n",
       "      <th>urban_hip</th>\n",
       "      <td>23.873716</td>\n",
       "      <td>20267.737317</td>\n",
       "      <td>0.320</td>\n",
       "      <td>1.140000</td>\n",
       "      <td>0.140000</td>\n",
       "      <td>0.220000</td>\n",
       "    </tr>\n",
       "  </tbody>\n",
       "</table>\n",
       "</div>"
      ],
      "text/plain": [
       "                  age        income  is_female      kids  own_home  subscribe\n",
       "Segment                                                                      \n",
       "moving_up   36.216087  51763.552666      0.700  1.857143  0.357143   0.214286\n",
       "suburb_mix  39.284730  55552.282925      0.530  1.950000  0.480000   0.070000\n",
       "travelers   57.746500  62609.655328      0.325  0.000000  0.662500   0.025000\n",
       "urban_hip   23.873716  20267.737317      0.320  1.140000  0.140000   0.220000"
      ]
     },
     "execution_count": 26,
     "metadata": {},
     "output_type": "execute_result"
    }
   ],
   "source": [
    "# 호출을 단순화하기 위해 자체 함수를 만들기\n",
    "# 함수 사용 ->\n",
    "# 일관되고 간단한 인터페이스를 제공해 오류 위험을 줄이고 확장 가능함.\n",
    "# 분석이 진행됨에 따라 함수를 확장해 호출 방법을 변경할 필요 없이 분산을 보고하거나 결과를 도식화\n",
    "\n",
    "def check_clusters(data, labels):\n",
    "    return pd.pivot_table(data, index=labels)\n",
    "\n",
    "check_clusters(seg_sub, seg_df.Segment)"
   ]
  },
  {
   "cell_type": "code",
   "execution_count": null,
   "id": "1c299242",
   "metadata": {},
   "outputs": [],
   "source": [
    "# 위 요약 함수를 통해 다음과 같은 비즈니스 가치와 관련된 질문에 쉽게 답변할 수 있음.\n",
    "# 1. 그룹 평균에 명백한 차이가 있는가?\n",
    "# 2. 차별화 부분이 몇 가지 근본적인 스토리를 만드는가?\n",
    "# 3. 단일 데이터 수준의 값과 같은 평균과 같이 이상한 결과가 바로 표시되는가? "
   ]
  },
  {
   "cell_type": "markdown",
   "id": "fdb75138",
   "metadata": {},
   "source": [
    "## 계층적 클러스터링"
   ]
  },
  {
   "cell_type": "code",
   "execution_count": 27,
   "id": "50520762",
   "metadata": {},
   "outputs": [
    {
     "data": {
      "text/plain": [
       "array([-1, -1,  1])"
      ]
     },
     "execution_count": 27,
     "metadata": {},
     "output_type": "execute_result"
    }
   ],
   "source": [
    "# 계층적 클러스터화의 주 정보는 관측치 간의 거리.\n",
    "# 유클리드 거리를 조사하는 것 부터 시작.\n",
    "\n",
    "np.array([1,2,3]) - np.array([2,3,2])"
   ]
  },
  {
   "cell_type": "code",
   "execution_count": 29,
   "id": "cf2d7adb",
   "metadata": {},
   "outputs": [
    {
     "data": {
      "text/plain": [
       "3"
      ]
     },
     "execution_count": 29,
     "metadata": {},
     "output_type": "execute_result"
    }
   ],
   "source": [
    "np.sum((np.array([1,2,3]) - np.array([2,3,2]))**2)"
   ]
  },
  {
   "cell_type": "code",
   "execution_count": 30,
   "id": "17b58d84",
   "metadata": {},
   "outputs": [
    {
     "data": {
      "text/plain": [
       "1.7320508075688772"
      ]
     },
     "execution_count": 30,
     "metadata": {},
     "output_type": "execute_result"
    }
   ],
   "source": [
    "np.sqrt(np.sum((np.array([1,2,3]) - np.array([2,3,2]))**2))"
   ]
  },
  {
   "cell_type": "code",
   "execution_count": 32,
   "id": "915e205e",
   "metadata": {},
   "outputs": [
    {
     "data": {
      "text/plain": [
       "array([1.73205081])"
      ]
     },
     "execution_count": 32,
     "metadata": {},
     "output_type": "execute_result"
    }
   ],
   "source": [
    "# 여러 개의 행렬에 대해서 거리를 구하는 함수\n",
    "# 관측값이 숫자일때만 정의됨\n",
    "\n",
    "from scipy.spatial import distance\n",
    "\n",
    "distance.pdist([np.array([1,2,3]), np.array([2,3,2])])"
   ]
  },
  {
   "cell_type": "code",
   "execution_count": 33,
   "id": "8b553864",
   "metadata": {},
   "outputs": [
    {
     "data": {
      "text/plain": [
       "array([[0.        , 2.92113022, 1.08300539],\n",
       "       [2.92113022, 0.        , 3.07299428],\n",
       "       [1.08300539, 3.07299428, 0.        ]])"
      ]
     },
     "execution_count": 33,
     "metadata": {},
     "output_type": "execute_result"
    }
   ],
   "source": [
    "# 거리 행렬을 계산하는 squareform 함수\n",
    "# 거리 행렬은 대칭\n",
    "# 관측치 자체로부터의 거리는 0.\n",
    "\n",
    "distance.squareform(distance.pdist(seg_sc.iloc[:3]))"
   ]
  },
  {
   "cell_type": "code",
   "execution_count": 35,
   "id": "a5f841ed",
   "metadata": {},
   "outputs": [
    {
     "data": {
      "text/plain": [
       "array([2.92113022, 1.08300539, 3.07299428])"
      ]
     },
     "execution_count": 35,
     "metadata": {},
     "output_type": "execute_result"
    }
   ],
   "source": [
    "# 정방 거리행렬에는 많은 중복 정보가 있으며, 이를 제거해 메모리 효율성을 높일 수 있음.\n",
    "# 이는 많은 수의 열이 있는 데이터셋을 처리할 때 중요할 수 있음.\n",
    "# 좀 더 간결한 형식을 얻기 위해 압축된 벡터 형식의 거리 행렬을 반환하는 pdist()\n",
    "\n",
    "distance.pdist(seg_sc.iloc[:3])"
   ]
  },
  {
   "cell_type": "code",
   "execution_count": 50,
   "id": "515209e4",
   "metadata": {},
   "outputs": [
    {
     "data": {
      "text/plain": [
       "Text(0, 0.5, 'Count')"
      ]
     },
     "execution_count": 50,
     "metadata": {},
     "output_type": "execute_result"
    },
    {
     "data": {
      "image/png": "[encoded data removed]",
      "text/plain": [
       "<Figure size 360x720 with 1 Axes>"
      ]
     },
     "metadata": {},
     "output_type": "display_data"
    }
   ],
   "source": [
    "# 데이터 셋에서 쌍별 거리를 조사하면 데이터 크기 조정의 중요성이 분명해짐\n",
    "\n",
    "# 크기 조정이 된 데이터는 대략적인 정규분포를 보여주고 있음.\n",
    "\n",
    "import matplotlib.pyplot as plt\n",
    "plt.style.use('seaborn-white')\n",
    "\n",
    "plt.figure(figsize=(5,10))\n",
    "plt.subplot(2,1,2)\n",
    "plt.hist(distance.pdist(seg_sc))\n",
    "plt.xlabel('Distance')\n",
    "plt.ylabel('Count')"
   ]
  },
  {
   "cell_type": "markdown",
   "id": "a3ebe9ed",
   "metadata": {},
   "source": [
    "### 파이썬에서의 계층적 클러스터링"
   ]
  },
  {
   "cell_type": "code",
   "execution_count": 52,
   "id": "88511de6",
   "metadata": {},
   "outputs": [],
   "source": [
    "# scipy hierarchy 모듈의 linkage() 함수는 계층적 클러스터링 생성\n",
    "# 클러스터는 각 관측치 쌍 간의 거리에 대한 측도를 보고하는\n",
    "# N x N 행렬이 비유사도 행렬에서 작동하는 거리 기반 알고리듬을 사용해 생성.\n",
    "\n",
    "# 1. linkage() 함수로 데이터를 전달해 거리를 계산하고 클러스털링 알고리듬을 실행해 연결 행렬 생성\n",
    "from scipy.cluster import hierarchy\n",
    "linkages = hierarchy.linkage(seg_sc, method='ward')"
   ]
  },
  {
   "cell_type": "code",
   "execution_count": 54,
   "id": "fe24e7e8",
   "metadata": {},
   "outputs": [
    {
     "data": {
      "image/png": "[encoded data removed]",
      "text/plain": [
       "<Figure size 720x576 with 1 Axes>"
      ]
     },
     "metadata": {},
     "output_type": "display_data"
    }
   ],
   "source": [
    "# 연결 행렬을 dendogram() 함수에 전달하면 연결 행렬을 나타내는 트리가 도식화됨\n",
    "\n",
    "plt.figure(figsize=(10,8))\n",
    "hierarchy.dendrogram(linkages)\n",
    "plt.show()"
   ]
  },
  {
   "cell_type": "code",
   "execution_count": 55,
   "id": "efdf21e7",
   "metadata": {},
   "outputs": [],
   "source": [
    "# 덴드로그램 해석방법\n",
    "# 주로 높이와 관측치가 결합된 위치로 해석된다.\n",
    "# 높이는 결합된 원소 간의 비유사성을 나타낸다.\n",
    "\n",
    "# 트리의 최하위 수준에서 원소간 상대적으로 유사한 2~10개의 작은 그룹으로 결합된 다음 해당 그룹이 트리 위로 이동하는\n",
    "# 덜 유사한 그룹과 연속적으로 결합되는 것을 볼 수 있음.\n",
    "\n",
    "# 가지 (branch)의 수평적 순서는 중요하지 않음. 가지는 위치를 변경해도 해석에는 변화가 없음\n",
    "\n",
    "# 더 읽기 쉽게 만드는 두 가지 방법이 있음"
   ]
  },
  {
   "cell_type": "code",
   "execution_count": 57,
   "id": "5d52fedf",
   "metadata": {},
   "outputs": [
    {
     "data": {
      "image/png": "[encoded data removed]",
      "text/plain": [
       "<Figure size 720x576 with 1 Axes>"
      ]
     },
     "metadata": {},
     "output_type": "display_data"
    }
   ],
   "source": [
    "# 1. truncate_mode와 p 인수를 사용하기\n",
    "# truncate_mode를 'lastp' 또는 'level'로 설정하면 압축된 트리가 표시됨.\n",
    "# 잘림 정도는 p 인수로 설정됨.\n",
    "# lastp 모드에서는 p개의 가지만 표시됨.\n",
    "\n",
    "# 각 가지가 나타내는 잎의 수는 괄호 안에 표시됨. \n",
    "\n",
    "plt.figure(figsize=(10,8))\n",
    "hierarchy.dendrogram(linkages, orientation='top',\n",
    "                    truncate_mode = 'lastp', p=20)\n",
    "plt.show()"
   ]
  },
  {
   "cell_type": "code",
   "execution_count": 70,
   "id": "233a2b9d",
   "metadata": {},
   "outputs": [
    {
     "data": {
      "image/png": "[encoded data removed]",
      "text/plain": [
       "<Figure size 1080x1080 with 2 Axes>"
      ]
     },
     "metadata": {},
     "output_type": "display_data"
    }
   ],
   "source": [
    "# 차트의 한 단면 확대\n",
    "plt.figure(figsize=(15,15))\n",
    "plt.subplot(1,2,1)\n",
    "hierarchy.dendrogram(linkages, leaf_rotation=0)\n",
    "plt.xticks(fontsize=11)\n",
    "plt.xlim((0,200))\n",
    "\n",
    "plt.subplot(1,2,2)\n",
    "hierarchy.dendrogram(linkages, leaf_rotation=0)\n",
    "plt.xlim((2800,3000))\n",
    "# plt.xticks(fontsize=15)\n",
    "plt.show()"
   ]
  },
  {
   "cell_type": "code",
   "execution_count": 66,
   "id": "51adc9a2",
   "metadata": {},
   "outputs": [
    {
     "data": {
      "text/html": [
       "<div>\n",
       "<style scoped>\n",
       "    .dataframe tbody tr th:only-of-type {\n",
       "        vertical-align: middle;\n",
       "    }\n",
       "\n",
       "    .dataframe tbody tr th {\n",
       "        vertical-align: top;\n",
       "    }\n",
       "\n",
       "    .dataframe thead th {\n",
       "        text-align: right;\n",
       "    }\n",
       "</style>\n",
       "<table border=\"1\" class=\"dataframe\">\n",
       "  <thead>\n",
       "    <tr style=\"text-align: right;\">\n",
       "      <th></th>\n",
       "      <th>age</th>\n",
       "      <th>income</th>\n",
       "      <th>kids</th>\n",
       "      <th>own_home</th>\n",
       "      <th>subscribe</th>\n",
       "      <th>is_female</th>\n",
       "    </tr>\n",
       "  </thead>\n",
       "  <tbody>\n",
       "    <tr>\n",
       "      <th>17</th>\n",
       "      <td>73.266707</td>\n",
       "      <td>70157.058678</td>\n",
       "      <td>0</td>\n",
       "      <td>False</td>\n",
       "      <td>False</td>\n",
       "      <td>True</td>\n",
       "    </tr>\n",
       "    <tr>\n",
       "      <th>51</th>\n",
       "      <td>71.172291</td>\n",
       "      <td>75554.353842</td>\n",
       "      <td>0</td>\n",
       "      <td>False</td>\n",
       "      <td>False</td>\n",
       "      <td>True</td>\n",
       "    </tr>\n",
       "  </tbody>\n",
       "</table>\n",
       "</div>"
      ],
      "text/plain": [
       "          age        income  kids  own_home  subscribe  is_female\n",
       "17  73.266707  70157.058678     0     False      False       True\n",
       "51  71.172291  75554.353842     0     False      False       True"
      ]
     },
     "execution_count": 66,
     "metadata": {},
     "output_type": "execute_result"
    }
   ],
   "source": [
    "# 트리는 각 고객이 다른 고객과 어떻게 점진적으로 그룹화됐는지 보여준다.\n",
    "# 몇 개의 행을 선택해 관측치의 유사성을 확인할 수 있음.\n",
    "\n",
    "seg_sub.loc[[17,51]]"
   ]
  },
  {
   "cell_type": "code",
   "execution_count": 72,
   "id": "329de573",
   "metadata": {},
   "outputs": [
    {
     "data": {
      "text/plain": [
       "0.5985290160084775"
      ]
     },
     "execution_count": 72,
     "metadata": {},
     "output_type": "execute_result"
    }
   ],
   "source": [
    "# 계층적 클러스터 솔루션에 대한 적합도 척도 중 하나로 확인해볼 수 있음.\n",
    "# 한 가지 방법은 덴드로그램이 거리 측도와 얼마나 잘 일치하는지 평가하는\n",
    "# 코페네틱 상관 계수이다. (CPCC)\n",
    "\n",
    "# CPCC는 피어슨의 r과 유사하게 해석됨.\n",
    "# 이 경우 CPCC는 약 0.6으로 적절히 강한 적합화라는 의미이며,\n",
    "# 계층트리가 고객 사이의 거리를 잘나타내고 있다고 볼 수 있다.\n",
    "\n",
    "hierarchy.cophenet(linkages, distance.pdist(seg_sc))[0]"
   ]
  },
  {
   "cell_type": "markdown",
   "id": "ca4661eb",
   "metadata": {},
   "source": [
    "## 계층적 클러스터링 계속: fcluster의 그룹"
   ]
  },
  {
   "cell_type": "code",
   "execution_count": 74,
   "id": "48cb795d",
   "metadata": {},
   "outputs": [
    {
     "data": {
      "image/png": "[encoded data removed]",
      "text/plain": [
       "<Figure size 720x720 with 1 Axes>"
      ]
     },
     "metadata": {},
     "output_type": "display_data"
    }
   ],
   "source": [
    "# 특정 세그먼트 할당은 어떻게 얻는가?\n",
    "# 덴드로그램은 원하는 높이에서 클러스터로 절단할 수 있으므로 그룹 수가 달라진다.\n",
    "# ~ 높이에서 절단하면 k = n 개의 그룹이 있음.\n",
    "\n",
    "# 덴드로그램은 어디서든 절단될 수 있으므로 분석가는 원하는 그룹 수를 지정해야 한다.\n",
    "# color_thresh 인수를 전달 잘리는 위치를 기준으로 보기\n",
    "\n",
    "plt.figure(figsize=(10,10))\n",
    "hierarchy.dendrogram(linkages, color_threshold=9)\n",
    "plt.show()"
   ]
  },
  {
   "cell_type": "code",
   "execution_count": 78,
   "id": "a7705477",
   "metadata": {},
   "outputs": [
    {
     "data": {
      "text/plain": [
       "[(1, 92), (2, 35), (3, 95), (4, 78)]"
      ]
     },
     "execution_count": 78,
     "metadata": {},
     "output_type": "execute_result"
    }
   ],
   "source": [
    "# fcluster()를 사용해 관측값에 대한 할당 벡터를 얻는다.\n",
    "# 기준 유형을 maxclust로 지정하고 임계 값 4(t=4)를 지정해 \n",
    "# fcluster()에 4개의 클러스터가 필요함을 알림.\n",
    "\n",
    "labels = hierarchy.fcluster(linkages, t=4, criterion='maxclust')\n",
    "list(zip(*np.unique(labels, return_counts=True)))"
   ]
  },
  {
   "cell_type": "code",
   "execution_count": 80,
   "id": "53b28744",
   "metadata": {},
   "outputs": [
    {
     "data": {
      "text/html": [
       "<div>\n",
       "<style scoped>\n",
       "    .dataframe tbody tr th:only-of-type {\n",
       "        vertical-align: middle;\n",
       "    }\n",
       "\n",
       "    .dataframe tbody tr th {\n",
       "        vertical-align: top;\n",
       "    }\n",
       "\n",
       "    .dataframe thead th {\n",
       "        text-align: right;\n",
       "    }\n",
       "</style>\n",
       "<table border=\"1\" class=\"dataframe\">\n",
       "  <thead>\n",
       "    <tr style=\"text-align: right;\">\n",
       "      <th></th>\n",
       "      <th>age</th>\n",
       "      <th>income</th>\n",
       "      <th>is_female</th>\n",
       "      <th>kids</th>\n",
       "      <th>own_home</th>\n",
       "      <th>subscribe</th>\n",
       "    </tr>\n",
       "  </thead>\n",
       "  <tbody>\n",
       "    <tr>\n",
       "      <th>1</th>\n",
       "      <td>54.474706</td>\n",
       "      <td>63219.658293</td>\n",
       "      <td>0.250000</td>\n",
       "      <td>0.152174</td>\n",
       "      <td>0.521739</td>\n",
       "      <td>0.0</td>\n",
       "    </tr>\n",
       "    <tr>\n",
       "      <th>2</th>\n",
       "      <td>34.523881</td>\n",
       "      <td>41685.199147</td>\n",
       "      <td>0.542857</td>\n",
       "      <td>1.514286</td>\n",
       "      <td>0.314286</td>\n",
       "      <td>1.0</td>\n",
       "    </tr>\n",
       "    <tr>\n",
       "      <th>3</th>\n",
       "      <td>38.204641</td>\n",
       "      <td>51578.802282</td>\n",
       "      <td>1.000000</td>\n",
       "      <td>1.873684</td>\n",
       "      <td>0.463158</td>\n",
       "      <td>0.0</td>\n",
       "    </tr>\n",
       "    <tr>\n",
       "      <th>4</th>\n",
       "      <td>31.122503</td>\n",
       "      <td>38790.506683</td>\n",
       "      <td>0.089744</td>\n",
       "      <td>1.756410</td>\n",
       "      <td>0.384615</td>\n",
       "      <td>0.0</td>\n",
       "    </tr>\n",
       "  </tbody>\n",
       "</table>\n",
       "</div>"
      ],
      "text/plain": [
       "         age        income  is_female      kids  own_home  subscribe\n",
       "1  54.474706  63219.658293   0.250000  0.152174  0.521739        0.0\n",
       "2  34.523881  41685.199147   0.542857  1.514286  0.314286        1.0\n",
       "3  38.204641  51578.802282   1.000000  1.873684  0.463158        0.0\n",
       "4  31.122503  38790.506683   0.089744  1.756410  0.384615        0.0"
      ]
     },
     "execution_count": 80,
     "metadata": {},
     "output_type": "execute_result"
    }
   ],
   "source": [
    "# 앞에서 만든 check_clusters 함수로 seg_sub의 변수를 다음 4개의 클러스터에 대해 검사\n",
    "\n",
    "check_clusters(seg_sub, labels)"
   ]
  },
  {
   "cell_type": "code",
   "execution_count": 81,
   "id": "299e61cf",
   "metadata": {},
   "outputs": [],
   "source": [
    "# 해석\n",
    "# 1. 그룹 2에는 모든 구독자가 포함돼 있다.\n",
    "# 2. 그룹 1은 가장 연장자이며 소득과 주택 소유율이 가장 높다.\n",
    "# 3. 그룹 3에는 여성만 포함되며 중간 수준의 소득, 연령, 주택 소유율이 있다.\n",
    "# 4. 그룹 4는 주로 젊은 남성이며 소득이 가장 낮다."
   ]
  },
  {
   "cell_type": "code",
   "execution_count": 82,
   "id": "7ee08af7",
   "metadata": {},
   "outputs": [
    {
     "data": {
      "image/png": "[encoded data removed]",
      "text/plain": [
       "<Figure size 432x288 with 1 Axes>"
      ]
     },
     "metadata": {},
     "output_type": "display_data"
    }
   ],
   "source": [
    "# 비교를 위해 크기 조정이 되지 않은 데이터로 동일 분석\n",
    "# 거리가 (y축)가 이전보다 훨씬 더 멀다.\n",
    "# 이러한 클러스터는 소득에 의해 지배됐다.\n",
    "\n",
    "linkages_unscaled = hierarchy.linkage(seg_sub, method='ward')\n",
    "hierarchy.dendrogram(linkages_unscaled)\n",
    "plt.show()"
   ]
  },
  {
   "cell_type": "code",
   "execution_count": 92,
   "id": "64bf3eea",
   "metadata": {},
   "outputs": [
    {
     "data": {
      "text/html": [
       "<div>\n",
       "<style scoped>\n",
       "    .dataframe tbody tr th:only-of-type {\n",
       "        vertical-align: middle;\n",
       "    }\n",
       "\n",
       "    .dataframe tbody tr th {\n",
       "        vertical-align: top;\n",
       "    }\n",
       "\n",
       "    .dataframe thead th {\n",
       "        text-align: right;\n",
       "    }\n",
       "</style>\n",
       "<table border=\"1\" class=\"dataframe\">\n",
       "  <thead>\n",
       "    <tr style=\"text-align: right;\">\n",
       "      <th></th>\n",
       "      <th>age</th>\n",
       "      <th>income</th>\n",
       "      <th>is_female</th>\n",
       "      <th>kids</th>\n",
       "      <th>own_home</th>\n",
       "      <th>subscribe</th>\n",
       "    </tr>\n",
       "  </thead>\n",
       "  <tbody>\n",
       "    <tr>\n",
       "      <th>1</th>\n",
       "      <td>26.238778</td>\n",
       "      <td>20026.508497</td>\n",
       "      <td>0.320755</td>\n",
       "      <td>1.113208</td>\n",
       "      <td>0.150943</td>\n",
       "      <td>0.207547</td>\n",
       "    </tr>\n",
       "    <tr>\n",
       "      <th>2</th>\n",
       "      <td>48.102952</td>\n",
       "      <td>74464.263260</td>\n",
       "      <td>0.394737</td>\n",
       "      <td>1.052632</td>\n",
       "      <td>0.500000</td>\n",
       "      <td>0.052632</td>\n",
       "    </tr>\n",
       "    <tr>\n",
       "      <th>3</th>\n",
       "      <td>42.283774</td>\n",
       "      <td>49591.504755</td>\n",
       "      <td>0.567251</td>\n",
       "      <td>1.421053</td>\n",
       "      <td>0.508772</td>\n",
       "      <td>0.116959</td>\n",
       "    </tr>\n",
       "  </tbody>\n",
       "</table>\n",
       "</div>"
      ],
      "text/plain": [
       "         age        income  is_female      kids  own_home  subscribe\n",
       "1  26.238778  20026.508497   0.320755  1.113208  0.150943   0.207547\n",
       "2  48.102952  74464.263260   0.394737  1.052632  0.500000   0.052632\n",
       "3  42.283774  49591.504755   0.567251  1.421053  0.508772   0.116959"
      ]
     },
     "execution_count": 92,
     "metadata": {},
     "output_type": "execute_result"
    }
   ],
   "source": [
    "# check_clusters를 하면 약간 다른 패턴을 볼 수 있음.\n",
    "# 세 클러스터는 소득에 따라 크게 분리돼 있음. \n",
    "\n",
    "# 이 경우 소득에 의해 지배됐으멩도 불구하고 클러스터가 다른 차원에서도 잘 구별된다는 것은 흥미로움.\n",
    "# 이러한 클러스터가 아마도 비즈니스 관점에서 더 실행 가능하다고 주장할 수도 있음.\n",
    "# 이는 클러스터링이 정확성보다는 해석 가능성에 더 가깝다는 것을 보여줌.\n",
    "\n",
    "# 이 경우, 소득이 데이터셋의 다른 인구 통계에 대한 좋은 대변자이므로\n",
    "# 크기 조정되지 않은 데이터는 크기 조정된 데이터보다 성능이 우수함.\n",
    "# 마케팅 연구원에게는 놀랄 일도 아님.\n",
    "\n",
    "labels_unscaled = hierarchy.fcluster(linkages_unscaled, t=3, criterion='maxclust')\n",
    "check_clusters(seg_sub, labels_unscaled)"
   ]
  },
  {
   "cell_type": "code",
   "execution_count": 93,
   "id": "8844bed7",
   "metadata": {},
   "outputs": [
    {
     "data": {
      "image/png": "[encoded data removed]",
      "text/plain": [
       "<Figure size 432x288 with 1 Axes>"
      ]
     },
     "metadata": {},
     "output_type": "display_data"
    }
   ],
   "source": [
    "# 값을 기반으로 클러스터 멤버십 시각화\n",
    "# 2개의 열에 대한 산점도를 생성한 다음, 클러스터 멤버십을 기반으로 각 포인트에 색상을 지정\n",
    "# 색상은 세크먼트 멤버십을 나타냄\n",
    "# 클러스터링은 주로 소득에 의해 지배되는 것으로 보임.\n",
    "\n",
    "def cluster_plot_raw(x,y,labels):\n",
    "    for l in np.unique(labels):\n",
    "        idx = labels == l\n",
    "        plt.scatter(\n",
    "            x[idx],\n",
    "            y[idx],\n",
    "            label=l\n",
    "        )\n",
    "    plt.legend()\n",
    "    plt.xlabel(x.name)\n",
    "    plt.ylabel(y.name)\n",
    "    \n",
    "cluster_plot_raw(seg_sub.age, seg_sub.income, labels_unscaled)"
   ]
  },
  {
   "cell_type": "code",
   "execution_count": 101,
   "id": "613908d1",
   "metadata": {},
   "outputs": [],
   "source": [
    "# 전반적으로 이 점은 유용한 것을 찾으려면 여러가지 방법을 시도하고 반복해야 함을 보여줌. ㅠ"
   ]
  },
  {
   "cell_type": "markdown",
   "id": "a8a6fe57",
   "metadata": {},
   "source": [
    "# 평균 기반 클러스터링: k_means()"
   ]
  },
  {
   "cell_type": "code",
   "execution_count": 103,
   "id": "458305e6",
   "metadata": {},
   "outputs": [],
   "source": [
    "# 할당된 그룹의 다변량 중심에서 각 관측치의 제곱합의 평균 편차 측면에서\n",
    "# 가장 간결한 그룹을 찾으려고 한다.\n",
    "\n",
    "# 기본 알고리즘은 어떻게 작동? -> 랜덤이나 비랜덤일 수 있는 초기 집합에서 시작\n",
    "# 평균 수는 지정해야하는 매개변수이다.\n",
    "# 그런 다음 알고리즘은 다음 두 단계를 번갈아가며 수행.\n",
    "\n",
    "# 할당: 각 관측치는 가장 가까운 평균으로 나타난 클러스터에 할당되며,\n",
    "#      근접성은 제곱 유클리드 거리의 최솟값으로 정의됨.\n",
    "# 갱신 : 공통적으로 새로운 평균이 되는 각 클러스터의 중심을 계산.\n",
    "\n",
    "# 이 변경은 관측치 할당이 안정될 때까지 반복"
   ]
  },
  {
   "cell_type": "code",
   "execution_count": 104,
   "id": "f645e259",
   "metadata": {},
   "outputs": [],
   "source": [
    "# 평균 편차를 명시적으로 계산하기 때문에 k-평균 클러스터화는 유클리드 거리에 의존\n",
    "# 따라서 다른 거리 척도를 활용해 범주형 데이터에도 적용할 수 있는 계층적 클러스터링과 달리\n",
    "# 수치 데이터나 수치로 합리적으로 강제 변환될 수 있는 데이터에만 적합.\n",
    "\n",
    "# 클러스터 크기를 결정하는 행을 추가해 check_clusters() 함수 확장.\n",
    "def check_clusters(data, labels):\n",
    "    print(list(zip(*np.unique(labels, return_counts=True))))\n",
    "    \n",
    "    return pd.pivot_table(data, index=labels)"
   ]
  },
  {
   "cell_type": "code",
   "execution_count": 106,
   "id": "904d41fb",
   "metadata": {},
   "outputs": [
    {
     "name": "stdout",
     "output_type": "stream",
     "text": [
      "[(0, 35), (1, 89), (2, 104), (3, 72)]\n"
     ]
    },
    {
     "data": {
      "text/html": [
       "<div>\n",
       "<style scoped>\n",
       "    .dataframe tbody tr th:only-of-type {\n",
       "        vertical-align: middle;\n",
       "    }\n",
       "\n",
       "    .dataframe tbody tr th {\n",
       "        vertical-align: top;\n",
       "    }\n",
       "\n",
       "    .dataframe thead th {\n",
       "        text-align: right;\n",
       "    }\n",
       "</style>\n",
       "<table border=\"1\" class=\"dataframe\">\n",
       "  <thead>\n",
       "    <tr style=\"text-align: right;\">\n",
       "      <th></th>\n",
       "      <th>age</th>\n",
       "      <th>income</th>\n",
       "      <th>is_female</th>\n",
       "      <th>kids</th>\n",
       "      <th>own_home</th>\n",
       "      <th>subscribe</th>\n",
       "    </tr>\n",
       "  </thead>\n",
       "  <tbody>\n",
       "    <tr>\n",
       "      <th>0</th>\n",
       "      <td>34.523881</td>\n",
       "      <td>41685.199147</td>\n",
       "      <td>0.542857</td>\n",
       "      <td>1.514286</td>\n",
       "      <td>0.314286</td>\n",
       "      <td>1.0</td>\n",
       "    </tr>\n",
       "    <tr>\n",
       "      <th>1</th>\n",
       "      <td>54.862339</td>\n",
       "      <td>64589.811960</td>\n",
       "      <td>0.235955</td>\n",
       "      <td>0.157303</td>\n",
       "      <td>0.662921</td>\n",
       "      <td>0.0</td>\n",
       "    </tr>\n",
       "    <tr>\n",
       "      <th>2</th>\n",
       "      <td>37.599396</td>\n",
       "      <td>49388.603148</td>\n",
       "      <td>1.000000</td>\n",
       "      <td>1.759615</td>\n",
       "      <td>0.394231</td>\n",
       "      <td>0.0</td>\n",
       "    </tr>\n",
       "    <tr>\n",
       "      <th>3</th>\n",
       "      <td>31.605330</td>\n",
       "      <td>39679.809850</td>\n",
       "      <td>0.000000</td>\n",
       "      <td>1.833333</td>\n",
       "      <td>0.305556</td>\n",
       "      <td>0.0</td>\n",
       "    </tr>\n",
       "  </tbody>\n",
       "</table>\n",
       "</div>"
      ],
      "text/plain": [
       "         age        income  is_female      kids  own_home  subscribe\n",
       "0  34.523881  41685.199147   0.542857  1.514286  0.314286        1.0\n",
       "1  54.862339  64589.811960   0.235955  0.157303  0.662921        0.0\n",
       "2  37.599396  49388.603148   1.000000  1.759615  0.394231        0.0\n",
       "3  31.605330  39679.809850   0.000000  1.833333  0.305556        0.0"
      ]
     },
     "execution_count": 106,
     "metadata": {},
     "output_type": "execute_result"
    }
   ],
   "source": [
    "import numpy as np\n",
    "from sklearn import cluster\n",
    "\n",
    "np.random.seed(536)\n",
    "centroids, labels, inertia = cluster.k_means(seg_sc, n_clusters=4)\n",
    "check_clusters(seg_sub, labels)"
   ]
  },
  {
   "cell_type": "code",
   "execution_count": 108,
   "id": "962e2eed",
   "metadata": {},
   "outputs": [
    {
     "name": "stdout",
     "output_type": "stream",
     "text": [
      "[(0, 55), (1, 96), (2, 107), (3, 42)]\n"
     ]
    },
    {
     "data": {
      "text/html": [
       "<div>\n",
       "<style scoped>\n",
       "    .dataframe tbody tr th:only-of-type {\n",
       "        vertical-align: middle;\n",
       "    }\n",
       "\n",
       "    .dataframe tbody tr th {\n",
       "        vertical-align: top;\n",
       "    }\n",
       "\n",
       "    .dataframe thead th {\n",
       "        text-align: right;\n",
       "    }\n",
       "</style>\n",
       "<table border=\"1\" class=\"dataframe\">\n",
       "  <thead>\n",
       "    <tr style=\"text-align: right;\">\n",
       "      <th></th>\n",
       "      <th>age</th>\n",
       "      <th>income</th>\n",
       "      <th>is_female</th>\n",
       "      <th>kids</th>\n",
       "      <th>own_home</th>\n",
       "      <th>subscribe</th>\n",
       "    </tr>\n",
       "  </thead>\n",
       "  <tbody>\n",
       "    <tr>\n",
       "      <th>0</th>\n",
       "      <td>27.809087</td>\n",
       "      <td>20457.938690</td>\n",
       "      <td>0.327273</td>\n",
       "      <td>1.072727</td>\n",
       "      <td>0.163636</td>\n",
       "      <td>0.200000</td>\n",
       "    </tr>\n",
       "    <tr>\n",
       "      <th>1</th>\n",
       "      <td>42.346106</td>\n",
       "      <td>60157.505981</td>\n",
       "      <td>0.541667</td>\n",
       "      <td>1.625000</td>\n",
       "      <td>0.447917</td>\n",
       "      <td>0.093750</td>\n",
       "    </tr>\n",
       "    <tr>\n",
       "      <th>2</th>\n",
       "      <td>41.993915</td>\n",
       "      <td>45566.356272</td>\n",
       "      <td>0.570093</td>\n",
       "      <td>1.373832</td>\n",
       "      <td>0.532710</td>\n",
       "      <td>0.130841</td>\n",
       "    </tr>\n",
       "    <tr>\n",
       "      <th>3</th>\n",
       "      <td>52.117381</td>\n",
       "      <td>81545.927332</td>\n",
       "      <td>0.309524</td>\n",
       "      <td>0.476190</td>\n",
       "      <td>0.571429</td>\n",
       "      <td>0.023810</td>\n",
       "    </tr>\n",
       "  </tbody>\n",
       "</table>\n",
       "</div>"
      ],
      "text/plain": [
       "         age        income  is_female      kids  own_home  subscribe\n",
       "0  27.809087  20457.938690   0.327273  1.072727  0.163636   0.200000\n",
       "1  42.346106  60157.505981   0.541667  1.625000  0.447917   0.093750\n",
       "2  41.993915  45566.356272   0.570093  1.373832  0.532710   0.130841\n",
       "3  52.117381  81545.927332   0.309524  0.476190  0.571429   0.023810"
      ]
     },
     "execution_count": 108,
     "metadata": {},
     "output_type": "execute_result"
    }
   ],
   "source": [
    "# 크기 조정되지 않은 데이터 이용\n",
    "# 4개의 그룹과 3개의 그룹\n",
    "\n",
    "centroids, k_labels_unscaled4, inertia = cluster.k_means(seg_sub, n_clusters=4)\n",
    "check_clusters(seg_sub, k_labels_unscaled4)"
   ]
  },
  {
   "cell_type": "code",
   "execution_count": 110,
   "id": "50ba6c34",
   "metadata": {},
   "outputs": [
    {
     "name": "stdout",
     "output_type": "stream",
     "text": [
      "[(0, 61), (1, 64), (2, 175)]\n"
     ]
    },
    {
     "data": {
      "text/html": [
       "<div>\n",
       "<style scoped>\n",
       "    .dataframe tbody tr th:only-of-type {\n",
       "        vertical-align: middle;\n",
       "    }\n",
       "\n",
       "    .dataframe tbody tr th {\n",
       "        vertical-align: top;\n",
       "    }\n",
       "\n",
       "    .dataframe thead th {\n",
       "        text-align: right;\n",
       "    }\n",
       "</style>\n",
       "<table border=\"1\" class=\"dataframe\">\n",
       "  <thead>\n",
       "    <tr style=\"text-align: right;\">\n",
       "      <th></th>\n",
       "      <th>age</th>\n",
       "      <th>income</th>\n",
       "      <th>is_female</th>\n",
       "      <th>kids</th>\n",
       "      <th>own_home</th>\n",
       "      <th>subscribe</th>\n",
       "    </tr>\n",
       "  </thead>\n",
       "  <tbody>\n",
       "    <tr>\n",
       "      <th>0</th>\n",
       "      <td>49.909555</td>\n",
       "      <td>77186.085839</td>\n",
       "      <td>0.377049</td>\n",
       "      <td>0.852459</td>\n",
       "      <td>0.491803</td>\n",
       "      <td>0.049180</td>\n",
       "    </tr>\n",
       "    <tr>\n",
       "      <th>1</th>\n",
       "      <td>29.635597</td>\n",
       "      <td>22520.530838</td>\n",
       "      <td>0.343750</td>\n",
       "      <td>1.109375</td>\n",
       "      <td>0.171875</td>\n",
       "      <td>0.187500</td>\n",
       "    </tr>\n",
       "    <tr>\n",
       "      <th>2</th>\n",
       "      <td>41.919108</td>\n",
       "      <td>51720.977493</td>\n",
       "      <td>0.565714</td>\n",
       "      <td>1.480000</td>\n",
       "      <td>0.525714</td>\n",
       "      <td>0.114286</td>\n",
       "    </tr>\n",
       "  </tbody>\n",
       "</table>\n",
       "</div>"
      ],
      "text/plain": [
       "         age        income  is_female      kids  own_home  subscribe\n",
       "0  49.909555  77186.085839   0.377049  0.852459  0.491803   0.049180\n",
       "1  29.635597  22520.530838   0.343750  1.109375  0.171875   0.187500\n",
       "2  41.919108  51720.977493   0.565714  1.480000  0.525714   0.114286"
      ]
     },
     "execution_count": 110,
     "metadata": {},
     "output_type": "execute_result"
    }
   ],
   "source": [
    "centroids, k_labels_unscaled3, inertia = cluster.k_means(seg_sub, n_clusters=3)\n",
    "check_clusters(seg_sub, k_labels_unscaled3)"
   ]
  },
  {
   "cell_type": "code",
   "execution_count": 112,
   "id": "126f2f5e",
   "metadata": {},
   "outputs": [
    {
     "data": {
      "text/plain": [
       "Text(0.5, 0.98, '')"
      ]
     },
     "execution_count": 112,
     "metadata": {},
     "output_type": "execute_result"
    },
    {
     "data": {
      "image/png": "[encoded data removed]",
      "text/plain": [
       "<Figure size 432x288 with 1 Axes>"
      ]
     },
     "metadata": {},
     "output_type": "display_data"
    }
   ],
   "source": [
    "# 상자 그림을 사용해 그룹 간의 소득 차이를 시각적으로 확인\n",
    "# 부문별 소득 차이가 크다는 것을 확인할 수 있음.\n",
    "\n",
    "import matplotlib.pyplot as plt\n",
    "seg_sub.boxplot(column='income', by=k_labels_unscaled4)\n",
    "plt.xlabel('Cluster')\n",
    "plt.ylabel('Income')\n",
    "plt.suptitle('')"
   ]
  },
  {
   "cell_type": "code",
   "execution_count": 114,
   "id": "ade9db98",
   "metadata": {},
   "outputs": [
    {
     "data": {
      "image/png": "[encoded data removed]",
      "text/plain": [
       "<Figure size 432x288 with 1 Axes>"
      ]
     },
     "metadata": {},
     "output_type": "display_data"
    }
   ],
   "source": [
    "# 차원 도명에 대해 도식화해 클러스터를 도식화하기\n",
    "# 주성분으로 차원 축소를 수행하는 함수를 작성한 다음 클러스터 구성원이 식별된 관측치를 도식화\n",
    "\n",
    "from sklearn import decomposition\n",
    "from matplotlib import cm\n",
    "\n",
    "def cluster_plot(data_df, labels):\n",
    "    p = decomposition.PCA(random_state=132, svd_solver='full')\n",
    "    scaled_transformation = p.fit_transform(preprocessing.scale(data_df))\n",
    "    \n",
    "    for l in np.unique(labels):\n",
    "        idx = np.where(labels==l)[0]\n",
    "        plt.scatter(\n",
    "            scaled_transformation[idx, 0],\n",
    "            scaled_transformation[idx, 1],\n",
    "            label=l\n",
    "        )\n",
    "        \n",
    "    plt.legend()\n",
    "    plt.title('First two components explain {}% of the variance'.format(round(100*p.explained_variance_ratio_[:2].sum())))\n",
    "    plt.xlabel('First principal component')\n",
    "    plt.ylabel('Second principal component')\n",
    "    \n",
    "cluster_plot(seg_sub, k_labels_unscaled4)"
   ]
  },
  {
   "cell_type": "code",
   "execution_count": 115,
   "id": "a24d7070",
   "metadata": {},
   "outputs": [],
   "source": [
    "# 예측 변수의 처음 두 주성분에 대해 색상별로 클러스터 할당을 표시\n",
    "# 그룹 1과 2는 크게 겹치는 반면, 그룹 0과 3은 더 차별화된다.\n",
    "# 이는 check_clusters()의 출력을 사용해 관찰한 것과 일치함."
   ]
  },
  {
   "cell_type": "code",
   "execution_count": 117,
   "id": "1421a10d",
   "metadata": {},
   "outputs": [],
   "source": [
    "# 여기 있는 그룹은 연령과 소득 같은 주요 변수에서 명확하게 구분됨.\n",
    "# 이 정보를 사용해 분석가는 그룹 구성원을 주요 변수와 상호 참조한 다음 그룹의 상대적 차별화를 볼 수 있음."
   ]
  },
  {
   "cell_type": "code",
   "execution_count": 118,
   "id": "361fbf61",
   "metadata": {},
   "outputs": [],
   "source": [
    "# 비즈니스 전략 제시\n",
    "# 1. 현재 그룹 3이 적당히 잘 구별돼 있고 평균 소득이 가장 높음\n",
    "#    이는 잠재적 캠페인의 좋은 타깃이 될 수 있음.\n",
    "# 2. 또한 구독률이 가장 높은 세그먼트로 그룹 0에 집중하고 시장을 성장시키는 방법을 이해해볼 수 있음.\n",
    "# 여기서의 핵심은 분석이 고려할 흥미로운 옵션을 제공해준다는 것이다."
   ]
  },
  {
   "cell_type": "markdown",
   "id": "5e46ec47",
   "metadata": {},
   "source": [
    "# 모델 기반 클러스터링(GaussianMixture())"
   ]
  },
  {
   "cell_type": "code",
   "execution_count": 120,
   "id": "18c79579",
   "metadata": {},
   "outputs": [],
   "source": [
    "# 핵심 아이디어는 통계적 분포가 다른 그룹 (예:다른 평균과 분산)에서 관측치를 가져온다는 것이다.\n",
    "# 알고리즘은 관찰된 데이터를 설명하기 위해 이러한 기본 분포의 최상의 집합을 찾으려고 한다. \n",
    "\n",
    "# 이러한 모델은 '혼합mixture 모델'이라고도 한다.\n",
    "# 데이터가 성분 component이라 불리는 서로 다른 그룹에서 추출한 관측치의 혼합을 반영한다고 가정하기 때문이다.\n",
    "\n",
    "# 각 관측치가 어떤 구성 요소에서 추출됐는지는 알 수 없다.\n",
    "# GaussianMixture() 모델은 관측치가 정규(가우스라고도 함) 분포의 혼합에서 추출됐다고 가정하며,\n",
    "# 기본 구성 요소 매개변수와 혼합 비율을 추정하려고 한다. "
   ]
  },
  {
   "cell_type": "code",
   "execution_count": 121,
   "id": "3fb418a2",
   "metadata": {},
   "outputs": [
    {
     "data": {
      "text/plain": [
       "7892.760423308908"
      ]
     },
     "execution_count": 121,
     "metadata": {},
     "output_type": "execute_result"
    }
   ],
   "source": [
    "# 어떻게 작동? -> 가장 일반적인 접근 방식은 기대 최대화 EM (expectation maximization) 알고리즘이라고 하며\n",
    "# 이는 k-mean에 사용되는 것과 유사하지만 반복적으로 중심을 추정하고 해당 중심으로부터의 거리를 사용해\n",
    "# 각 가우스 성분에 속할 각 점의 확률을 추정한다. (평균과 분산으로 정의)\n",
    "\n",
    "# 따라서 각 모델은 임의 매개변수로 시작해 알고리즘은 다음 단계를 반복\n",
    "# 할당: 각 관측치가 속할 가능성이 가장 높은 성분에 할당\n",
    "# 갱신: 할당된 포인트가 주어지면 각 성분에 대한 매개변수가 갱신\n",
    "\n",
    "# GaussianMixture()은 정규 분포로 데이터를 모델링하기 때문에 숫자 데이터만 사용\n",
    "# 모델은 GaussianMixture()에서 fit() 메서드를 사용해 추정되고 레이블은 predict() 메서드를 사용해 생성됨.\n",
    "from sklearn import mixture\n",
    "\n",
    "gmm4 = mixture.GaussianMixture(n_components=4,\n",
    "                               covariance_type='full',\n",
    "                               random_state=223).fit(seg_sub)\n",
    "\n",
    "gmmt_labels = gmm4.predict(seg_sub)\n",
    "gmm4.bic(seg_sub)"
   ]
  },
  {
   "cell_type": "code",
   "execution_count": 122,
   "id": "a2677757",
   "metadata": {},
   "outputs": [],
   "source": [
    "# GaussianMixture()은 모델 구성 요소의 수와 각 구성 요소 내의 공분산 구조를 입력으로 취함.\n",
    "# 앞에서는 각각 완전한 공분산 구조를 갖는 4개의 성분, 즉 4개의 그룹이나 클러스터로 모델을 적합화.\n",
    "# 이것은 확률 모델이므로 베이즈 정보 기분 BIC (bayesian information criterion)과 같이 모델 적합도를 측정할 수 있는 척도가 있음.\n",
    "\n",
    "# 예를 들어 성분 개수를 최족화해 모델을 최적화하는 목적 함수를 제공해줄 수 있음.\n",
    "# 또한 클러스터 할당은 확률적이므로 각 개별 포인트에 대한 모델 신뢰도를 검사할 수 있음."
   ]
  },
  {
   "cell_type": "code",
   "execution_count": 125,
   "id": "cc59b754",
   "metadata": {},
   "outputs": [
    {
     "data": {
      "text/plain": [
       "[<matplotlib.lines.Line2D at 0x7fad4923b580>]"
      ]
     },
     "execution_count": 125,
     "metadata": {},
     "output_type": "execute_result"
    },
    {
     "data": {
      "image/png": "[encoded data removed]",
      "text/plain": [
       "<Figure size 432x288 with 1 Axes>"
      ]
     },
     "metadata": {},
     "output_type": "display_data"
    }
   ],
   "source": [
    "# 먼저 최적의 클러스터 수를 결정. 다른 성분 개수의 모델을 적합화하며 BIC값을 비교해보면 됨.\n",
    "\n",
    "gmm_n_test = [mixture.GaussianMixture(n_components=n,\n",
    "                                      covariance_type='full',\n",
    "                                      random_state=323).fit(seg_sub) for n in range(1,14)]\n",
    "plt.plot(range(1,14), [g.bic(seg_sub) for g in gmm_n_test])"
   ]
  },
  {
   "cell_type": "code",
   "execution_count": 126,
   "id": "4179701d",
   "metadata": {},
   "outputs": [],
   "source": [
    "# BIC 값이 더 낮을수록 더 나은 모델 적합도를 의미\n",
    "# 위 그래프에서 4개의 성분이 최적이라는 것을 알 수 있지만,\n",
    "# 5개의 성분을 초과하면 BIC 값은 10개의 성분 개수에 도달할 때까지 계속 떨어지지 않음.\n",
    "# 좋은 적합도에 대한 BIC 값은 음수일 것으로 예상되며, 이는 이러한 모형 적합이 그다지 강력하지 않다는 것을 나타냄. "
   ]
  },
  {
   "cell_type": "code",
   "execution_count": 130,
   "id": "79f17c0e",
   "metadata": {},
   "outputs": [
    {
     "data": {
      "text/plain": [
       "<AxesSubplot:>"
      ]
     },
     "execution_count": 130,
     "metadata": {},
     "output_type": "execute_result"
    },
    {
     "data": {
      "image/png": "[encoded data removed]",
      "text/plain": [
       "<Figure size 720x720 with 1 Axes>"
      ]
     },
     "metadata": {},
     "output_type": "display_data"
    }
   ],
   "source": [
    "# 가우스 혼합 모델에서 선택해야만 하는 또 다른 특징은 공분산 유형.\n",
    "# 모델을 더 개선하기 위해 공분산 유형과 성분 개수를 모두 변경할 수 있음.\n",
    "\n",
    "# 여기서는 딕션너리 컴프리헨션 사용\n",
    "\n",
    "gmm_n_v_test = {v: [mixture.GaussianMixture(n_components=n, \n",
    "                                            covariance_type=v,\n",
    "                                            random_state=323).fit(seg_sub) for n in range(1,14)]\n",
    "                                                                               for v in ['full', 'tied', 'diag', 'spherical']}\n",
    "gmm_n_v_test_bic = {v:[g.bic(seg_sub) for g in m] for v,m in gmm_n_v_test.items()}\n",
    "pd.DataFrame(gmm_n_v_test_bic).plot(figsize=(10,10))\n",
    "\n",
    "\n",
    "\n"
   ]
  },
  {
   "cell_type": "code",
   "execution_count": 131,
   "id": "827e21b4",
   "metadata": {},
   "outputs": [
    {
     "name": "stdout",
     "output_type": "stream",
     "text": [
      "[(0, 4), (1, 129), (2, 32), (3, 114), (4, 21)]\n"
     ]
    },
    {
     "data": {
      "text/html": [
       "<div>\n",
       "<style scoped>\n",
       "    .dataframe tbody tr th:only-of-type {\n",
       "        vertical-align: middle;\n",
       "    }\n",
       "\n",
       "    .dataframe tbody tr th {\n",
       "        vertical-align: top;\n",
       "    }\n",
       "\n",
       "    .dataframe thead th {\n",
       "        text-align: right;\n",
       "    }\n",
       "</style>\n",
       "<table border=\"1\" class=\"dataframe\">\n",
       "  <thead>\n",
       "    <tr style=\"text-align: right;\">\n",
       "      <th></th>\n",
       "      <th>age</th>\n",
       "      <th>income</th>\n",
       "      <th>is_female</th>\n",
       "      <th>kids</th>\n",
       "      <th>own_home</th>\n",
       "      <th>subscribe</th>\n",
       "    </tr>\n",
       "  </thead>\n",
       "  <tbody>\n",
       "    <tr>\n",
       "      <th>0</th>\n",
       "      <td>52.523755</td>\n",
       "      <td>44005.211404</td>\n",
       "      <td>0.000000</td>\n",
       "      <td>0.500000</td>\n",
       "      <td>1.000000</td>\n",
       "      <td>1.0000</td>\n",
       "    </tr>\n",
       "    <tr>\n",
       "      <th>1</th>\n",
       "      <td>37.366073</td>\n",
       "      <td>52743.873543</td>\n",
       "      <td>0.581395</td>\n",
       "      <td>2.248062</td>\n",
       "      <td>0.465116</td>\n",
       "      <td>0.0000</td>\n",
       "    </tr>\n",
       "    <tr>\n",
       "      <th>2</th>\n",
       "      <td>23.630276</td>\n",
       "      <td>20251.707688</td>\n",
       "      <td>0.375000</td>\n",
       "      <td>1.593750</td>\n",
       "      <td>0.000000</td>\n",
       "      <td>0.3125</td>\n",
       "    </tr>\n",
       "    <tr>\n",
       "      <th>3</th>\n",
       "      <td>50.212110</td>\n",
       "      <td>56931.154434</td>\n",
       "      <td>0.385965</td>\n",
       "      <td>0.000000</td>\n",
       "      <td>0.543860</td>\n",
       "      <td>0.0000</td>\n",
       "    </tr>\n",
       "    <tr>\n",
       "      <th>4</th>\n",
       "      <td>36.492245</td>\n",
       "      <td>51554.737478</td>\n",
       "      <td>0.619048</td>\n",
       "      <td>1.857143</td>\n",
       "      <td>0.333333</td>\n",
       "      <td>1.0000</td>\n",
       "    </tr>\n",
       "  </tbody>\n",
       "</table>\n",
       "</div>"
      ],
      "text/plain": [
       "         age        income  is_female      kids  own_home  subscribe\n",
       "0  52.523755  44005.211404   0.000000  0.500000  1.000000     1.0000\n",
       "1  37.366073  52743.873543   0.581395  2.248062  0.465116     0.0000\n",
       "2  23.630276  20251.707688   0.375000  1.593750  0.000000     0.3125\n",
       "3  50.212110  56931.154434   0.385965  0.000000  0.543860     0.0000\n",
       "4  36.492245  51554.737478   0.619048  1.857143  0.333333     1.0000"
      ]
     },
     "execution_count": 131,
     "metadata": {},
     "output_type": "execute_result"
    }
   ],
   "source": [
    "# 전체 공분산이 아닌, 대각 공분산이 최적의 적합화를 보여줌.\n",
    "# 6개의 성분 개수는 적절해보임 \n",
    "\n",
    "gmm5 = mixture.GaussianMixture(n_components=5,\n",
    "                               covariance_type='diag',\n",
    "                               random_state=323).fit(seg_sub)\n",
    "gmm5_labels = gmm5.predict(seg_sub)\n",
    "\n",
    "check_clusters(seg_sub, gmm5_labels)"
   ]
  },
  {
   "cell_type": "code",
   "execution_count": 132,
   "id": "fb219980",
   "metadata": {},
   "outputs": [],
   "source": [
    "# 이러한 클러스터는 실행 가능해 보이지 않음.\n",
    "# why? 거의 모든 관측치가 그룹 2와 그룹 4에 쏠림\n",
    "\n",
    "# 이 두 그룹은 몇 가지 척도 구분되는데,\n",
    "# 특히 어린이들로 구분됨.\n",
    "# 그룹 4의 개개인은 자녀가 없는 반면, 그룹 0은 평균 2.24명의 자녀가 있음.\n",
    "# 다시 말해 자녀가 있는 개인과 없는 개인이 매우 중요한 세그먼트일 수 있다는 생각은 정확하고 비즈니스와 관련 있을 수 있지만,\n",
    "# 이를 찾기 위해 정교한 클러스터링 분석을 실제로 수행할 필요는 없음."
   ]
  },
  {
   "cell_type": "code",
   "execution_count": null,
   "id": "9765b7c1",
   "metadata": {},
   "outputs": [],
   "source": [
    "# 정리\n",
    "\n",
    "# 다른 기법은 다른 솔루션을 산출할 가능성이 높으면 일반적으로 절대적인 정답은 없음\n",
    "# 잠재적 클러스터 수를 달리하는 여러 클러스터링 방법을 시도해보기를 권장\n",
    "\n",
    "# 세그멘테이션의 결과는 주로 비즈니스 가치에 관한 것이며, 솔루션은 모델 적합성(예: BIC)과 \n",
    "# 비즈니스 유용성 측면에서 평가돼야 함.\n",
    "# 모델 적합성은 중요한 기준이면 간과해서는 안 되지만, 궁극적으로 이해관계자가 답변을 전달하고 사용할 수 있어야 함."
   ]
  },
  {
   "cell_type": "code",
   "execution_count": null,
   "id": "880fbe13",
   "metadata": {},
   "outputs": [],
   "source": []
  },
  {
   "cell_type": "code",
   "execution_count": null,
   "id": "89ee1318",
   "metadata": {},
   "outputs": [],
   "source": []
  },
  {
   "cell_type": "code",
   "execution_count": null,
   "id": "427a9a6e",
   "metadata": {},
   "outputs": [],
   "source": []
  },
  {
   "cell_type": "code",
   "execution_count": null,
   "id": "b1b2a5d3",
   "metadata": {},
   "outputs": [],
   "source": []
  },
  {
   "cell_type": "code",
   "execution_count": null,
   "id": "8f4cf528",
   "metadata": {},
   "outputs": [],
   "source": []
  },
  {
   "cell_type": "code",
   "execution_count": null,
   "id": "fc88ad55",
   "metadata": {},
   "outputs": [],
   "source": []
  },
  {
   "cell_type": "code",
   "execution_count": null,
   "id": "440f4cd0",
   "metadata": {},
   "outputs": [],
   "source": []
  },
  {
   "cell_type": "code",
   "execution_count": null,
   "id": "6f23bcc1",
   "metadata": {},
   "outputs": [],
   "source": []
  },
  {
   "cell_type": "code",
   "execution_count": null,
   "id": "a3b09b7c",
   "metadata": {},
   "outputs": [],
   "source": []
  },
  {
   "cell_type": "code",
   "execution_count": null,
   "id": "47f25444",
   "metadata": {},
   "outputs": [],
   "source": []
  },
  {
   "cell_type": "code",
   "execution_count": null,
   "id": "c1636046",
   "metadata": {},
   "outputs": [],
   "source": []
  },
  {
   "cell_type": "code",
   "execution_count": null,
   "id": "91ab8bbc",
   "metadata": {},
   "outputs": [],
   "source": []
  },
  {
   "cell_type": "code",
   "execution_count": null,
   "id": "6a785267",
   "metadata": {},
   "outputs": [],
   "source": []
  },
  {
   "cell_type": "code",
   "execution_count": null,
   "id": "ef5ea5ff",
   "metadata": {},
   "outputs": [],
   "source": []
  },
  {
   "cell_type": "code",
   "execution_count": null,
   "id": "f27bb79a",
   "metadata": {},
   "outputs": [],
   "source": []
  },
  {
   "cell_type": "code",
   "execution_count": null,
   "id": "c1756554",
   "metadata": {},
   "outputs": [],
   "source": []
  },
  {
   "cell_type": "code",
   "execution_count": null,
   "id": "2b483a40",
   "metadata": {},
   "outputs": [],
   "source": []
  },
  {
   "cell_type": "code",
   "execution_count": null,
   "id": "aa36b773",
   "metadata": {},
   "outputs": [],
   "source": []
  },
  {
   "cell_type": "code",
   "execution_count": null,
   "id": "f1d06a71",
   "metadata": {},
   "outputs": [],
   "source": []
  },
  {
   "cell_type": "code",
   "execution_count": null,
   "id": "79c646f2",
   "metadata": {},
   "outputs": [],
   "source": []
  },
  {
   "cell_type": "code",
   "execution_count": null,
   "id": "e1c28bf9",
   "metadata": {},
   "outputs": [],
   "source": []
  },
  {
   "cell_type": "code",
   "execution_count": null,
   "id": "8a68e34d",
   "metadata": {},
   "outputs": [],
   "source": []
  },
  {
   "cell_type": "code",
   "execution_count": null,
   "id": "f10e991f",
   "metadata": {},
   "outputs": [],
   "source": []
  },
  {
   "cell_type": "code",
   "execution_count": null,
   "id": "8fa6324a",
   "metadata": {},
   "outputs": [],
   "source": []
  }
 ],
 "metadata": {
  "kernelspec": {
   "display_name": "Python 3 (ipykernel)",
   "language": "python",
   "name": "python3"
  },
  "language_info": {
   "codemirror_mode": {
    "name": "ipython",
    "version": 3
   },
   "file_extension": ".py",
   "mimetype": "text/x-python",
   "name": "python",
   "nbconvert_exporter": "python",
   "pygments_lexer": "ipython3",
   "version": "3.9.12"
  },
  "toc": {
   "base_numbering": 1,
   "nav_menu": {},
   "number_sections": true,
   "sideBar": true,
   "skip_h1_title": false,
   "title_cell": "Table of Contents",
   "title_sidebar": "Contents",
   "toc_cell": false,
   "toc_position": {},
   "toc_section_display": true,
   "toc_window_display": false
  },
  "varInspector": {
   "cols": {
    "lenName": 16,
    "lenType": 16,
    "lenVar": 40
   },
   "kernels_config": {
    "python": {
     "delete_cmd_postfix": "",
     "delete_cmd_prefix": "del ",
     "library": "var_list.py",
     "varRefreshCmd": "print(var_dic_list())"
    },
    "r": {
     "delete_cmd_postfix": ") ",
     "delete_cmd_prefix": "rm(",
     "library": "var_list.r",
     "varRefreshCmd": "cat(var_dic_list()) "
    }
   },
   "types_to_exclude": [
    "module",
    "function",
    "builtin_function_or_method",
    "instance",
    "_Feature"
   ],
   "window_display": false
  }
 },
 "nbformat": 4,
 "nbformat_minor": 5
}
