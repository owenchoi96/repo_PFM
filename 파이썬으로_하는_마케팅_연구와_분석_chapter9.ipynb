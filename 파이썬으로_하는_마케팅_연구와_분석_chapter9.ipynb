{
 "cells": [
  {
   "cell_type": "code",
   "execution_count": null,
   "id": "bd3966b3",
   "metadata": {},
   "outputs": [],
   "source": [
    "# 데이터 복잡도 줄이기\n",
    "# 데이터를 기본 차원으로 줄일 수만 있다면 개념 간의 기본 관계를 좀 더 명확하게 식별할 수 있다.\n",
    "\n",
    "# 데이터의 차원 수를 줄여 데이터 복잡성을 줄이는 세 가지 일반적인 방법\n",
    "# 1. 주성분 분석 PCA : 데이터의 최대 분산을 포착하는 상관되지 않은 선형 차원을 찾기\n",
    "# 2. 탐색적 요인 분석 EFA: 원시 변수 측면에서 차원을 해석 할 수 있도록 하면서 소수의 차원으로 분산을 포착하려고 시도\n",
    "# 3. 다차원 스케일링 MDS은 2차원 도면과 같은 저차원 공간 측면에서 관측치 간의 유사성을 매핑\n",
    "#    MDS는 측도 데이터와 범주형 또는 서수 (ordinal) 데이터와 같은 비측도 데이터와 함꼐 작동할 수 있음."
   ]
  },
  {
   "cell_type": "markdown",
   "id": "0f50946d",
   "metadata": {},
   "source": [
    "# 소비자 브랜드 평가 데이터"
   ]
  },
  {
   "cell_type": "code",
   "execution_count": 1,
   "id": "c27e930e",
   "metadata": {},
   "outputs": [
    {
     "data": {
      "text/html": [
       "<div>\n",
       "<style scoped>\n",
       "    .dataframe tbody tr th:only-of-type {\n",
       "        vertical-align: middle;\n",
       "    }\n",
       "\n",
       "    .dataframe tbody tr th {\n",
       "        vertical-align: top;\n",
       "    }\n",
       "\n",
       "    .dataframe thead th {\n",
       "        text-align: right;\n",
       "    }\n",
       "</style>\n",
       "<table border=\"1\" class=\"dataframe\">\n",
       "  <thead>\n",
       "    <tr style=\"text-align: right;\">\n",
       "      <th></th>\n",
       "      <th>perform</th>\n",
       "      <th>leader</th>\n",
       "      <th>latest</th>\n",
       "      <th>fun</th>\n",
       "      <th>serious</th>\n",
       "      <th>bargain</th>\n",
       "      <th>value</th>\n",
       "      <th>trendy</th>\n",
       "      <th>rebuy</th>\n",
       "      <th>brand</th>\n",
       "    </tr>\n",
       "  </thead>\n",
       "  <tbody>\n",
       "    <tr>\n",
       "      <th>0</th>\n",
       "      <td>2</td>\n",
       "      <td>4</td>\n",
       "      <td>8</td>\n",
       "      <td>8</td>\n",
       "      <td>2</td>\n",
       "      <td>9</td>\n",
       "      <td>7</td>\n",
       "      <td>4</td>\n",
       "      <td>6</td>\n",
       "      <td>a</td>\n",
       "    </tr>\n",
       "    <tr>\n",
       "      <th>1</th>\n",
       "      <td>1</td>\n",
       "      <td>1</td>\n",
       "      <td>4</td>\n",
       "      <td>7</td>\n",
       "      <td>1</td>\n",
       "      <td>1</td>\n",
       "      <td>1</td>\n",
       "      <td>2</td>\n",
       "      <td>2</td>\n",
       "      <td>a</td>\n",
       "    </tr>\n",
       "    <tr>\n",
       "      <th>2</th>\n",
       "      <td>2</td>\n",
       "      <td>3</td>\n",
       "      <td>5</td>\n",
       "      <td>9</td>\n",
       "      <td>2</td>\n",
       "      <td>9</td>\n",
       "      <td>5</td>\n",
       "      <td>1</td>\n",
       "      <td>6</td>\n",
       "      <td>a</td>\n",
       "    </tr>\n",
       "    <tr>\n",
       "      <th>3</th>\n",
       "      <td>1</td>\n",
       "      <td>6</td>\n",
       "      <td>10</td>\n",
       "      <td>8</td>\n",
       "      <td>3</td>\n",
       "      <td>4</td>\n",
       "      <td>5</td>\n",
       "      <td>2</td>\n",
       "      <td>1</td>\n",
       "      <td>a</td>\n",
       "    </tr>\n",
       "    <tr>\n",
       "      <th>4</th>\n",
       "      <td>1</td>\n",
       "      <td>1</td>\n",
       "      <td>5</td>\n",
       "      <td>8</td>\n",
       "      <td>1</td>\n",
       "      <td>9</td>\n",
       "      <td>9</td>\n",
       "      <td>1</td>\n",
       "      <td>1</td>\n",
       "      <td>a</td>\n",
       "    </tr>\n",
       "  </tbody>\n",
       "</table>\n",
       "</div>"
      ],
      "text/plain": [
       "   perform  leader  latest  fun  serious  bargain  value  trendy  rebuy brand\n",
       "0        2       4       8    8        2        9      7       4      6     a\n",
       "1        1       1       4    7        1        1      1       2      2     a\n",
       "2        2       3       5    9        2        9      5       1      6     a\n",
       "3        1       6      10    8        3        4      5       2      1     a\n",
       "4        1       1       5    8        1        9      9       1      1     a"
      ]
     },
     "execution_count": 1,
     "metadata": {},
     "output_type": "execute_result"
    }
   ],
   "source": [
    "import pandas as pd\n",
    "brand_ratings = pd.read_csv('http://bit.ly/PMR-ch9')\n",
    "brand_ratings.head()"
   ]
  },
  {
   "cell_type": "code",
   "execution_count": 2,
   "id": "1c652d2d",
   "metadata": {},
   "outputs": [
    {
     "data": {
      "text/html": [
       "<div>\n",
       "<style scoped>\n",
       "    .dataframe tbody tr th:only-of-type {\n",
       "        vertical-align: middle;\n",
       "    }\n",
       "\n",
       "    .dataframe tbody tr th {\n",
       "        vertical-align: top;\n",
       "    }\n",
       "\n",
       "    .dataframe thead th {\n",
       "        text-align: right;\n",
       "    }\n",
       "</style>\n",
       "<table border=\"1\" class=\"dataframe\">\n",
       "  <thead>\n",
       "    <tr style=\"text-align: right;\">\n",
       "      <th></th>\n",
       "      <th>perform</th>\n",
       "      <th>leader</th>\n",
       "      <th>latest</th>\n",
       "      <th>fun</th>\n",
       "      <th>serious</th>\n",
       "      <th>bargain</th>\n",
       "      <th>value</th>\n",
       "      <th>trendy</th>\n",
       "      <th>rebuy</th>\n",
       "      <th>brand</th>\n",
       "    </tr>\n",
       "  </thead>\n",
       "  <tbody>\n",
       "    <tr>\n",
       "      <th>995</th>\n",
       "      <td>2</td>\n",
       "      <td>2</td>\n",
       "      <td>3</td>\n",
       "      <td>6</td>\n",
       "      <td>4</td>\n",
       "      <td>8</td>\n",
       "      <td>5</td>\n",
       "      <td>1</td>\n",
       "      <td>2</td>\n",
       "      <td>j</td>\n",
       "    </tr>\n",
       "    <tr>\n",
       "      <th>996</th>\n",
       "      <td>3</td>\n",
       "      <td>2</td>\n",
       "      <td>6</td>\n",
       "      <td>7</td>\n",
       "      <td>1</td>\n",
       "      <td>3</td>\n",
       "      <td>3</td>\n",
       "      <td>2</td>\n",
       "      <td>1</td>\n",
       "      <td>j</td>\n",
       "    </tr>\n",
       "    <tr>\n",
       "      <th>997</th>\n",
       "      <td>1</td>\n",
       "      <td>1</td>\n",
       "      <td>10</td>\n",
       "      <td>10</td>\n",
       "      <td>1</td>\n",
       "      <td>6</td>\n",
       "      <td>5</td>\n",
       "      <td>5</td>\n",
       "      <td>2</td>\n",
       "      <td>j</td>\n",
       "    </tr>\n",
       "    <tr>\n",
       "      <th>998</th>\n",
       "      <td>1</td>\n",
       "      <td>1</td>\n",
       "      <td>7</td>\n",
       "      <td>5</td>\n",
       "      <td>1</td>\n",
       "      <td>1</td>\n",
       "      <td>2</td>\n",
       "      <td>5</td>\n",
       "      <td>1</td>\n",
       "      <td>j</td>\n",
       "    </tr>\n",
       "    <tr>\n",
       "      <th>999</th>\n",
       "      <td>7</td>\n",
       "      <td>4</td>\n",
       "      <td>7</td>\n",
       "      <td>8</td>\n",
       "      <td>4</td>\n",
       "      <td>1</td>\n",
       "      <td>2</td>\n",
       "      <td>5</td>\n",
       "      <td>1</td>\n",
       "      <td>j</td>\n",
       "    </tr>\n",
       "  </tbody>\n",
       "</table>\n",
       "</div>"
      ],
      "text/plain": [
       "     perform  leader  latest  fun  serious  bargain  value  trendy  rebuy  \\\n",
       "995        2       2       3    6        4        8      5       1      2   \n",
       "996        3       2       6    7        1        3      3       2      1   \n",
       "997        1       1      10   10        1        6      5       5      2   \n",
       "998        1       1       7    5        1        1      2       5      1   \n",
       "999        7       4       7    8        4        1      2       5      1   \n",
       "\n",
       "    brand  \n",
       "995     j  \n",
       "996     j  \n",
       "997     j  \n",
       "998     j  \n",
       "999     j  "
      ]
     },
     "execution_count": 2,
     "metadata": {},
     "output_type": "execute_result"
    }
   ],
   "source": [
    "brand_ratings.tail()"
   ]
  },
  {
   "cell_type": "code",
   "execution_count": 4,
   "id": "a1f6c0e5",
   "metadata": {},
   "outputs": [
    {
     "data": {
      "text/html": [
       "<div>\n",
       "<style scoped>\n",
       "    .dataframe tbody tr th:only-of-type {\n",
       "        vertical-align: middle;\n",
       "    }\n",
       "\n",
       "    .dataframe tbody tr th {\n",
       "        vertical-align: top;\n",
       "    }\n",
       "\n",
       "    .dataframe thead th {\n",
       "        text-align: right;\n",
       "    }\n",
       "</style>\n",
       "<table border=\"1\" class=\"dataframe\">\n",
       "  <thead>\n",
       "    <tr style=\"text-align: right;\">\n",
       "      <th></th>\n",
       "      <th>perform</th>\n",
       "      <th>leader</th>\n",
       "      <th>latest</th>\n",
       "      <th>fun</th>\n",
       "      <th>serious</th>\n",
       "      <th>bargain</th>\n",
       "      <th>value</th>\n",
       "      <th>trendy</th>\n",
       "      <th>rebuy</th>\n",
       "    </tr>\n",
       "  </thead>\n",
       "  <tbody>\n",
       "    <tr>\n",
       "      <th>count</th>\n",
       "      <td>1000.000000</td>\n",
       "      <td>1000.000000</td>\n",
       "      <td>1000.000000</td>\n",
       "      <td>1000.00000</td>\n",
       "      <td>1000.000000</td>\n",
       "      <td>1000.000000</td>\n",
       "      <td>1000.00000</td>\n",
       "      <td>1000.000000</td>\n",
       "      <td>1000.000000</td>\n",
       "    </tr>\n",
       "    <tr>\n",
       "      <th>mean</th>\n",
       "      <td>4.488000</td>\n",
       "      <td>4.417000</td>\n",
       "      <td>6.195000</td>\n",
       "      <td>6.06800</td>\n",
       "      <td>4.323000</td>\n",
       "      <td>4.259000</td>\n",
       "      <td>4.33700</td>\n",
       "      <td>5.220000</td>\n",
       "      <td>3.727000</td>\n",
       "    </tr>\n",
       "    <tr>\n",
       "      <th>std</th>\n",
       "      <td>3.203454</td>\n",
       "      <td>2.608432</td>\n",
       "      <td>3.078059</td>\n",
       "      <td>2.74425</td>\n",
       "      <td>2.778199</td>\n",
       "      <td>2.667027</td>\n",
       "      <td>2.39858</td>\n",
       "      <td>2.742101</td>\n",
       "      <td>2.544592</td>\n",
       "    </tr>\n",
       "    <tr>\n",
       "      <th>min</th>\n",
       "      <td>1.000000</td>\n",
       "      <td>1.000000</td>\n",
       "      <td>1.000000</td>\n",
       "      <td>1.00000</td>\n",
       "      <td>1.000000</td>\n",
       "      <td>1.000000</td>\n",
       "      <td>1.00000</td>\n",
       "      <td>1.000000</td>\n",
       "      <td>1.000000</td>\n",
       "    </tr>\n",
       "    <tr>\n",
       "      <th>25%</th>\n",
       "      <td>1.000000</td>\n",
       "      <td>2.000000</td>\n",
       "      <td>4.000000</td>\n",
       "      <td>4.00000</td>\n",
       "      <td>2.000000</td>\n",
       "      <td>2.000000</td>\n",
       "      <td>2.00000</td>\n",
       "      <td>3.000000</td>\n",
       "      <td>1.000000</td>\n",
       "    </tr>\n",
       "    <tr>\n",
       "      <th>50%</th>\n",
       "      <td>4.000000</td>\n",
       "      <td>4.000000</td>\n",
       "      <td>7.000000</td>\n",
       "      <td>6.00000</td>\n",
       "      <td>4.000000</td>\n",
       "      <td>4.000000</td>\n",
       "      <td>4.00000</td>\n",
       "      <td>5.000000</td>\n",
       "      <td>3.000000</td>\n",
       "    </tr>\n",
       "    <tr>\n",
       "      <th>75%</th>\n",
       "      <td>7.000000</td>\n",
       "      <td>6.000000</td>\n",
       "      <td>9.000000</td>\n",
       "      <td>8.00000</td>\n",
       "      <td>6.000000</td>\n",
       "      <td>6.000000</td>\n",
       "      <td>6.00000</td>\n",
       "      <td>7.000000</td>\n",
       "      <td>5.000000</td>\n",
       "    </tr>\n",
       "    <tr>\n",
       "      <th>max</th>\n",
       "      <td>10.000000</td>\n",
       "      <td>10.000000</td>\n",
       "      <td>10.000000</td>\n",
       "      <td>10.00000</td>\n",
       "      <td>10.000000</td>\n",
       "      <td>10.000000</td>\n",
       "      <td>10.00000</td>\n",
       "      <td>10.000000</td>\n",
       "      <td>10.000000</td>\n",
       "    </tr>\n",
       "  </tbody>\n",
       "</table>\n",
       "</div>"
      ],
      "text/plain": [
       "           perform       leader       latest         fun      serious  \\\n",
       "count  1000.000000  1000.000000  1000.000000  1000.00000  1000.000000   \n",
       "mean      4.488000     4.417000     6.195000     6.06800     4.323000   \n",
       "std       3.203454     2.608432     3.078059     2.74425     2.778199   \n",
       "min       1.000000     1.000000     1.000000     1.00000     1.000000   \n",
       "25%       1.000000     2.000000     4.000000     4.00000     2.000000   \n",
       "50%       4.000000     4.000000     7.000000     6.00000     4.000000   \n",
       "75%       7.000000     6.000000     9.000000     8.00000     6.000000   \n",
       "max      10.000000    10.000000    10.000000    10.00000    10.000000   \n",
       "\n",
       "           bargain       value       trendy        rebuy  \n",
       "count  1000.000000  1000.00000  1000.000000  1000.000000  \n",
       "mean      4.259000     4.33700     5.220000     3.727000  \n",
       "std       2.667027     2.39858     2.742101     2.544592  \n",
       "min       1.000000     1.00000     1.000000     1.000000  \n",
       "25%       2.000000     2.00000     3.000000     1.000000  \n",
       "50%       4.000000     4.00000     5.000000     3.000000  \n",
       "75%       6.000000     6.00000     7.000000     5.000000  \n",
       "max      10.000000    10.00000    10.000000    10.000000  "
      ]
     },
     "execution_count": 4,
     "metadata": {},
     "output_type": "execute_result"
    }
   ],
   "source": [
    "# describe()로 데이터의 품질과 구조 확인\n",
    "brand_ratings.describe()"
   ]
  },
  {
   "cell_type": "code",
   "execution_count": 5,
   "id": "b66d68c7",
   "metadata": {},
   "outputs": [
    {
     "data": {
      "text/plain": [
       "<AxesSubplot:>"
      ]
     },
     "execution_count": 5,
     "metadata": {},
     "output_type": "execute_result"
    },
    {
     "data": {
      "image/png": "[encoded data removed]",
      "text/plain": [
       "<Figure size 432x288 with 1 Axes>"
      ]
     },
     "metadata": {
      "needs_background": "light"
     },
     "output_type": "display_data"
    }
   ],
   "source": [
    "brand_ratings.plot.box()"
   ]
  },
  {
   "cell_type": "markdown",
   "id": "d6e89791",
   "metadata": {},
   "source": [
    "## 원시 데이터 크기 조정"
   ]
  },
  {
   "cell_type": "code",
   "execution_count": 9,
   "id": "3ab52b36",
   "metadata": {},
   "outputs": [
    {
     "data": {
      "text/html": [
       "<div>\n",
       "<style scoped>\n",
       "    .dataframe tbody tr th:only-of-type {\n",
       "        vertical-align: middle;\n",
       "    }\n",
       "\n",
       "    .dataframe tbody tr th {\n",
       "        vertical-align: top;\n",
       "    }\n",
       "\n",
       "    .dataframe thead th {\n",
       "        text-align: right;\n",
       "    }\n",
       "</style>\n",
       "<table border=\"1\" class=\"dataframe\">\n",
       "  <thead>\n",
       "    <tr style=\"text-align: right;\">\n",
       "      <th></th>\n",
       "      <th>perform</th>\n",
       "      <th>leader</th>\n",
       "      <th>latest</th>\n",
       "      <th>fun</th>\n",
       "      <th>serious</th>\n",
       "      <th>bargain</th>\n",
       "      <th>value</th>\n",
       "      <th>trendy</th>\n",
       "      <th>rebuy</th>\n",
       "    </tr>\n",
       "  </thead>\n",
       "  <tbody>\n",
       "    <tr>\n",
       "      <th>count</th>\n",
       "      <td>1000.00</td>\n",
       "      <td>1000.00</td>\n",
       "      <td>1000.00</td>\n",
       "      <td>1000.00</td>\n",
       "      <td>1000.00</td>\n",
       "      <td>1000.00</td>\n",
       "      <td>1000.00</td>\n",
       "      <td>1000.00</td>\n",
       "      <td>1000.00</td>\n",
       "    </tr>\n",
       "    <tr>\n",
       "      <th>mean</th>\n",
       "      <td>-0.00</td>\n",
       "      <td>0.00</td>\n",
       "      <td>-0.00</td>\n",
       "      <td>0.00</td>\n",
       "      <td>-0.00</td>\n",
       "      <td>-0.00</td>\n",
       "      <td>-0.00</td>\n",
       "      <td>-0.00</td>\n",
       "      <td>0.00</td>\n",
       "    </tr>\n",
       "    <tr>\n",
       "      <th>std</th>\n",
       "      <td>1.00</td>\n",
       "      <td>1.00</td>\n",
       "      <td>1.00</td>\n",
       "      <td>1.00</td>\n",
       "      <td>1.00</td>\n",
       "      <td>1.00</td>\n",
       "      <td>1.00</td>\n",
       "      <td>1.00</td>\n",
       "      <td>1.00</td>\n",
       "    </tr>\n",
       "    <tr>\n",
       "      <th>min</th>\n",
       "      <td>-1.09</td>\n",
       "      <td>-1.31</td>\n",
       "      <td>-1.69</td>\n",
       "      <td>-1.85</td>\n",
       "      <td>-1.20</td>\n",
       "      <td>-1.22</td>\n",
       "      <td>-1.39</td>\n",
       "      <td>-1.54</td>\n",
       "      <td>-1.07</td>\n",
       "    </tr>\n",
       "    <tr>\n",
       "      <th>25%</th>\n",
       "      <td>-1.09</td>\n",
       "      <td>-0.93</td>\n",
       "      <td>-0.71</td>\n",
       "      <td>-0.75</td>\n",
       "      <td>-0.84</td>\n",
       "      <td>-0.85</td>\n",
       "      <td>-0.97</td>\n",
       "      <td>-0.81</td>\n",
       "      <td>-1.07</td>\n",
       "    </tr>\n",
       "    <tr>\n",
       "      <th>50%</th>\n",
       "      <td>-0.15</td>\n",
       "      <td>-0.16</td>\n",
       "      <td>0.26</td>\n",
       "      <td>-0.02</td>\n",
       "      <td>-0.12</td>\n",
       "      <td>-0.10</td>\n",
       "      <td>-0.14</td>\n",
       "      <td>-0.08</td>\n",
       "      <td>-0.29</td>\n",
       "    </tr>\n",
       "    <tr>\n",
       "      <th>75%</th>\n",
       "      <td>0.78</td>\n",
       "      <td>0.61</td>\n",
       "      <td>0.91</td>\n",
       "      <td>0.70</td>\n",
       "      <td>0.60</td>\n",
       "      <td>0.65</td>\n",
       "      <td>0.69</td>\n",
       "      <td>0.65</td>\n",
       "      <td>0.50</td>\n",
       "    </tr>\n",
       "    <tr>\n",
       "      <th>max</th>\n",
       "      <td>1.72</td>\n",
       "      <td>2.14</td>\n",
       "      <td>1.24</td>\n",
       "      <td>1.43</td>\n",
       "      <td>2.04</td>\n",
       "      <td>2.15</td>\n",
       "      <td>2.36</td>\n",
       "      <td>1.74</td>\n",
       "      <td>2.47</td>\n",
       "    </tr>\n",
       "  </tbody>\n",
       "</table>\n",
       "</div>"
      ],
      "text/plain": [
       "       perform   leader   latest      fun  serious  bargain    value   trendy  \\\n",
       "count  1000.00  1000.00  1000.00  1000.00  1000.00  1000.00  1000.00  1000.00   \n",
       "mean     -0.00     0.00    -0.00     0.00    -0.00    -0.00    -0.00    -0.00   \n",
       "std       1.00     1.00     1.00     1.00     1.00     1.00     1.00     1.00   \n",
       "min      -1.09    -1.31    -1.69    -1.85    -1.20    -1.22    -1.39    -1.54   \n",
       "25%      -1.09    -0.93    -0.71    -0.75    -0.84    -0.85    -0.97    -0.81   \n",
       "50%      -0.15    -0.16     0.26    -0.02    -0.12    -0.10    -0.14    -0.08   \n",
       "75%       0.78     0.61     0.91     0.70     0.60     0.65     0.69     0.65   \n",
       "max       1.72     2.14     1.24     1.43     2.04     2.15     2.36     1.74   \n",
       "\n",
       "         rebuy  \n",
       "count  1000.00  \n",
       "mean      0.00  \n",
       "std       1.00  \n",
       "min      -1.07  \n",
       "25%      -1.07  \n",
       "50%      -0.29  \n",
       "75%       0.50  \n",
       "max       2.47  "
      ]
     },
     "execution_count": 9,
     "metadata": {},
     "output_type": "execute_result"
    },
    {
     "data": {
      "image/png": "[encoded data removed]",
      "text/plain": [
       "<Figure size 432x288 with 1 Axes>"
      ]
     },
     "metadata": {
      "needs_background": "light"
     },
     "output_type": "display_data"
    }
   ],
   "source": [
    "# 원시 데이터는 크기를 조정하는 것이 좋음\n",
    "# 이를 통해 개인과 샘플 간에 데이터를 더 비교할 수 있음.\n",
    "\n",
    "# 일반적으로는 (x - x.mean())/x.std()\n",
    "# 더 간단하게는 sklearn.preprocessing.scale() 사용\n",
    "\n",
    "from sklearn.preprocessing import scale\n",
    "brand_ratings_sc = brand_ratings.copy()\n",
    "brand_ratings_sc.iloc[:, :-1] = scale(brand_ratings_sc.iloc[:,:-1])\n",
    "brand_ratings_sc.plot.box()\n",
    "brand_ratings_sc.describe().round(2)"
   ]
  },
  {
   "cell_type": "code",
   "execution_count": 10,
   "id": "f3084042",
   "metadata": {},
   "outputs": [],
   "source": [
    "# 초기 탐색에서는 확장되지 않은 데이터를 사용한다. \n",
    "# 해석하기 쉽기 때문에 일반적으로 크기 조정되지 않은 데이터로 시작하는 것이 좋다.\n",
    "\n",
    "# 하지만, 변수 간의 척도 차이는 분석을 복잡하게 만들 수 있다.\n",
    "# 실제로는 일반적으로 크기 조정되지 않은 데이터와 크기 조정된 데이터에 대해 전체 분석을 실행하고 둘다 평가\n",
    "# 크기 조정된 데이터는 작업하기에 안전함\n",
    "\n",
    "# 크기 조정 x -> 차원 축소 분석을 시작할 때 크기 조정된 데이터 이용"
   ]
  },
  {
   "cell_type": "markdown",
   "id": "be155d4d",
   "metadata": {},
   "source": [
    "## 속성 간의 상관관계"
   ]
  },
  {
   "cell_type": "code",
   "execution_count": 11,
   "id": "64201507",
   "metadata": {},
   "outputs": [],
   "source": [
    "import seaborn as sns\n",
    "import matplotlib.pyplot as plt"
   ]
  },
  {
   "cell_type": "code",
   "execution_count": 12,
   "id": "da9e54d3",
   "metadata": {},
   "outputs": [
    {
     "data": {
      "text/plain": [
       "<seaborn.matrix.ClusterGrid at 0x7fee37d8bee0>"
      ]
     },
     "execution_count": 12,
     "metadata": {},
     "output_type": "execute_result"
    },
    {
     "data": {
      "image/png": "[encoded data removed]",
      "text/plain": [
       "<Figure size 720x720 with 4 Axes>"
      ]
     },
     "metadata": {
      "needs_background": "light"
     },
     "output_type": "display_data"
    }
   ],
   "source": [
    "# heatmap 대신 클러스터 맵을을 이용하여\n",
    "# 계층적 클러스터 솔루션에서 변수의 유사성에 따라 행과 열을 재정렬해 서로 가까운 형용사가 인접하게 표시되도록 하기.\n",
    "# 여기서는 세 군집으로 그룹화되는 것으로 보임.\n",
    "\n",
    "sns.clustermap(\n",
    "    brand_ratings.corr(),\n",
    "    annot=True,\n",
    "    fmt='.2f',\n",
    "    cmap=plt.cm.bwr\n",
    ")"
   ]
  },
  {
   "cell_type": "markdown",
   "id": "ecfbb561",
   "metadata": {},
   "source": [
    "## 브랜드별 종합 평균 등급"
   ]
  },
  {
   "cell_type": "code",
   "execution_count": 13,
   "id": "a6793392",
   "metadata": {},
   "outputs": [
    {
     "data": {
      "text/html": [
       "<div>\n",
       "<style scoped>\n",
       "    .dataframe tbody tr th:only-of-type {\n",
       "        vertical-align: middle;\n",
       "    }\n",
       "\n",
       "    .dataframe tbody tr th {\n",
       "        vertical-align: top;\n",
       "    }\n",
       "\n",
       "    .dataframe thead th {\n",
       "        text-align: right;\n",
       "    }\n",
       "</style>\n",
       "<table border=\"1\" class=\"dataframe\">\n",
       "  <thead>\n",
       "    <tr style=\"text-align: right;\">\n",
       "      <th></th>\n",
       "      <th>perform</th>\n",
       "      <th>leader</th>\n",
       "      <th>latest</th>\n",
       "      <th>fun</th>\n",
       "      <th>serious</th>\n",
       "      <th>bargain</th>\n",
       "      <th>value</th>\n",
       "      <th>trendy</th>\n",
       "      <th>rebuy</th>\n",
       "    </tr>\n",
       "    <tr>\n",
       "      <th>brand</th>\n",
       "      <th></th>\n",
       "      <th></th>\n",
       "      <th></th>\n",
       "      <th></th>\n",
       "      <th></th>\n",
       "      <th></th>\n",
       "      <th></th>\n",
       "      <th></th>\n",
       "      <th></th>\n",
       "    </tr>\n",
       "  </thead>\n",
       "  <tbody>\n",
       "    <tr>\n",
       "      <th>a</th>\n",
       "      <td>1.65</td>\n",
       "      <td>3.04</td>\n",
       "      <td>7.46</td>\n",
       "      <td>7.87</td>\n",
       "      <td>1.77</td>\n",
       "      <td>4.83</td>\n",
       "      <td>4.78</td>\n",
       "      <td>3.78</td>\n",
       "      <td>2.21</td>\n",
       "    </tr>\n",
       "    <tr>\n",
       "      <th>b</th>\n",
       "      <td>7.47</td>\n",
       "      <td>7.21</td>\n",
       "      <td>8.43</td>\n",
       "      <td>3.40</td>\n",
       "      <td>7.61</td>\n",
       "      <td>4.37</td>\n",
       "      <td>4.70</td>\n",
       "      <td>7.25</td>\n",
       "      <td>4.33</td>\n",
       "    </tr>\n",
       "    <tr>\n",
       "      <th>c</th>\n",
       "      <td>6.57</td>\n",
       "      <td>7.45</td>\n",
       "      <td>5.88</td>\n",
       "      <td>3.75</td>\n",
       "      <td>7.72</td>\n",
       "      <td>2.64</td>\n",
       "      <td>3.28</td>\n",
       "      <td>5.29</td>\n",
       "      <td>3.39</td>\n",
       "    </tr>\n",
       "    <tr>\n",
       "      <th>d</th>\n",
       "      <td>2.31</td>\n",
       "      <td>2.87</td>\n",
       "      <td>7.28</td>\n",
       "      <td>6.58</td>\n",
       "      <td>2.40</td>\n",
       "      <td>1.91</td>\n",
       "      <td>2.10</td>\n",
       "      <td>7.24</td>\n",
       "      <td>2.47</td>\n",
       "    </tr>\n",
       "    <tr>\n",
       "      <th>e</th>\n",
       "      <td>2.68</td>\n",
       "      <td>4.92</td>\n",
       "      <td>7.60</td>\n",
       "      <td>6.88</td>\n",
       "      <td>4.44</td>\n",
       "      <td>5.73</td>\n",
       "      <td>5.34</td>\n",
       "      <td>5.60</td>\n",
       "      <td>3.82</td>\n",
       "    </tr>\n",
       "    <tr>\n",
       "      <th>f</th>\n",
       "      <td>4.30</td>\n",
       "      <td>5.12</td>\n",
       "      <td>2.31</td>\n",
       "      <td>5.47</td>\n",
       "      <td>5.96</td>\n",
       "      <td>6.59</td>\n",
       "      <td>6.79</td>\n",
       "      <td>2.99</td>\n",
       "      <td>7.18</td>\n",
       "    </tr>\n",
       "    <tr>\n",
       "      <th>g</th>\n",
       "      <td>7.43</td>\n",
       "      <td>3.98</td>\n",
       "      <td>2.24</td>\n",
       "      <td>4.65</td>\n",
       "      <td>2.84</td>\n",
       "      <td>6.65</td>\n",
       "      <td>7.35</td>\n",
       "      <td>1.72</td>\n",
       "      <td>7.19</td>\n",
       "    </tr>\n",
       "    <tr>\n",
       "      <th>h</th>\n",
       "      <td>4.44</td>\n",
       "      <td>3.64</td>\n",
       "      <td>7.74</td>\n",
       "      <td>8.03</td>\n",
       "      <td>3.93</td>\n",
       "      <td>2.29</td>\n",
       "      <td>2.46</td>\n",
       "      <td>7.59</td>\n",
       "      <td>2.19</td>\n",
       "    </tr>\n",
       "    <tr>\n",
       "      <th>i</th>\n",
       "      <td>5.56</td>\n",
       "      <td>3.58</td>\n",
       "      <td>7.29</td>\n",
       "      <td>7.20</td>\n",
       "      <td>3.91</td>\n",
       "      <td>3.58</td>\n",
       "      <td>2.41</td>\n",
       "      <td>6.84</td>\n",
       "      <td>3.21</td>\n",
       "    </tr>\n",
       "    <tr>\n",
       "      <th>j</th>\n",
       "      <td>2.47</td>\n",
       "      <td>2.36</td>\n",
       "      <td>5.72</td>\n",
       "      <td>6.85</td>\n",
       "      <td>2.65</td>\n",
       "      <td>4.00</td>\n",
       "      <td>4.16</td>\n",
       "      <td>3.90</td>\n",
       "      <td>1.28</td>\n",
       "    </tr>\n",
       "  </tbody>\n",
       "</table>\n",
       "</div>"
      ],
      "text/plain": [
       "       perform  leader  latest   fun  serious  bargain  value  trendy  rebuy\n",
       "brand                                                                       \n",
       "a         1.65    3.04    7.46  7.87     1.77     4.83   4.78    3.78   2.21\n",
       "b         7.47    7.21    8.43  3.40     7.61     4.37   4.70    7.25   4.33\n",
       "c         6.57    7.45    5.88  3.75     7.72     2.64   3.28    5.29   3.39\n",
       "d         2.31    2.87    7.28  6.58     2.40     1.91   2.10    7.24   2.47\n",
       "e         2.68    4.92    7.60  6.88     4.44     5.73   5.34    5.60   3.82\n",
       "f         4.30    5.12    2.31  5.47     5.96     6.59   6.79    2.99   7.18\n",
       "g         7.43    3.98    2.24  4.65     2.84     6.65   7.35    1.72   7.19\n",
       "h         4.44    3.64    7.74  8.03     3.93     2.29   2.46    7.59   2.19\n",
       "i         5.56    3.58    7.29  7.20     3.91     3.58   2.41    6.84   3.21\n",
       "j         2.47    2.36    5.72  6.85     2.65     4.00   4.16    3.90   1.28"
      ]
     },
     "execution_count": 13,
     "metadata": {},
     "output_type": "execute_result"
    }
   ],
   "source": [
    "brand_means = brand_ratings.groupby('brand').mean().round(3)\n",
    "brand_means"
   ]
  },
  {
   "cell_type": "code",
   "execution_count": 20,
   "id": "0efb0359",
   "metadata": {},
   "outputs": [
    {
     "data": {
      "text/plain": [
       "<AxesSubplot:ylabel='brand'>"
      ]
     },
     "execution_count": 20,
     "metadata": {},
     "output_type": "execute_result"
    },
    {
     "data": {
      "image/png": "[encoded data removed]",
      "text/plain": [
       "<Figure size 432x288 with 2 Axes>"
      ]
     },
     "metadata": {
      "needs_background": "light"
     },
     "output_type": "display_data"
    }
   ],
   "source": [
    "from matplotlib import cm\n",
    "\n",
    "sns.heatmap(\n",
    "    brand_means[['fun', 'latest', 'trendy', 'perform', 'leader',\n",
    "                 'serious', 'rebuy', 'bargain', 'value']],\n",
    "    cmap=cm.BrBG\n",
    ")"
   ]
  },
  {
   "cell_type": "code",
   "execution_count": 21,
   "id": "1ca47d56",
   "metadata": {},
   "outputs": [
    {
     "data": {
      "text/plain": [
       "<seaborn.matrix.ClusterGrid at 0x7fee205b46a0>"
      ]
     },
     "execution_count": 21,
     "metadata": {},
     "output_type": "execute_result"
    },
    {
     "data": {
      "image/png": "[encoded data removed]",
      "text/plain": [
       "<Figure size 720x720 with 4 Axes>"
      ]
     },
     "metadata": {
      "needs_background": "light"
     },
     "output_type": "display_data"
    }
   ],
   "source": [
    "# 클러스터 맵을 통해 데이터의 그룹화를 시각화하는데 도움을 줌. \n",
    "# 좀 더 형식적인 클러스터 분석에 대한 좋은 예비 분석. \n",
    "\n",
    "# 변수들 간의 cluster를 파악함과 동시에\n",
    "# 브랜드간의 cluster도 파악가능\n",
    "\n",
    "sns.clustermap(brand_means, cmap=cm.BrBG)"
   ]
  },
  {
   "cell_type": "markdown",
   "id": "842a500f",
   "metadata": {},
   "source": [
    "# 주성분 분석과 지각도"
   ]
  },
  {
   "cell_type": "code",
   "execution_count": 22,
   "id": "03faa02b",
   "metadata": {},
   "outputs": [],
   "source": [
    "# PCA는 데이터의 선형 관계를 포착하는 성분이라고 불리는 선형 방정식의 항으로\n",
    "# 변수 집합을 재계산한다.\n",
    "\n",
    "# 첫번째 성분: 모든 변수에서 가능한 한 많은 분산을 단일 선형 함수로 포착\n",
    "# 두번째 성분: 첫 성분 이후에 남아있는 가능한 한 많은 분산을 포착\n",
    "# 이 과정은 변수만큼의 성분이 있을때까지 계속됨.\n",
    "\n",
    "# 이 프로세를 사용하면 데이터 변동의 많은 부분을 설명하는 첫 번째 성분이나 두 개의 성분과 같이\n",
    "# 선분의 하위 집합만 유지하고 분석해 데이터의 복잡도를 줄일 수 있음."
   ]
  },
  {
   "cell_type": "markdown",
   "id": "c479b433",
   "metadata": {},
   "source": [
    "## PCA의 예"
   ]
  },
  {
   "cell_type": "code",
   "execution_count": 23,
   "id": "47b352f7",
   "metadata": {},
   "outputs": [],
   "source": [
    "np.random.seed(98286)\n",
    "xvar = np.random.randint(low=0, high=10, size=100)\n",
    "yvar = xvar.copy()\n",
    "yvar[:50] = np.random.randint(low=0, high=10, size=50)\n",
    "zvar = yvar.copy()\n",
    "zvar[25:75] = np.random.randint(low=0, high=10, size=50)\n",
    "myvars = np.array([xvar, yvar, zvar])\n",
    "\n",
    "# 관측치 중 50개가 동일하고 50개가 새로 샘플링된 임의 값이기 때문에 yvar은 xvar와 상관된다.\n",
    "# 마찬가지로 zvar은 yvar에서 50개의 값을 유지하므로 xvar에서 일부를 상속하지만 더 적은 값을 상속한다.\n",
    "# 이 세 백터를 행렬로 만들기.\n",
    "# 상관데이터 생성 코드 -> np.random.multivariate_normal()"
   ]
  },
  {
   "cell_type": "code",
   "execution_count": 24,
   "id": "5342651a",
   "metadata": {},
   "outputs": [
    {
     "name": "stderr",
     "output_type": "stream",
     "text": [
      "/Users/wonbinchoi/opt/anaconda3/lib/python3.9/site-packages/seaborn/categorical.py:1296: UserWarning: 7.7% of the points cannot be placed; you may want to decrease the size of the markers or use stripplot.\n",
      "  warnings.warn(msg, UserWarning)\n",
      "/Users/wonbinchoi/opt/anaconda3/lib/python3.9/site-packages/seaborn/categorical.py:1296: UserWarning: 18.2% of the points cannot be placed; you may want to decrease the size of the markers or use stripplot.\n",
      "  warnings.warn(msg, UserWarning)\n",
      "/Users/wonbinchoi/opt/anaconda3/lib/python3.9/site-packages/seaborn/categorical.py:1296: UserWarning: 9.1% of the points cannot be placed; you may want to decrease the size of the markers or use stripplot.\n",
      "  warnings.warn(msg, UserWarning)\n",
      "/Users/wonbinchoi/opt/anaconda3/lib/python3.9/site-packages/seaborn/categorical.py:1296: UserWarning: 27.3% of the points cannot be placed; you may want to decrease the size of the markers or use stripplot.\n",
      "  warnings.warn(msg, UserWarning)\n"
     ]
    },
    {
     "data": {
      "text/plain": [
       "<AxesSubplot:>"
      ]
     },
     "execution_count": 24,
     "metadata": {},
     "output_type": "execute_result"
    },
    {
     "data": {
      "image/png": "[encoded data removed]",
      "text/plain": [
       "<Figure size 432x288 with 1 Axes>"
      ]
     },
     "metadata": {
      "needs_background": "light"
     },
     "output_type": "display_data"
    }
   ],
   "source": [
    "# swarmplot()은 동일한 값을 가진 여러 포인트가 있을 경우,\n",
    "# 포인트를 조정해 동일한 값에 있는 포인트 수를 확인할 수 있도록 도와줌\n",
    "\n",
    "sns.swarmplot(\n",
    "    x=xvar,\n",
    "    y=yvar,\n",
    "    color='k'\n",
    ")\n",
    "\n",
    "# 해당 이변량 도면은 대각에서 yvar 대 xvar에 대한 명확한 선형 추세를 보여줌"
   ]
  },
  {
   "cell_type": "code",
   "execution_count": 26,
   "id": "fb28c78e",
   "metadata": {},
   "outputs": [
    {
     "data": {
      "text/plain": [
       "array([[1.        , 0.5755755 , 0.23837089],\n",
       "       [0.5755755 , 1.        , 0.48224687],\n",
       "       [0.23837089, 0.48224687, 1.        ]])"
      ]
     },
     "execution_count": 26,
     "metadata": {},
     "output_type": "execute_result"
    }
   ],
   "source": [
    "# xvar은 예상대로 yvar과 상관관계가 높고 zvar과는 상관관계가 적으며\n",
    "# yvar은 zvar과 강한 상관관계를 갖는다.\n",
    "\n",
    "np.corrcoef(myvars)"
   ]
  },
  {
   "cell_type": "code",
   "execution_count": 28,
   "id": "a1483495",
   "metadata": {},
   "outputs": [],
   "source": [
    "##################################################\n",
    "# 직관적으로 데이터의 성분을 유추해볼 수 있음.\n",
    "# 1. 양의 상관관계가 있기 때문에 세 변수 모두에 걸쳐 공유된 분산이 있음.\n",
    "#    따라서 세 변수 모두의 연관성을 포착하는 하나의 성분을 볼 수 있을 것으로 예상됨\n",
    "\n",
    "# 2. 그 후, xvar와 zvar가 yvar보다 서로 더 구별된다는 사실을 보여주는 성분을 볼 것으로 예상.\n",
    "#    이는 yvar가 다른 두 변수와 높은 상관관계를 갖는 유일한 변수로서 데이터셋에서 고유한 위치를 갖고 있음을 의미하므로\n",
    "# 3. 마지막으로 성분 중 하나가 yvar의 고유성을 반영할 것으로 예상됨. "
   ]
  },
  {
   "cell_type": "code",
   "execution_count": 29,
   "id": "c660863f",
   "metadata": {},
   "outputs": [],
   "source": [
    "# PCA()\n",
    "from sklearn import decomposition\n",
    "my_pca = decomposition.PCA().fit(myvars.T)"
   ]
  },
  {
   "cell_type": "code",
   "execution_count": 37,
   "id": "6c4f231e",
   "metadata": {},
   "outputs": [
    {
     "data": {
      "text/html": [
       "<div>\n",
       "<style scoped>\n",
       "    .dataframe tbody tr th:only-of-type {\n",
       "        vertical-align: middle;\n",
       "    }\n",
       "\n",
       "    .dataframe tbody tr th {\n",
       "        vertical-align: top;\n",
       "    }\n",
       "\n",
       "    .dataframe thead th {\n",
       "        text-align: right;\n",
       "    }\n",
       "</style>\n",
       "<table border=\"1\" class=\"dataframe\">\n",
       "  <thead>\n",
       "    <tr style=\"text-align: right;\">\n",
       "      <th></th>\n",
       "      <th>pc1</th>\n",
       "      <th>pc2</th>\n",
       "      <th>pc3</th>\n",
       "    </tr>\n",
       "  </thead>\n",
       "  <tbody>\n",
       "    <tr>\n",
       "      <th>variance</th>\n",
       "      <td>16.473</td>\n",
       "      <td>7.050</td>\n",
       "      <td>3.042</td>\n",
       "    </tr>\n",
       "    <tr>\n",
       "      <th>proportion of variance explained</th>\n",
       "      <td>0.620</td>\n",
       "      <td>0.265</td>\n",
       "      <td>0.114</td>\n",
       "    </tr>\n",
       "    <tr>\n",
       "      <th>cumulative proportion</th>\n",
       "      <td>0.620</td>\n",
       "      <td>0.886</td>\n",
       "      <td>1.000</td>\n",
       "    </tr>\n",
       "  </tbody>\n",
       "</table>\n",
       "</div>"
      ],
      "text/plain": [
       "                                     pc1    pc2    pc3\n",
       "variance                          16.473  7.050  3.042\n",
       "proportion of variance explained   0.620  0.265  0.114\n",
       "cumulative proportion              0.620  0.886  1.000"
      ]
     },
     "execution_count": 37,
     "metadata": {},
     "output_type": "execute_result"
    }
   ],
   "source": [
    "# PCA에서 일부 관련 통계를 출력하는 헬퍼 함수\n",
    "\n",
    "def pca_summary(pca, round_dig=3):\n",
    "    \"\"\"PCA 적합화 출력\"\"\"\n",
    "    return pd.DataFrame(\n",
    "        [pca.explained_variance_,\n",
    "         pca.explained_variance_ratio_,\n",
    "         np.cumsum(pca.explained_variance_ratio_)],\n",
    "        columns=['pc{}'.format(i) for i in range(1, len(pca.explained_variance_ )+1)],\n",
    "        index=['variance', 'proportion of variance explained',\n",
    "               'cumulative proportion']\n",
    "    ).round(round_dig)\n",
    "\n",
    "pca_summary(my_pca)\n",
    "\n",
    "# 세가지 변수가 있으므로, 세가지 성분이 있음.\n",
    "\n",
    "# 첫번째 성분은 설명 가능한 선형 분산의 62%를 차지\n",
    "# 두번째 성분은 설명 가능한 선형 분산의 27%를 차지\n",
    "# 세번째 성분은 설명 가능한 선형 분산의 11%를 차지\n",
    "\n",
    "# 이러한 성분은 변수와 어떻게 관련이 있는지?"
   ]
  },
  {
   "cell_type": "code",
   "execution_count": 52,
   "id": "f8aee547",
   "metadata": {},
   "outputs": [
    {
     "data": {
      "text/html": [
       "<div>\n",
       "<style scoped>\n",
       "    .dataframe tbody tr th:only-of-type {\n",
       "        vertical-align: middle;\n",
       "    }\n",
       "\n",
       "    .dataframe tbody tr th {\n",
       "        vertical-align: top;\n",
       "    }\n",
       "\n",
       "    .dataframe thead th {\n",
       "        text-align: right;\n",
       "    }\n",
       "</style>\n",
       "<table border=\"1\" class=\"dataframe\">\n",
       "  <thead>\n",
       "    <tr style=\"text-align: right;\">\n",
       "      <th></th>\n",
       "      <th>pc1</th>\n",
       "      <th>pc2</th>\n",
       "      <th>pc3</th>\n",
       "    </tr>\n",
       "  </thead>\n",
       "  <tbody>\n",
       "    <tr>\n",
       "      <th>xvar</th>\n",
       "      <td>-0.544</td>\n",
       "      <td>0.637</td>\n",
       "      <td>0.545</td>\n",
       "    </tr>\n",
       "    <tr>\n",
       "      <th>yvar</th>\n",
       "      <td>-0.622</td>\n",
       "      <td>0.129</td>\n",
       "      <td>-0.772</td>\n",
       "    </tr>\n",
       "    <tr>\n",
       "      <th>zvar</th>\n",
       "      <td>-0.563</td>\n",
       "      <td>-0.760</td>\n",
       "      <td>0.326</td>\n",
       "    </tr>\n",
       "  </tbody>\n",
       "</table>\n",
       "</div>"
      ],
      "text/plain": [
       "        pc1    pc2    pc3\n",
       "xvar -0.544  0.637  0.545\n",
       "yvar -0.622  0.129 -0.772\n",
       "zvar -0.563 -0.760  0.326"
      ]
     },
     "execution_count": 52,
     "metadata": {},
     "output_type": "execute_result"
    }
   ],
   "source": [
    "# 다른 헬퍼 함수 지정함으로써 회전 행렬 확인\n",
    "# PCA 회전 적재(rotatino loadings)를 해석하는 것은 다변량 특성으로 인해 어려움.\n",
    "# 여기에서는 적재를 설명하고 예상과 비교해보기\n",
    "\n",
    "def pca_components(pca, variable_names):\n",
    "    \"\"\"PCA에서 특정 성분에 대한 변수 적재 반환\"\"\"\n",
    "    \n",
    "    return pd.DataFrame(\n",
    "        pca.components_, \n",
    "        index=['pc{}'.format(i+1) for i in range(len(pca.components_))],\n",
    "        columns=variable_names\n",
    "    ).T\n",
    "\n",
    "my_pca_components = pca_components(my_pca, ['xvar', 'yvar', 'zvar'])\n",
    "my_pca_components.round(3)"
   ]
  },
  {
   "cell_type": "code",
   "execution_count": 53,
   "id": "5fd18b7e",
   "metadata": {},
   "outputs": [
    {
     "data": {
      "text/plain": [
       "array([[ 1.00000000e+00,  3.27170546e-16,  1.31813085e-16],\n",
       "       [ 3.27170546e-16,  1.00000000e+00, -2.20862319e-16],\n",
       "       [ 1.31813085e-16, -2.20862319e-16,  1.00000000e+00]])"
      ]
     },
     "execution_count": 53,
     "metadata": {},
     "output_type": "execute_result"
    }
   ],
   "source": [
    "# pca를 사용해 해당 성분에 대한 로딩 측면에서 기본 데이터를 표현하는 각 주성분의 점수를 계산\n",
    "# pca객체의 transform 메소드 사용\n",
    "\n",
    "# 추출된 pca 성분은 서로 관련이 없음.\n",
    "# 그렇지 않다면 포착할 수 있는 더 많은 선형 분산이 있다는 의미.\n",
    "\n",
    "# 상관관계는 사실상 0\n",
    "# 변환값\n",
    "\n",
    "myvars_transformed = my_pca.transform(myvars.T)\n",
    "np.corrcoef(myvars_transformed.T)"
   ]
  },
  {
   "cell_type": "code",
   "execution_count": 60,
   "id": "8754a8c3",
   "metadata": {},
   "outputs": [
    {
     "data": {
      "text/plain": [
       "-0.5443541023158389"
      ]
     },
     "execution_count": 60,
     "metadata": {},
     "output_type": "execute_result"
    }
   ],
   "source": [
    "my_pca_components.loc['xvar']['pc1']"
   ]
  },
  {
   "cell_type": "code",
   "execution_count": 55,
   "id": "1db98695",
   "metadata": {},
   "outputs": [
    {
     "data": {
      "image/png": "[encoded data removed]",
      "text/plain": [
       "<Figure size 432x288 with 1 Axes>"
      ]
     },
     "metadata": {
      "needs_background": "light"
     },
     "output_type": "display_data"
    }
   ],
   "source": [
    "def plot_arrow_component(pca_components, variable, scale=1):\n",
    "    \"\"\"PCA 공간에서 성분 차원 화살표 도식화\"\"\"\n",
    "    plt.arrow(\n",
    "        x=0, y=0,\n",
    "        dx=pca_components.loc[variable]['pc1'] * scale,\n",
    "        dy=pca_components.loc[variable]['pc2'] * scale,\n",
    "        color='r',\n",
    "        head_width=.5, overhang=1\n",
    "    )\n",
    "    plt.text(\n",
    "        x=pca_components.loc[variable]['pc1'] * scale,\n",
    "        y=pca_components.loc[variable]['pc2'] * scale,\n",
    "        s=variable,\n",
    "        color='r',\n",
    "        fontsize=16\n",
    "    )\n",
    "    \n",
    "plt.scatter(\n",
    "    x=myvars_transformed[:,0],\n",
    "    y=myvars_transformed[:,1],\n",
    "    color='k'\n",
    ")\n",
    "for v in my_pca_components.index:\n",
    "    plot_arrow_component(my_pca_components, v, 8)"
   ]
  },
  {
   "cell_type": "code",
   "execution_count": 56,
   "id": "f617a84a",
   "metadata": {},
   "outputs": [],
   "source": [
    "# biplot\n",
    "\n",
    "def biplot(values_transformed, pca_components, label=[]):\n",
    "    \"\"\"PCA 공간에 각 변수의 적재를 나타내는 화살표가 있는 점의 산점도인 biplot을 생성한다.\n",
    "    포인트는 선택적으로 레이블을 지정할 수 있다\"\"\"\n",
    "    \n",
    "    scale = 1.2*np.max(values_transformed[:,1])\n",
    "    plt.figure(figsize=(10,10))\n",
    "    for v in pca_components.index:\n",
    "        plot_arrow_component(pca_components, v, scale)\n",
    "        \n",
    "    plt.scatter(\n",
    "        x=values_transformed[:,0],\n",
    "        y=values_transformed[:,1],\n",
    "        color='gray', s=4\n",
    "    )\n",
    "    \n",
    "    if len(label) == values_transformed.shape[0]:\n",
    "        for i, txt in enumerate(label):\n",
    "            plt.text(\n",
    "                s=txt, \n",
    "                x=values_transformed[i,0]+.01*scale,\n",
    "                y=values_transformed[i,1]+.01*scale,\n",
    "                fontsize=14\n",
    "            )\n",
    "            \n",
    "    plt.xlabel('PC1')\n",
    "    plt.ylabel('PC2')"
   ]
  },
  {
   "cell_type": "code",
   "execution_count": 57,
   "id": "cefa1ebb",
   "metadata": {},
   "outputs": [
    {
     "data": {
      "image/png": "[encoded data removed]",
      "text/plain": [
       "<Figure size 720x720 with 1 Axes>"
      ]
     },
     "metadata": {
      "needs_background": "light"
     },
     "output_type": "display_data"
    }
   ],
   "source": [
    "biplot(myvars_transformed, my_pca_components, label=range(myvars.shape[1]))"
   ]
  },
  {
   "cell_type": "markdown",
   "id": "013c868a",
   "metadata": {},
   "source": [
    "## PCA 시각화"
   ]
  },
  {
   "cell_type": "code",
   "execution_count": 42,
   "id": "d232d4de",
   "metadata": {},
   "outputs": [
    {
     "data": {
      "text/plain": [
       "Text(0.5, 0, 'PC2')"
      ]
     },
     "execution_count": 42,
     "metadata": {},
     "output_type": "execute_result"
    },
    {
     "data": {
      "image/png": "[encoded data removed]",
      "text/plain": [
       "<Figure size 432x288 with 1 Axes>"
      ]
     },
     "metadata": {
      "needs_background": "light"
     },
     "output_type": "display_data"
    }
   ],
   "source": [
    "# PCA의 결과를 조사하기 위해 처음 몇 개의 성분을 매핑하기\n",
    "# 데이터를 저차원 공간에서 시각화할 수 있음\n",
    "\n",
    "# biplot이라고 불림\n",
    "\n",
    "import matplotlib.pyplot as plt\n",
    "\n",
    "plt.scatter(\n",
    "    x=myvars_transformed[:, 0],\n",
    "    y=myvars_transformed[:, 1],\n",
    "    color='k'\n",
    ")\n",
    "\n",
    "plt.xlabel('PC1')\n",
    "plt.xlabel('PC2')"
   ]
  },
  {
   "cell_type": "markdown",
   "id": "c1d2a9bb",
   "metadata": {},
   "source": [
    "## 브랜드 평가를 위한 PCA"
   ]
  },
  {
   "cell_type": "code",
   "execution_count": 46,
   "id": "d2d49727",
   "metadata": {},
   "outputs": [],
   "source": [
    "# 브랜드 평가 데이터의 주성분 \n",
    "\n",
    "brand_ratings_names = brand_ratings_sc.columns[:-1]\n",
    "brand_ratings_sc_vals = brand_ratings_sc[brand_ratings_names]\n",
    "brand_pca = decomposition.PCA().fit(brand_ratings_sc_vals)"
   ]
  },
  {
   "cell_type": "code",
   "execution_count": 47,
   "id": "7be53a49",
   "metadata": {},
   "outputs": [
    {
     "data": {
      "text/html": [
       "<div>\n",
       "<style scoped>\n",
       "    .dataframe tbody tr th:only-of-type {\n",
       "        vertical-align: middle;\n",
       "    }\n",
       "\n",
       "    .dataframe tbody tr th {\n",
       "        vertical-align: top;\n",
       "    }\n",
       "\n",
       "    .dataframe thead th {\n",
       "        text-align: right;\n",
       "    }\n",
       "</style>\n",
       "<table border=\"1\" class=\"dataframe\">\n",
       "  <thead>\n",
       "    <tr style=\"text-align: right;\">\n",
       "      <th></th>\n",
       "      <th>pc1</th>\n",
       "      <th>pc2</th>\n",
       "      <th>pc3</th>\n",
       "      <th>pc4</th>\n",
       "      <th>pc5</th>\n",
       "      <th>pc6</th>\n",
       "      <th>pc7</th>\n",
       "      <th>pc8</th>\n",
       "      <th>pc9</th>\n",
       "    </tr>\n",
       "  </thead>\n",
       "  <tbody>\n",
       "    <tr>\n",
       "      <th>variance</th>\n",
       "      <td>2.982</td>\n",
       "      <td>2.099</td>\n",
       "      <td>1.080</td>\n",
       "      <td>0.728</td>\n",
       "      <td>0.638</td>\n",
       "      <td>0.535</td>\n",
       "      <td>0.390</td>\n",
       "      <td>0.312</td>\n",
       "      <td>0.243</td>\n",
       "    </tr>\n",
       "    <tr>\n",
       "      <th>proportion of variance explained</th>\n",
       "      <td>0.331</td>\n",
       "      <td>0.233</td>\n",
       "      <td>0.120</td>\n",
       "      <td>0.081</td>\n",
       "      <td>0.071</td>\n",
       "      <td>0.059</td>\n",
       "      <td>0.043</td>\n",
       "      <td>0.035</td>\n",
       "      <td>0.027</td>\n",
       "    </tr>\n",
       "    <tr>\n",
       "      <th>cumulative proportion</th>\n",
       "      <td>0.331</td>\n",
       "      <td>0.564</td>\n",
       "      <td>0.684</td>\n",
       "      <td>0.765</td>\n",
       "      <td>0.836</td>\n",
       "      <td>0.895</td>\n",
       "      <td>0.938</td>\n",
       "      <td>0.973</td>\n",
       "      <td>1.000</td>\n",
       "    </tr>\n",
       "  </tbody>\n",
       "</table>\n",
       "</div>"
      ],
      "text/plain": [
       "                                    pc1    pc2    pc3    pc4    pc5    pc6  \\\n",
       "variance                          2.982  2.099  1.080  0.728  0.638  0.535   \n",
       "proportion of variance explained  0.331  0.233  0.120  0.081  0.071  0.059   \n",
       "cumulative proportion             0.331  0.564  0.684  0.765  0.836  0.895   \n",
       "\n",
       "                                    pc7    pc8    pc9  \n",
       "variance                          0.390  0.312  0.243  \n",
       "proportion of variance explained  0.043  0.035  0.027  \n",
       "cumulative proportion             0.938  0.973  1.000  "
      ]
     },
     "execution_count": 47,
     "metadata": {},
     "output_type": "execute_result"
    }
   ],
   "source": [
    "# pca_summary 사용하여 각 성분에 포함된 분산 확인\n",
    "\n",
    "pca_summary(brand_pca)"
   ]
  },
  {
   "cell_type": "code",
   "execution_count": 68,
   "id": "24eb317a",
   "metadata": {},
   "outputs": [
    {
     "data": {
      "text/plain": [
       "Text(0, 0.5, 'Variance')"
      ]
     },
     "execution_count": 68,
     "metadata": {},
     "output_type": "execute_result"
    },
    {
     "data": {
      "image/png": "[encoded data removed]",
      "text/plain": [
       "<Figure size 432x288 with 1 Axes>"
      ]
     },
     "metadata": {
      "needs_background": "light"
     },
     "output_type": "display_data"
    }
   ],
   "source": [
    "# scree(스크리) 도면\n",
    "# PCA를 분석할 때 중요한 도면\n",
    "# 각 성분히 추가하는 추가 분산의 연속적인 비율을 보여줌\n",
    "\n",
    "plt.plot(\n",
    "    1+np.arange(len(brand_pca.explained_variance_)),\n",
    "    brand_pca.explained_variance_, 'o-'\n",
    ")\n",
    "plt.xlabel('Component')\n",
    "plt.ylabel('Variance')"
   ]
  },
  {
   "cell_type": "code",
   "execution_count": 51,
   "id": "a4ef5b21",
   "metadata": {},
   "outputs": [],
   "source": [
    "# 스크리 도면은 종종 추가 성분이 복잡도에 기여하지 않음을 나타내는 것으로 해석된다.\n",
    "# 이것은 선에 엘보우, 굽힘 각도의 꼬임 형태로 나타나느데 다소 주관적으로 판단한다.\n",
    "\n",
    "# 엘보우는 해석에 따라 성분 3이나 4에서 발생한다. \n",
    "# 이는 처음 2~3개의 성분이 관찰된 브랜드 등급의 대부분의 변화를 설명하나는 것을 의미한다. "
   ]
  },
  {
   "cell_type": "code",
   "execution_count": 69,
   "id": "2b0c9f40",
   "metadata": {},
   "outputs": [
    {
     "data": {
      "image/png": "[encoded data removed]",
      "text/plain": [
       "<Figure size 720x720 with 1 Axes>"
      ]
     },
     "metadata": {
      "needs_background": "light"
     },
     "output_type": "display_data"
    }
   ],
   "source": [
    "brand_ratings_sc_trans = brand_pca.transform(brand_ratings_sc_vals)\n",
    "brand_pca_components = pca_components(brand_pca, brand_ratings_names)\n",
    "biplot(brand_ratings_sc_trans, brand_pca_components)\n",
    "\n",
    "# 형용사는 4개의 구역으로 나누어짐.\n",
    "# 하지만 개별 응답자의 평가 도면이 너무 조밀하고, 브랜드 위치에 대해서는 알려주는 바가 없다.\n",
    "# 더 나은 해법은 브랜드별로 집계된 등급을 표시하는 행렬도를 구성하는 것. "
   ]
  },
  {
   "cell_type": "markdown",
   "id": "1e8bdfba",
   "metadata": {},
   "source": [
    "## 브랜드의 지각도"
   ]
  },
  {
   "cell_type": "code",
   "execution_count": 73,
   "id": "9cc1fd5a",
   "metadata": {},
   "outputs": [
    {
     "data": {
      "text/html": [
       "<div>\n",
       "<style scoped>\n",
       "    .dataframe tbody tr th:only-of-type {\n",
       "        vertical-align: middle;\n",
       "    }\n",
       "\n",
       "    .dataframe tbody tr th {\n",
       "        vertical-align: top;\n",
       "    }\n",
       "\n",
       "    .dataframe thead th {\n",
       "        text-align: right;\n",
       "    }\n",
       "</style>\n",
       "<table border=\"1\" class=\"dataframe\">\n",
       "  <thead>\n",
       "    <tr style=\"text-align: right;\">\n",
       "      <th></th>\n",
       "      <th>perform</th>\n",
       "      <th>leader</th>\n",
       "      <th>latest</th>\n",
       "      <th>fun</th>\n",
       "      <th>serious</th>\n",
       "      <th>bargain</th>\n",
       "      <th>value</th>\n",
       "      <th>trendy</th>\n",
       "      <th>rebuy</th>\n",
       "    </tr>\n",
       "    <tr>\n",
       "      <th>brand</th>\n",
       "      <th></th>\n",
       "      <th></th>\n",
       "      <th></th>\n",
       "      <th></th>\n",
       "      <th></th>\n",
       "      <th></th>\n",
       "      <th></th>\n",
       "      <th></th>\n",
       "      <th></th>\n",
       "    </tr>\n",
       "  </thead>\n",
       "  <tbody>\n",
       "    <tr>\n",
       "      <th>a</th>\n",
       "      <td>-0.886362</td>\n",
       "      <td>-0.528168</td>\n",
       "      <td>0.411179</td>\n",
       "      <td>0.656974</td>\n",
       "      <td>-0.919400</td>\n",
       "      <td>0.214203</td>\n",
       "      <td>0.184785</td>\n",
       "      <td>-0.525407</td>\n",
       "      <td>-0.596465</td>\n",
       "    </tr>\n",
       "    <tr>\n",
       "      <th>b</th>\n",
       "      <td>0.931336</td>\n",
       "      <td>1.071294</td>\n",
       "      <td>0.726470</td>\n",
       "      <td>-0.972701</td>\n",
       "      <td>1.183733</td>\n",
       "      <td>0.041640</td>\n",
       "      <td>0.151415</td>\n",
       "      <td>0.740679</td>\n",
       "      <td>0.237092</td>\n",
       "    </tr>\n",
       "    <tr>\n",
       "      <th>c</th>\n",
       "      <td>0.650249</td>\n",
       "      <td>1.163350</td>\n",
       "      <td>-0.102388</td>\n",
       "      <td>-0.845098</td>\n",
       "      <td>1.223346</td>\n",
       "      <td>-0.607347</td>\n",
       "      <td>-0.440898</td>\n",
       "      <td>0.025541</td>\n",
       "      <td>-0.132504</td>\n",
       "    </tr>\n",
       "    <tr>\n",
       "      <th>d</th>\n",
       "      <td>-0.680231</td>\n",
       "      <td>-0.593373</td>\n",
       "      <td>0.352671</td>\n",
       "      <td>0.186665</td>\n",
       "      <td>-0.692521</td>\n",
       "      <td>-0.881197</td>\n",
       "      <td>-0.933102</td>\n",
       "      <td>0.737030</td>\n",
       "      <td>-0.494236</td>\n",
       "    </tr>\n",
       "    <tr>\n",
       "      <th>e</th>\n",
       "      <td>-0.564673</td>\n",
       "      <td>0.192933</td>\n",
       "      <td>0.456685</td>\n",
       "      <td>0.296039</td>\n",
       "      <td>0.042135</td>\n",
       "      <td>0.551826</td>\n",
       "      <td>0.418373</td>\n",
       "      <td>0.138649</td>\n",
       "      <td>0.036566</td>\n",
       "    </tr>\n",
       "    <tr>\n",
       "      <th>f</th>\n",
       "      <td>-0.058716</td>\n",
       "      <td>0.269645</td>\n",
       "      <td>-1.262790</td>\n",
       "      <td>-0.218019</td>\n",
       "      <td>0.589525</td>\n",
       "      <td>0.874444</td>\n",
       "      <td>1.023200</td>\n",
       "      <td>-0.813652</td>\n",
       "      <td>1.357675</td>\n",
       "    </tr>\n",
       "    <tr>\n",
       "      <th>g</th>\n",
       "      <td>0.918843</td>\n",
       "      <td>-0.167617</td>\n",
       "      <td>-1.285543</td>\n",
       "      <td>-0.516975</td>\n",
       "      <td>-0.534066</td>\n",
       "      <td>0.896953</td>\n",
       "      <td>1.256789</td>\n",
       "      <td>-1.277032</td>\n",
       "      <td>1.361607</td>\n",
       "    </tr>\n",
       "    <tr>\n",
       "      <th>h</th>\n",
       "      <td>-0.014991</td>\n",
       "      <td>-0.298029</td>\n",
       "      <td>0.502191</td>\n",
       "      <td>0.715307</td>\n",
       "      <td>-0.141529</td>\n",
       "      <td>-0.738645</td>\n",
       "      <td>-0.782938</td>\n",
       "      <td>0.864733</td>\n",
       "      <td>-0.604328</td>\n",
       "    </tr>\n",
       "    <tr>\n",
       "      <th>i</th>\n",
       "      <td>0.334806</td>\n",
       "      <td>-0.321043</td>\n",
       "      <td>0.355922</td>\n",
       "      <td>0.412705</td>\n",
       "      <td>-0.148732</td>\n",
       "      <td>-0.254718</td>\n",
       "      <td>-0.803794</td>\n",
       "      <td>0.591083</td>\n",
       "      <td>-0.203278</td>\n",
       "    </tr>\n",
       "    <tr>\n",
       "      <th>j</th>\n",
       "      <td>-0.630260</td>\n",
       "      <td>-0.788991</td>\n",
       "      <td>-0.154395</td>\n",
       "      <td>0.285102</td>\n",
       "      <td>-0.602490</td>\n",
       "      <td>-0.097160</td>\n",
       "      <td>-0.073831</td>\n",
       "      <td>-0.481624</td>\n",
       "      <td>-0.962129</td>\n",
       "    </tr>\n",
       "  </tbody>\n",
       "</table>\n",
       "</div>"
      ],
      "text/plain": [
       "        perform    leader    latest       fun   serious   bargain     value  \\\n",
       "brand                                                                         \n",
       "a     -0.886362 -0.528168  0.411179  0.656974 -0.919400  0.214203  0.184785   \n",
       "b      0.931336  1.071294  0.726470 -0.972701  1.183733  0.041640  0.151415   \n",
       "c      0.650249  1.163350 -0.102388 -0.845098  1.223346 -0.607347 -0.440898   \n",
       "d     -0.680231 -0.593373  0.352671  0.186665 -0.692521 -0.881197 -0.933102   \n",
       "e     -0.564673  0.192933  0.456685  0.296039  0.042135  0.551826  0.418373   \n",
       "f     -0.058716  0.269645 -1.262790 -0.218019  0.589525  0.874444  1.023200   \n",
       "g      0.918843 -0.167617 -1.285543 -0.516975 -0.534066  0.896953  1.256789   \n",
       "h     -0.014991 -0.298029  0.502191  0.715307 -0.141529 -0.738645 -0.782938   \n",
       "i      0.334806 -0.321043  0.355922  0.412705 -0.148732 -0.254718 -0.803794   \n",
       "j     -0.630260 -0.788991 -0.154395  0.285102 -0.602490 -0.097160 -0.073831   \n",
       "\n",
       "         trendy     rebuy  \n",
       "brand                      \n",
       "a     -0.525407 -0.596465  \n",
       "b      0.740679  0.237092  \n",
       "c      0.025541 -0.132504  \n",
       "d      0.737030 -0.494236  \n",
       "e      0.138649  0.036566  \n",
       "f     -0.813652  1.357675  \n",
       "g     -1.277032  1.361607  \n",
       "h      0.864733 -0.604328  \n",
       "i      0.591083 -0.203278  \n",
       "j     -0.481624 -0.962129  "
      ]
     },
     "execution_count": 73,
     "metadata": {},
     "output_type": "execute_result"
    }
   ],
   "source": [
    "brand_means_sc = brand_ratings_sc.groupby('brand').mean()\n",
    "brand_means_sc"
   ]
  },
  {
   "cell_type": "code",
   "execution_count": 74,
   "id": "6026ffe6",
   "metadata": {},
   "outputs": [
    {
     "data": {
      "image/png": "[encoded data removed]",
      "text/plain": [
       "<Figure size 720x720 with 1 Axes>"
      ]
     },
     "metadata": {
      "needs_background": "light"
     },
     "output_type": "display_data"
    }
   ],
   "source": [
    "# 데이터 크기 다시 조정\n",
    "# 원시 데이터가 이미 재조정되었지만, 집계된 평균은 표준화된 데이터 자체와는 다소 다른 크기를 갖고있다.\n",
    "\n",
    "brand_means_sc = (\n",
    "    (brand_means_sc - brand_means_sc.mean())/brand_means_sc.std()\n",
    ")\n",
    "\n",
    "brand_means_sc_transformed = brand_pca.transform(brand_means_sc)\n",
    "biplot(\n",
    "    brand_means_sc_transformed, brand_pca_components, label=brand_means.index\n",
    ")"
   ]
  },
  {
   "cell_type": "code",
   "execution_count": 75,
   "id": "51084bc1",
   "metadata": {},
   "outputs": [
    {
     "data": {
      "text/plain": [
       "perform    1.775362\n",
       "leader     1.440484\n",
       "latest    -0.774450\n",
       "fun       -1.886670\n",
       "serious    1.544750\n",
       "bargain   -1.811159\n",
       "value     -1.131735\n",
       "trendy    -0.151604\n",
       "rebuy     -0.212361\n",
       "dtype: float64"
      ]
     },
     "execution_count": 75,
     "metadata": {},
     "output_type": "execute_result"
    }
   ],
   "source": [
    "brand_means_sc.loc['c'] - brand_means_sc.loc['e']"
   ]
  },
  {
   "cell_type": "code",
   "execution_count": 76,
   "id": "4ce61261",
   "metadata": {},
   "outputs": [
    {
     "data": {
      "text/plain": [
       "perform    1.717172\n",
       "leader     0.580749\n",
       "latest    -1.299004\n",
       "fun       -1.544598\n",
       "serious    0.750005\n",
       "bargain   -0.391245\n",
       "value      0.104383\n",
       "trendy    -0.629646\n",
       "rebuy      0.840802\n",
       "dtype: float64"
      ]
     },
     "execution_count": 76,
     "metadata": {},
     "output_type": "execute_result"
    }
   ],
   "source": [
    "brand_means_sc.loc[['b','c','f','g']].mean(axis=0) - brand_means_sc.loc['e']"
   ]
  },
  {
   "cell_type": "code",
   "execution_count": 77,
   "id": "22c2b445",
   "metadata": {},
   "outputs": [],
   "source": [
    "# PCA 시각화는 서로 다른 점을 이해하는 데 유용한 도구이다. "
   ]
  },
  {
   "cell_type": "markdown",
   "id": "3f7094ea",
   "metadata": {},
   "source": [
    "# 탐색적 요인 분석 (EFA)"
   ]
  },
  {
   "cell_type": "code",
   "execution_count": 78,
   "id": "242cdce1",
   "metadata": {},
   "outputs": [],
   "source": [
    "# Exploratory Factor Analysis\n",
    "# 설문 조사와 심리 평가에서 구성체(개념) 사이의 관계를 평가하는 기술군.\n",
    "# 요인(factor)은 직접 관찰할 수 없지만, 다른 변수와의 관계를 통해 불완전하게 평가되는 잠재변수로 간주됨 (manifest 변수)"
   ]
  },
  {
   "cell_type": "code",
   "execution_count": null,
   "id": "5f1b0672",
   "metadata": {},
   "outputs": [],
   "source": [
    "# 이 절에서는 EFA를 이용하여 앞의 브랜드 등급 데이터를 사용함으로써\n",
    "# 브랜드에 대한 응답자 태도를 조사하고 데이터의 잠재 차원 파악.\n",
    "# 그런 다음 추정된 잠재 요인 측면에서 브랜드를 평가. "
   ]
  },
  {
   "cell_type": "markdown",
   "id": "17a5cad1",
   "metadata": {},
   "source": [
    "## 기본 EFA 개념"
   ]
  },
  {
   "cell_type": "code",
   "execution_count": 79,
   "id": "9f99cc26",
   "metadata": {},
   "outputs": [],
   "source": [
    "# EFA 결과는 PCA와 유사함.\n",
    "# 요인 행렬(PCA 성분과 유사)과 원시 변수와의 관계(변수에 대한 요인 적재)이다.  \n",
    "\n",
    "# PCA와 달리 EFA는 매니페스트 변수 측면에서 최대한 해석 가능한 솔루션을 찾으려고 한다.\n",
    "# 일반적으로 각 요인에 대해 소수의 적재는 매우 높고 해당 요인에 대한 다른 적재는 낮은 솔루션을 찾으려고 함.\n",
    "# 이것이 가능하면 그 요인은 그 작은 변수 집합의 관점에서 해석될 수 있음."
   ]
  },
  {
   "cell_type": "code",
   "execution_count": 80,
   "id": "38253451",
   "metadata": {},
   "outputs": [],
   "source": [
    "###################### EFA는 3가지 넓은 의미에서 데이터 축소 기술로 사용됨.##############################################################\n",
    "# 1. 차원 축소의 기술적 의미에서 더 큰 항목 집합 대신 요인 점수를 사용할 수 있다.\n",
    "#    예를 들어 만족도를 평가하는 경우 여러 개별 항목 대신 단일 만족도 점수를 사용할 수 있다.\n",
    "# 2. 불확실성을 줄일 수 있다. 만족이 여러 측정에서 불안전하게 나타난다고 생각한다면, \n",
    "#    개별 항목 집합보다 잡음이 적을 것이다.\n",
    "# 3. 관심 요인에 높은 기여를 하는 것으로 알려진 항목에 초점을 맞춰 데이터 수집을 줄일 수 있다.\n",
    "#    일부 항목이 관심 요소에 중요하지 않음을 발견하면 데이터 수집 노력에서 해당 항목을 삭제할 수 있다."
   ]
  },
  {
   "cell_type": "code",
   "execution_count": 81,
   "id": "0e6db922",
   "metadata": {},
   "outputs": [],
   "source": [
    "# 이 장에서는 브랜드 평가 데이터를 사용해\n",
    "# \"잠재 요인이 얼마나 많은가?\"\n",
    "# \"설문 조사 항목이 요인에 어떻게 매핑되는가?\"\n",
    "# \"브랜드는 요인에 어떻게 배치돼 있는가?\"\n",
    "# \"응답자의 요인 점수는 무엇인가?\"\n",
    "# 와 같은 질문을 한다. "
   ]
  },
  {
   "cell_type": "markdown",
   "id": "21c52d09",
   "metadata": {},
   "source": [
    "## EFA 솔루션 찾기"
   ]
  },
  {
   "cell_type": "code",
   "execution_count": 82,
   "id": "7c2753b1",
   "metadata": {},
   "outputs": [],
   "source": [
    "# 1. 탐색적 요인 분석의 첫 번째 단계 -> 추정할 요인의 수를 결정"
   ]
  },
  {
   "cell_type": "code",
   "execution_count": 83,
   "id": "a198ed93",
   "metadata": {},
   "outputs": [],
   "source": [
    "# 고유값 1.0은 단일 독립 변수에 기인할 수 있는 분산의 양에 해당한다.\n",
    "# 그러한 항목보다 더 적은 분산을 포착하는 요인은 상대적으로 흥미롭지 않은 것으로 간주될 수 있다."
   ]
  },
  {
   "cell_type": "code",
   "execution_count": 85,
   "id": "63e68147",
   "metadata": {},
   "outputs": [
    {
     "data": {
      "text/plain": [
       "array([2.97929556, 2.09655168, 1.07925487, 0.72721099, 0.63754592,\n",
       "       0.53484323, 0.39010444, 0.24314689, 0.31204642])"
      ]
     },
     "execution_count": 85,
     "metadata": {},
     "output_type": "execute_result"
    }
   ],
   "source": [
    "import numpy as np\n",
    "np.linalg.eig(np.corrcoef(brand_ratings_sc_vals.T))[0]"
   ]
  },
  {
   "cell_type": "code",
   "execution_count": 87,
   "id": "28c73eb0",
   "metadata": {
    "scrolled": true
   },
   "outputs": [
    {
     "name": "stdout",
     "output_type": "stream",
     "text": [
      "Collecting factor_analyzer\n",
      "  Downloading factor_analyzer-0.4.1.tar.gz (41 kB)\n",
      "\u001b[K     |████████████████████████████████| 41 kB 2.4 MB/s  eta 0:00:01\n",
      "\u001b[?25h  Installing build dependencies ... \u001b[?25ldone\n",
      "\u001b[?25h  Getting requirements to build wheel ... \u001b[?25ldone\n",
      "\u001b[?25h    Preparing wheel metadata ... \u001b[?25ldone\n",
      "\u001b[?25hRequirement already satisfied: scipy in /Users/wonbinchoi/opt/anaconda3/lib/python3.9/site-packages (from factor_analyzer) (1.7.3)\n",
      "Requirement already satisfied: pandas in /Users/wonbinchoi/opt/anaconda3/lib/python3.9/site-packages (from factor_analyzer) (1.4.2)\n",
      "Requirement already satisfied: scikit-learn in /Users/wonbinchoi/opt/anaconda3/lib/python3.9/site-packages (from factor_analyzer) (1.0.2)\n",
      "Collecting pre-commit\n",
      "  Downloading pre_commit-3.1.1-py2.py3-none-any.whl (202 kB)\n",
      "\u001b[K     |████████████████████████████████| 202 kB 9.9 MB/s eta 0:00:01\n",
      "\u001b[?25hRequirement already satisfied: numpy in /Users/wonbinchoi/opt/anaconda3/lib/python3.9/site-packages (from factor_analyzer) (1.21.5)\n",
      "Requirement already satisfied: python-dateutil>=2.8.1 in /Users/wonbinchoi/opt/anaconda3/lib/python3.9/site-packages (from pandas->factor_analyzer) (2.8.2)\n",
      "Requirement already satisfied: pytz>=2020.1 in /Users/wonbinchoi/opt/anaconda3/lib/python3.9/site-packages (from pandas->factor_analyzer) (2021.3)\n",
      "Requirement already satisfied: six>=1.5 in /Users/wonbinchoi/opt/anaconda3/lib/python3.9/site-packages (from python-dateutil>=2.8.1->pandas->factor_analyzer) (1.16.0)\n",
      "Collecting cfgv>=2.0.0\n",
      "  Downloading cfgv-3.3.1-py2.py3-none-any.whl (7.3 kB)\n",
      "Collecting identify>=1.0.0\n",
      "  Downloading identify-2.5.18-py2.py3-none-any.whl (98 kB)\n",
      "\u001b[K     |████████████████████████████████| 98 kB 14.9 MB/s eta 0:00:01\n",
      "\u001b[?25hRequirement already satisfied: pyyaml>=5.1 in /Users/wonbinchoi/opt/anaconda3/lib/python3.9/site-packages (from pre-commit->factor_analyzer) (6.0)\n",
      "Collecting nodeenv>=0.11.1\n",
      "  Downloading nodeenv-1.7.0-py2.py3-none-any.whl (21 kB)\n",
      "Collecting virtualenv>=20.10.0\n",
      "  Downloading virtualenv-20.19.0-py3-none-any.whl (8.7 MB)\n",
      "\u001b[K     |████████████████████████████████| 8.7 MB 31.4 MB/s eta 0:00:01\n",
      "\u001b[?25hRequirement already satisfied: setuptools in /Users/wonbinchoi/opt/anaconda3/lib/python3.9/site-packages (from nodeenv>=0.11.1->pre-commit->factor_analyzer) (61.2.0)\n",
      "Collecting distlib<1,>=0.3.6\n",
      "  Downloading distlib-0.3.6-py2.py3-none-any.whl (468 kB)\n",
      "\u001b[K     |████████████████████████████████| 468 kB 20.5 MB/s eta 0:00:01\n",
      "\u001b[?25hCollecting platformdirs<4,>=2.4\n",
      "  Downloading platformdirs-3.0.0-py3-none-any.whl (14 kB)\n",
      "Requirement already satisfied: filelock<4,>=3.4.1 in /Users/wonbinchoi/opt/anaconda3/lib/python3.9/site-packages (from virtualenv>=20.10.0->pre-commit->factor_analyzer) (3.6.0)\n",
      "Requirement already satisfied: joblib>=0.11 in /Users/wonbinchoi/opt/anaconda3/lib/python3.9/site-packages (from scikit-learn->factor_analyzer) (1.1.0)\n",
      "Requirement already satisfied: threadpoolctl>=2.0.0 in /Users/wonbinchoi/opt/anaconda3/lib/python3.9/site-packages (from scikit-learn->factor_analyzer) (2.2.0)\n",
      "Building wheels for collected packages: factor-analyzer\n",
      "  Building wheel for factor-analyzer (PEP 517) ... \u001b[?25ldone\n",
      "\u001b[?25h  Created wheel for factor-analyzer: filename=factor_analyzer-0.4.1-py2.py3-none-any.whl size=42014 sha256=eb5583959889224617cf36ca61c718441401dee5efa6881c6c4dcb2ab9988d59\n",
      "  Stored in directory: /Users/wonbinchoi/Library/Caches/pip/wheels/6d/32/bd/460a71becd83f7d77152f437c2fd451f5c87bc19cfcdbfcd24\n",
      "Successfully built factor-analyzer\n",
      "Installing collected packages: platformdirs, distlib, virtualenv, nodeenv, identify, cfgv, pre-commit, factor-analyzer\n",
      "Successfully installed cfgv-3.3.1 distlib-0.3.6 factor-analyzer-0.4.1 identify-2.5.18 nodeenv-1.7.0 platformdirs-3.0.0 pre-commit-3.1.1 virtualenv-20.19.0\n"
     ]
    }
   ],
   "source": [
    "# 어떤 모델이 더 유용한지 3요인 솔루션과 2요인 솔루션을 테스트\n",
    "# sklearn 요인 분석 모듈 sklearn.decomposition.FactorAnalysis()\n",
    "# 기능이 약간 제한되어 있어 필요한 경우 pip를 사용해 설치할 수 있는 factor_analyzer 패키지 사용\n",
    "\n",
    "!pip install factor_analyzer"
   ]
  },
  {
   "cell_type": "code",
   "execution_count": 89,
   "id": "6453567e",
   "metadata": {},
   "outputs": [
    {
     "data": {
      "text/html": [
       "<div>\n",
       "<style scoped>\n",
       "    .dataframe tbody tr th:only-of-type {\n",
       "        vertical-align: middle;\n",
       "    }\n",
       "\n",
       "    .dataframe tbody tr th {\n",
       "        vertical-align: top;\n",
       "    }\n",
       "\n",
       "    .dataframe thead th {\n",
       "        text-align: right;\n",
       "    }\n",
       "</style>\n",
       "<table border=\"1\" class=\"dataframe\">\n",
       "  <thead>\n",
       "    <tr style=\"text-align: right;\">\n",
       "      <th></th>\n",
       "      <th>0</th>\n",
       "      <th>1</th>\n",
       "    </tr>\n",
       "  </thead>\n",
       "  <tbody>\n",
       "    <tr>\n",
       "      <th>perform</th>\n",
       "      <td>0.09</td>\n",
       "      <td>0.60</td>\n",
       "    </tr>\n",
       "    <tr>\n",
       "      <th>leader</th>\n",
       "      <td>-0.02</td>\n",
       "      <td>0.81</td>\n",
       "    </tr>\n",
       "    <tr>\n",
       "      <th>latest</th>\n",
       "      <td>-0.59</td>\n",
       "      <td>-0.04</td>\n",
       "    </tr>\n",
       "    <tr>\n",
       "      <th>fun</th>\n",
       "      <td>-0.19</td>\n",
       "      <td>-0.39</td>\n",
       "    </tr>\n",
       "    <tr>\n",
       "      <th>serious</th>\n",
       "      <td>-0.07</td>\n",
       "      <td>0.68</td>\n",
       "    </tr>\n",
       "    <tr>\n",
       "      <th>bargain</th>\n",
       "      <td>0.69</td>\n",
       "      <td>0.05</td>\n",
       "    </tr>\n",
       "    <tr>\n",
       "      <th>value</th>\n",
       "      <td>0.78</td>\n",
       "      <td>0.11</td>\n",
       "    </tr>\n",
       "    <tr>\n",
       "      <th>trendy</th>\n",
       "      <td>-0.65</td>\n",
       "      <td>0.10</td>\n",
       "    </tr>\n",
       "    <tr>\n",
       "      <th>rebuy</th>\n",
       "      <td>0.60</td>\n",
       "      <td>0.33</td>\n",
       "    </tr>\n",
       "  </tbody>\n",
       "</table>\n",
       "</div>"
      ],
      "text/plain": [
       "            0     1\n",
       "perform  0.09  0.60\n",
       "leader  -0.02  0.81\n",
       "latest  -0.59 -0.04\n",
       "fun     -0.19 -0.39\n",
       "serious -0.07  0.68\n",
       "bargain  0.69  0.05\n",
       "value    0.78  0.11\n",
       "trendy  -0.65  0.10\n",
       "rebuy    0.60  0.33"
      ]
     },
     "execution_count": 89,
     "metadata": {},
     "output_type": "execute_result"
    }
   ],
   "source": [
    "# 2요인 솔루션\n",
    "# 요인 0은 할인과 가치에 강하게 적재되므로 가치\n",
    "# 요인 1은 리더와 대단함 요소에 적재되므로 카테고리 리더 요소로 간주됨\n",
    "import factor_analyzer\n",
    "\n",
    "fa = factor_analyzer.FactorAnalyzer(n_factors=2, rotation='varimax')\n",
    "fa.fit(brand_ratings_sc_vals)\n",
    "pd.DataFrame(fa.loadings_, index=brand_ratings_names).round(2)\n",
    "\n"
   ]
  },
  {
   "cell_type": "code",
   "execution_count": 94,
   "id": "bcbf8e5e",
   "metadata": {},
   "outputs": [
    {
     "data": {
      "text/html": [
       "<div>\n",
       "<style scoped>\n",
       "    .dataframe tbody tr th:only-of-type {\n",
       "        vertical-align: middle;\n",
       "    }\n",
       "\n",
       "    .dataframe tbody tr th {\n",
       "        vertical-align: top;\n",
       "    }\n",
       "\n",
       "    .dataframe thead th {\n",
       "        text-align: right;\n",
       "    }\n",
       "</style>\n",
       "<table border=\"1\" class=\"dataframe\">\n",
       "  <thead>\n",
       "    <tr style=\"text-align: right;\">\n",
       "      <th></th>\n",
       "      <th>0</th>\n",
       "      <th>1</th>\n",
       "      <th>2</th>\n",
       "    </tr>\n",
       "  </thead>\n",
       "  <tbody>\n",
       "    <tr>\n",
       "      <th>perform</th>\n",
       "      <td>0.07</td>\n",
       "      <td>0.60</td>\n",
       "      <td>-0.06</td>\n",
       "    </tr>\n",
       "    <tr>\n",
       "      <th>leader</th>\n",
       "      <td>0.06</td>\n",
       "      <td>0.80</td>\n",
       "      <td>0.10</td>\n",
       "    </tr>\n",
       "    <tr>\n",
       "      <th>latest</th>\n",
       "      <td>-0.16</td>\n",
       "      <td>-0.08</td>\n",
       "      <td>0.98</td>\n",
       "    </tr>\n",
       "    <tr>\n",
       "      <th>fun</th>\n",
       "      <td>-0.07</td>\n",
       "      <td>-0.41</td>\n",
       "      <td>0.21</td>\n",
       "    </tr>\n",
       "    <tr>\n",
       "      <th>serious</th>\n",
       "      <td>-0.01</td>\n",
       "      <td>0.68</td>\n",
       "      <td>0.08</td>\n",
       "    </tr>\n",
       "    <tr>\n",
       "      <th>bargain</th>\n",
       "      <td>0.84</td>\n",
       "      <td>-0.00</td>\n",
       "      <td>-0.11</td>\n",
       "    </tr>\n",
       "    <tr>\n",
       "      <th>value</th>\n",
       "      <td>0.85</td>\n",
       "      <td>0.08</td>\n",
       "      <td>-0.21</td>\n",
       "    </tr>\n",
       "    <tr>\n",
       "      <th>trendy</th>\n",
       "      <td>-0.35</td>\n",
       "      <td>0.08</td>\n",
       "      <td>0.59</td>\n",
       "    </tr>\n",
       "    <tr>\n",
       "      <th>rebuy</th>\n",
       "      <td>0.50</td>\n",
       "      <td>0.32</td>\n",
       "      <td>-0.30</td>\n",
       "    </tr>\n",
       "  </tbody>\n",
       "</table>\n",
       "</div>"
      ],
      "text/plain": [
       "            0     1     2\n",
       "perform  0.07  0.60 -0.06\n",
       "leader   0.06  0.80  0.10\n",
       "latest  -0.16 -0.08  0.98\n",
       "fun     -0.07 -0.41  0.21\n",
       "serious -0.01  0.68  0.08\n",
       "bargain  0.84 -0.00 -0.11\n",
       "value    0.85  0.08 -0.21\n",
       "trendy  -0.35  0.08  0.59\n",
       "rebuy    0.50  0.32 -0.30"
      ]
     },
     "execution_count": 94,
     "metadata": {},
     "output_type": "execute_result"
    }
   ],
   "source": [
    "# 3요인 모델이 2요인 모델보다 더 우수함\n",
    "# why? 요인이 더 해석 가능하기 때문에. \n",
    "fa = factor_analyzer.FactorAnalyzer(n_factors=3, rotation='varimax')\n",
    "fa.fit(brand_ratings_sc_vals)\n",
    "pd.DataFrame(fa.loadings_, index=brand_ratings_names).round(2)\n",
    "\n",
    "# 요인 1: 가치\n",
    "# 요인 2: 리더\n",
    "# 요인 3: 최신"
   ]
  },
  {
   "cell_type": "markdown",
   "id": "89166a50",
   "metadata": {},
   "source": [
    "## EFA 로테이션"
   ]
  },
  {
   "cell_type": "code",
   "execution_count": 96,
   "id": "e00fb20a",
   "metadata": {},
   "outputs": [],
   "source": [
    "# 요인 분석 솔루션은 \"동일한 분산 비율을 설명하는 새로운 적재를 갖도록\" 회전할 수 있음.\n",
    "# EFA에서 고려할 가치가 있는 한가지 문제 -> 요인이 서로 상관되도록 허용하겠는가?\n",
    "\n",
    "# EFA는 기본 잠재 차원에 중점을 두는 반면 PCA는 데이터의 차원 변환에 중점을 둔다.\n",
    "\n",
    "# 현재 데이터로 돌아와서 가치와 리더가 관련될 것으로 합리적으로 예상된다고 판단할 수 있음.\n",
    "# 많은 범주에서 리더는 가격 프리미엄을 요구할 수 있음.\n",
    "# 따라서 여기서는 이 두 가지 잠재 구조가 서로 독립적이지 않고 음의 상관관계를 가질 것으로 예상할 수 있음.\n",
    "# 이는 솔루션에서 상관 요인을 허용할 수 있음을 의미함.\n",
    "# -> 비스듬한 회전 (oblique)"
   ]
  },
  {
   "cell_type": "code",
   "execution_count": 99,
   "id": "3c524f05",
   "metadata": {},
   "outputs": [
    {
     "data": {
      "text/html": [
       "<div>\n",
       "<style scoped>\n",
       "    .dataframe tbody tr th:only-of-type {\n",
       "        vertical-align: middle;\n",
       "    }\n",
       "\n",
       "    .dataframe tbody tr th {\n",
       "        vertical-align: top;\n",
       "    }\n",
       "\n",
       "    .dataframe thead th {\n",
       "        text-align: right;\n",
       "    }\n",
       "</style>\n",
       "<table border=\"1\" class=\"dataframe\">\n",
       "  <thead>\n",
       "    <tr style=\"text-align: right;\">\n",
       "      <th></th>\n",
       "      <th>0</th>\n",
       "      <th>1</th>\n",
       "      <th>2</th>\n",
       "    </tr>\n",
       "  </thead>\n",
       "  <tbody>\n",
       "    <tr>\n",
       "      <th>perform</th>\n",
       "      <td>0.01</td>\n",
       "      <td>0.60</td>\n",
       "      <td>-0.09</td>\n",
       "    </tr>\n",
       "    <tr>\n",
       "      <th>leader</th>\n",
       "      <td>0.02</td>\n",
       "      <td>0.81</td>\n",
       "      <td>0.07</td>\n",
       "    </tr>\n",
       "    <tr>\n",
       "      <th>latest</th>\n",
       "      <td>0.03</td>\n",
       "      <td>-0.00</td>\n",
       "      <td>1.01</td>\n",
       "    </tr>\n",
       "    <tr>\n",
       "      <th>fun</th>\n",
       "      <td>0.00</td>\n",
       "      <td>-0.39</td>\n",
       "      <td>0.24</td>\n",
       "    </tr>\n",
       "    <tr>\n",
       "      <th>serious</th>\n",
       "      <td>-0.05</td>\n",
       "      <td>0.68</td>\n",
       "      <td>0.03</td>\n",
       "    </tr>\n",
       "    <tr>\n",
       "      <th>bargain</th>\n",
       "      <td>0.88</td>\n",
       "      <td>-0.05</td>\n",
       "      <td>0.07</td>\n",
       "    </tr>\n",
       "    <tr>\n",
       "      <th>value</th>\n",
       "      <td>0.86</td>\n",
       "      <td>0.03</td>\n",
       "      <td>-0.04</td>\n",
       "    </tr>\n",
       "    <tr>\n",
       "      <th>trendy</th>\n",
       "      <td>-0.26</td>\n",
       "      <td>0.14</td>\n",
       "      <td>0.54</td>\n",
       "    </tr>\n",
       "    <tr>\n",
       "      <th>rebuy</th>\n",
       "      <td>0.45</td>\n",
       "      <td>0.28</td>\n",
       "      <td>-0.22</td>\n",
       "    </tr>\n",
       "  </tbody>\n",
       "</table>\n",
       "</div>"
      ],
      "text/plain": [
       "            0     1     2\n",
       "perform  0.01  0.60 -0.09\n",
       "leader   0.02  0.81  0.07\n",
       "latest   0.03 -0.00  1.01\n",
       "fun      0.00 -0.39  0.24\n",
       "serious -0.05  0.68  0.03\n",
       "bargain  0.88 -0.05  0.07\n",
       "value    0.86  0.03 -0.04\n",
       "trendy  -0.26  0.14  0.54\n",
       "rebuy    0.45  0.28 -0.22"
      ]
     },
     "execution_count": 99,
     "metadata": {},
     "output_type": "execute_result"
    }
   ],
   "source": [
    "# 일반적인 비스듬한 회전 -> oblimin 회전 \n",
    "\n",
    "fa = factor_analyzer.FactorAnalyzer(n_factors=3, rotation='oblimin')\n",
    "fa.fit(brand_ratings_sc_vals)\n",
    "fa_loadings_df = pd.DataFrame(fa.loadings_,\n",
    "                              index=brand_ratings_names)\n",
    "fa_loadings_df.round(2)\n",
    "\n",
    "# 배리맥스 회전과 비교할 때 적재가 요인과 형용사의 관계에 대해 약간 다르다는 것을 알 수 있음.\n",
    "# 그러나 이 경우 적재는 충분히 유사해 요인을 해석하는 방법에 큰 변화가 없다.\n",
    "# 가치, 리더, 최신 에 대한 요인은 여전히 있음."
   ]
  },
  {
   "cell_type": "code",
   "execution_count": 101,
   "id": "e051a202",
   "metadata": {},
   "outputs": [
    {
     "data": {
      "text/plain": [
       "array([[ 1.        ,  0.12904598, -0.41410012],\n",
       "       [ 0.12904598,  1.        , -0.04888392],\n",
       "       [-0.41410012, -0.04888392,  1.        ]])"
      ]
     },
     "execution_count": 101,
     "metadata": {},
     "output_type": "execute_result"
    }
   ],
   "source": [
    "# 추정된 잠재 요인 간의 관계를 보여주는 요인 상관 행렬을 확인할 수 있음.\n",
    "# 요인 1은 요인 3과 음의 상관관계가 있으면 본질적으로 요인 2(리더) 와는 상관관계가 없다. \n",
    "\n",
    "np.corrcoef(fa.transform(brand_ratings_sc_vals).T)\n",
    "\n",
    "# 요인 1과 3의 음의 상관관계는 가치 브랜드가 트렌디할 가능성이 적다는 우리의 이론과 일치하므로\n",
    "# 더 해석 가능한 결과라고 생각한다. \n",
    "\n",
    "# 다른 경우에는 상관 회전이 직교 회전보다 더 나은 솔루션이 될 수도 있고 그렇지 않을 수도 있음.\n",
    "# 그것은 통계보다는 영역 지식과 해석적 유용성을 바탕으로 결정돼야 할 문제이다. "
   ]
  },
  {
   "cell_type": "code",
   "execution_count": 102,
   "id": "d334bd70",
   "metadata": {},
   "outputs": [
    {
     "data": {
      "text/plain": [
       "<seaborn.matrix.ClusterGrid at 0x7fee23890520>"
      ]
     },
     "execution_count": 102,
     "metadata": {},
     "output_type": "execute_result"
    },
    {
     "data": {
      "image/png": "[encoded data removed]",
      "text/plain": [
       "<Figure size 720x720 with 4 Axes>"
      ]
     },
     "metadata": {
      "needs_background": "light"
     },
     "output_type": "display_data"
    }
   ],
   "source": [
    "# 위의 출력에는 항목 대 요인 item-to-factor 적재가 표시됨.\n",
    "# 반환된 모델 객체에서 이들은 로딩 매개변수로 나타난다.\n",
    "# 그런 다음 로딩의 클러스터 맵을 사용해 항목 요소 관계를 시각화할 수 있다.\n",
    "\n",
    "sns.clustermap(fa_loadings_df, cmap=cm.BrBG, center=0)"
   ]
  },
  {
   "cell_type": "code",
   "execution_count": 103,
   "id": "36974ac7",
   "metadata": {},
   "outputs": [],
   "source": [
    "# 해당 그림은 항목이 세가지 요소로 뚜렷하게 구분돼 있으며 대략 가치, 리더, 최신으로 해석할 수 있다.\n",
    "# 명시된 재구매 의도(rebuy)를 반영하는 품목 재구매는 요인 1과 요인 2 모두에 적재됨\n",
    "# 시뮬레이션 데이터는 소비자는 브랜드가 좋은 가치 혹은 리더이기 때문에 어떤 이유로든 브랜드를 다시 구매할 것이라는 사실을 알 수 있음."
   ]
  },
  {
   "cell_type": "code",
   "execution_count": 104,
   "id": "ca973b71",
   "metadata": {},
   "outputs": [],
   "source": [
    "#################################################\n",
    "# 전반적으로 이 데이터셋에 대한 EFA의 결과는 9개의 개별 변수를 사용하는 대신\n",
    "# 3개의 기본 잠재 요인으로 데이터를 나타낼 수 있다는 것이다. \n",
    "\n",
    "# 각 요인이 매니페스트 변수의 2~4개에 매핑되는 것을 확인했다.\n",
    "# 그러나 이것은 데이터에서 평가 변수들 사이의 관계만을 알려줌\n",
    "\n",
    "# 다음 절에서는 추정 요인 점수를 사용해 브랜드에 대해 알아보자"
   ]
  },
  {
   "cell_type": "markdown",
   "id": "e7c870c5",
   "metadata": {},
   "source": [
    "## 브랜드에 요인 점수 사용"
   ]
  },
  {
   "cell_type": "code",
   "execution_count": 105,
   "id": "de01bc08",
   "metadata": {},
   "outputs": [
    {
     "data": {
      "text/html": [
       "<div>\n",
       "<style scoped>\n",
       "    .dataframe tbody tr th:only-of-type {\n",
       "        vertical-align: middle;\n",
       "    }\n",
       "\n",
       "    .dataframe tbody tr th {\n",
       "        vertical-align: top;\n",
       "    }\n",
       "\n",
       "    .dataframe thead th {\n",
       "        text-align: right;\n",
       "    }\n",
       "</style>\n",
       "<table border=\"1\" class=\"dataframe\">\n",
       "  <thead>\n",
       "    <tr style=\"text-align: right;\">\n",
       "      <th></th>\n",
       "      <th>0</th>\n",
       "      <th>1</th>\n",
       "      <th>2</th>\n",
       "      <th>brand</th>\n",
       "    </tr>\n",
       "  </thead>\n",
       "  <tbody>\n",
       "    <tr>\n",
       "      <th>0</th>\n",
       "      <td>1.388590</td>\n",
       "      <td>-0.491354</td>\n",
       "      <td>0.531693</td>\n",
       "      <td>a</td>\n",
       "    </tr>\n",
       "    <tr>\n",
       "      <th>1</th>\n",
       "      <td>-1.188916</td>\n",
       "      <td>-1.352280</td>\n",
       "      <td>-0.658905</td>\n",
       "      <td>a</td>\n",
       "    </tr>\n",
       "    <tr>\n",
       "      <th>2</th>\n",
       "      <td>1.038597</td>\n",
       "      <td>-0.801256</td>\n",
       "      <td>-0.372207</td>\n",
       "      <td>a</td>\n",
       "    </tr>\n",
       "    <tr>\n",
       "      <th>3</th>\n",
       "      <td>0.037803</td>\n",
       "      <td>-0.318029</td>\n",
       "      <td>1.190962</td>\n",
       "      <td>a</td>\n",
       "    </tr>\n",
       "    <tr>\n",
       "      <th>4</th>\n",
       "      <td>1.688281</td>\n",
       "      <td>-1.525753</td>\n",
       "      <td>-0.453958</td>\n",
       "      <td>a</td>\n",
       "    </tr>\n",
       "  </tbody>\n",
       "</table>\n",
       "</div>"
      ],
      "text/plain": [
       "          0         1         2 brand\n",
       "0  1.388590 -0.491354  0.531693     a\n",
       "1 -1.188916 -1.352280 -0.658905     a\n",
       "2  1.038597 -0.801256 -0.372207     a\n",
       "3  0.037803 -0.318029  1.190962     a\n",
       "4  1.688281 -1.525753 -0.453958     a"
      ]
     },
     "execution_count": 105,
     "metadata": {},
     "output_type": "execute_result"
    }
   ],
   "source": [
    "fa = factor_analyzer.FactorAnalyzer(n_factors=3, rotation='oblimin')\n",
    "brand_ratings_fa_trans = fa.fit_transform(brand_ratings_sc_vals)\n",
    "brand_rating_fa_scores = pd.DataFrame(brand_ratings_fa_trans)\n",
    "brand_rating_fa_scores['brand'] = brand_ratings_sc.brand\n",
    "brand_rating_fa_scores.head()"
   ]
  },
  {
   "cell_type": "code",
   "execution_count": 108,
   "id": "2513c78a",
   "metadata": {},
   "outputs": [
    {
     "data": {
      "text/html": [
       "<div>\n",
       "<style scoped>\n",
       "    .dataframe tbody tr th:only-of-type {\n",
       "        vertical-align: middle;\n",
       "    }\n",
       "\n",
       "    .dataframe tbody tr th {\n",
       "        vertical-align: top;\n",
       "    }\n",
       "\n",
       "    .dataframe thead th {\n",
       "        text-align: right;\n",
       "    }\n",
       "</style>\n",
       "<table border=\"1\" class=\"dataframe\">\n",
       "  <thead>\n",
       "    <tr style=\"text-align: right;\">\n",
       "      <th></th>\n",
       "      <th>Value</th>\n",
       "      <th>Leader</th>\n",
       "      <th>Latest</th>\n",
       "    </tr>\n",
       "    <tr>\n",
       "      <th>brand</th>\n",
       "      <th></th>\n",
       "      <th></th>\n",
       "      <th></th>\n",
       "    </tr>\n",
       "  </thead>\n",
       "  <tbody>\n",
       "    <tr>\n",
       "      <th>a</th>\n",
       "      <td>0.147</td>\n",
       "      <td>-0.863</td>\n",
       "      <td>0.388</td>\n",
       "    </tr>\n",
       "    <tr>\n",
       "      <th>b</th>\n",
       "      <td>0.067</td>\n",
       "      <td>1.205</td>\n",
       "      <td>0.710</td>\n",
       "    </tr>\n",
       "    <tr>\n",
       "      <th>c</th>\n",
       "      <td>-0.492</td>\n",
       "      <td>1.120</td>\n",
       "      <td>-0.077</td>\n",
       "    </tr>\n",
       "    <tr>\n",
       "      <th>d</th>\n",
       "      <td>-0.921</td>\n",
       "      <td>-0.625</td>\n",
       "      <td>0.368</td>\n",
       "    </tr>\n",
       "    <tr>\n",
       "      <th>e</th>\n",
       "      <td>0.416</td>\n",
       "      <td>-0.035</td>\n",
       "      <td>0.437</td>\n",
       "    </tr>\n",
       "    <tr>\n",
       "      <th>f</th>\n",
       "      <td>1.048</td>\n",
       "      <td>0.406</td>\n",
       "      <td>-1.265</td>\n",
       "    </tr>\n",
       "    <tr>\n",
       "      <th>g</th>\n",
       "      <td>1.236</td>\n",
       "      <td>0.086</td>\n",
       "      <td>-1.326</td>\n",
       "    </tr>\n",
       "    <tr>\n",
       "      <th>h</th>\n",
       "      <td>-0.804</td>\n",
       "      <td>-0.271</td>\n",
       "      <td>0.528</td>\n",
       "    </tr>\n",
       "    <tr>\n",
       "      <th>i</th>\n",
       "      <td>-0.555</td>\n",
       "      <td>-0.169</td>\n",
       "      <td>0.388</td>\n",
       "    </tr>\n",
       "    <tr>\n",
       "      <th>j</th>\n",
       "      <td>-0.142</td>\n",
       "      <td>-0.854</td>\n",
       "      <td>-0.150</td>\n",
       "    </tr>\n",
       "  </tbody>\n",
       "</table>\n",
       "</div>"
      ],
      "text/plain": [
       "       Value  Leader  Latest\n",
       "brand                       \n",
       "a      0.147  -0.863   0.388\n",
       "b      0.067   1.205   0.710\n",
       "c     -0.492   1.120  -0.077\n",
       "d     -0.921  -0.625   0.368\n",
       "e      0.416  -0.035   0.437\n",
       "f      1.048   0.406  -1.265\n",
       "g      1.236   0.086  -1.326\n",
       "h     -0.804  -0.271   0.528\n",
       "i     -0.555  -0.169   0.388\n",
       "j     -0.142  -0.854  -0.150"
      ]
     },
     "execution_count": 108,
     "metadata": {},
     "output_type": "execute_result"
    }
   ],
   "source": [
    "# 결과는 각 요인과 브랜드에 대한 각 응답자의 추정 점수이다.\n",
    "# 인구 통계나 구매 행동과의 관계 같은 요인의 개별 수준 상관관계를 조사하려면 이러한 요인 점수 추정치를 사용할 수 있음 (여기서는 fit_transform)\n",
    "\n",
    "# 이는 모델 복잡도(차원 수)를 줄이고 좀 더 신뢰할 수 있는 추정값(여러 매니페스트 변수를 반영하는 요인 점수)을 사용하기 때문에\n",
    "# 회귀와 세분화와 같은 분석에 매우 유용할 수 있다. 여기서는 9개 항목 대신 세 가지 요인이 있다.\n",
    "\n",
    "brand_rating_fa_mean = brand_rating_fa_scores.groupby('brand').mean()\n",
    "brand_rating_fa_mean.columns = ['Value', 'Leader', 'Latest']\n",
    "brand_rating_fa_mean.round(3)"
   ]
  },
  {
   "cell_type": "code",
   "execution_count": 110,
   "id": "e91b357e",
   "metadata": {},
   "outputs": [
    {
     "data": {
      "text/plain": [
       "<seaborn.matrix.ClusterGrid at 0x7fee24dacf70>"
      ]
     },
     "execution_count": 110,
     "metadata": {},
     "output_type": "execute_result"
    },
    {
     "data": {
      "image/png": "[encoded data removed]",
      "text/plain": [
       "<Figure size 720x720 with 4 Axes>"
      ]
     },
     "metadata": {
      "needs_background": "light"
     },
     "output_type": "display_data"
    }
   ],
   "source": [
    "sns.clustermap(brand_rating_fa_mean, cmap=cm.BrBG, center=0)"
   ]
  },
  {
   "cell_type": "code",
   "execution_count": 111,
   "id": "f9909742",
   "metadata": {},
   "outputs": [],
   "source": [
    "# 이를 통해 EFA가 변수의 기본 구조와 관계를 조사하는 귀중한 방법이라는 결론을 내린다.\n",
    "# 항목이 기본 구성체와 관련된 경우 EFA는 변수를 집계해 더 간단하고 해석 가능한 잠재 변수를 생성함으로써 \"데이터 복잡성을 줄인다.\""
   ]
  },
  {
   "cell_type": "markdown",
   "id": "b12b90cb",
   "metadata": {},
   "source": [
    "# 다차원 척도법"
   ]
  },
  {
   "cell_type": "code",
   "execution_count": 112,
   "id": "ee8d4343",
   "metadata": {},
   "outputs": [],
   "source": [
    "# MDS 은 데이터의 저차원 표현을 찾는데도 사용할 수 있는 제품군이다.\n",
    "# 기저성분이나 잠재 요인을 추출하는 대신 MDS는 거리 행렬(distance matrix) 혹은 유사성 행렬(similarity matrix)을 사용한다\n",
    "# MDS는 항목 간에 관찰된 모든 유사성을 가장 잘 보존하는 저차원 지도를 찾으려고 한다."
   ]
  },
  {
   "cell_type": "code",
   "execution_count": 114,
   "id": "ba185299",
   "metadata": {},
   "outputs": [
    {
     "data": {
      "text/plain": [
       "array([[ 0.59217926,  5.19146726],\n",
       "       [-2.74412002, -6.30675543],\n",
       "       [-0.51645595, -5.64921129],\n",
       "       [-4.33444294,  3.51765049],\n",
       "       [ 0.69182752,  0.80286252],\n",
       "       [ 6.14100233, -2.84581818],\n",
       "       [ 8.40903503, -0.33459353],\n",
       "       [-4.67731306,  1.14429619],\n",
       "       [-3.16204417,  0.12390567],\n",
       "       [-0.399668  ,  4.35619632]])"
      ]
     },
     "execution_count": 114,
     "metadata": {},
     "output_type": "execute_result"
    }
   ],
   "source": [
    "# 쌍별 유클리드 거리를 계산한 다음 저차원 표현을 찾는다.\n",
    "\n",
    "from sklearn import manifold\n",
    "\n",
    "np.random.seed(889783)\n",
    "brand_mds = manifold.MDS().fit_transform(brand_means)\n",
    "brand_mds\n",
    "\n",
    "# MDS.fit_transform()의 결과는 개체에 대한 2차원 추정 도명 좌표를 나타내는 X및 Y 차원 리스트"
   ]
  },
  {
   "cell_type": "code",
   "execution_count": 118,
   "id": "b445f966",
   "metadata": {},
   "outputs": [
    {
     "data": {
      "image/png": "[encoded data removed]",
      "text/plain": [
       "<Figure size 432x288 with 1 Axes>"
      ]
     },
     "metadata": {
      "needs_background": "light"
     },
     "output_type": "display_data"
    }
   ],
   "source": [
    "# 평균 브랜드 등급에 대한 다차원 척도 차트\n",
    "# 브랜드 위치는 biplot과 매유 유사. \n",
    "\n",
    "plt.scatter(\n",
    "    x=brand_mds[:,0],\n",
    "    y=brand_mds[:,1],\n",
    "    color='grey'\n",
    ")\n",
    "for i,p in enumerate(brand_mds):\n",
    "    plt.annotate(text=brand_means.index[i], xy=p+.1)"
   ]
  },
  {
   "cell_type": "markdown",
   "id": "02037899",
   "metadata": {},
   "source": [
    "## 비측도 MDS"
   ]
  },
  {
   "cell_type": "code",
   "execution_count": 140,
   "id": "3aec651b",
   "metadata": {},
   "outputs": [
    {
     "data": {
      "text/html": [
       "<div>\n",
       "<style scoped>\n",
       "    .dataframe tbody tr th:only-of-type {\n",
       "        vertical-align: middle;\n",
       "    }\n",
       "\n",
       "    .dataframe tbody tr th {\n",
       "        vertical-align: top;\n",
       "    }\n",
       "\n",
       "    .dataframe thead th {\n",
       "        text-align: right;\n",
       "    }\n",
       "</style>\n",
       "<table border=\"1\" class=\"dataframe\">\n",
       "  <thead>\n",
       "    <tr style=\"text-align: right;\">\n",
       "      <th></th>\n",
       "      <th>perform</th>\n",
       "      <th>leader</th>\n",
       "      <th>latest</th>\n",
       "      <th>fun</th>\n",
       "      <th>serious</th>\n",
       "      <th>bargain</th>\n",
       "      <th>value</th>\n",
       "      <th>trendy</th>\n",
       "      <th>rebuy</th>\n",
       "    </tr>\n",
       "    <tr>\n",
       "      <th>brand</th>\n",
       "      <th></th>\n",
       "      <th></th>\n",
       "      <th></th>\n",
       "      <th></th>\n",
       "      <th></th>\n",
       "      <th></th>\n",
       "      <th></th>\n",
       "      <th></th>\n",
       "      <th></th>\n",
       "    </tr>\n",
       "  </thead>\n",
       "  <tbody>\n",
       "    <tr>\n",
       "      <th>a</th>\n",
       "      <td>0</td>\n",
       "      <td>2</td>\n",
       "      <td>6</td>\n",
       "      <td>8</td>\n",
       "      <td>0</td>\n",
       "      <td>6</td>\n",
       "      <td>6</td>\n",
       "      <td>2</td>\n",
       "      <td>2</td>\n",
       "    </tr>\n",
       "    <tr>\n",
       "      <th>b</th>\n",
       "      <td>9</td>\n",
       "      <td>8</td>\n",
       "      <td>9</td>\n",
       "      <td>0</td>\n",
       "      <td>8</td>\n",
       "      <td>5</td>\n",
       "      <td>5</td>\n",
       "      <td>8</td>\n",
       "      <td>7</td>\n",
       "    </tr>\n",
       "    <tr>\n",
       "      <th>c</th>\n",
       "      <td>7</td>\n",
       "      <td>9</td>\n",
       "      <td>3</td>\n",
       "      <td>1</td>\n",
       "      <td>9</td>\n",
       "      <td>2</td>\n",
       "      <td>3</td>\n",
       "      <td>4</td>\n",
       "      <td>5</td>\n",
       "    </tr>\n",
       "    <tr>\n",
       "      <th>d</th>\n",
       "      <td>1</td>\n",
       "      <td>1</td>\n",
       "      <td>4</td>\n",
       "      <td>4</td>\n",
       "      <td>1</td>\n",
       "      <td>0</td>\n",
       "      <td>0</td>\n",
       "      <td>7</td>\n",
       "      <td>3</td>\n",
       "    </tr>\n",
       "    <tr>\n",
       "      <th>e</th>\n",
       "      <td>3</td>\n",
       "      <td>6</td>\n",
       "      <td>7</td>\n",
       "      <td>6</td>\n",
       "      <td>6</td>\n",
       "      <td>7</td>\n",
       "      <td>7</td>\n",
       "      <td>5</td>\n",
       "      <td>6</td>\n",
       "    </tr>\n",
       "    <tr>\n",
       "      <th>f</th>\n",
       "      <td>4</td>\n",
       "      <td>7</td>\n",
       "      <td>1</td>\n",
       "      <td>3</td>\n",
       "      <td>7</td>\n",
       "      <td>8</td>\n",
       "      <td>8</td>\n",
       "      <td>1</td>\n",
       "      <td>8</td>\n",
       "    </tr>\n",
       "    <tr>\n",
       "      <th>g</th>\n",
       "      <td>8</td>\n",
       "      <td>5</td>\n",
       "      <td>0</td>\n",
       "      <td>2</td>\n",
       "      <td>3</td>\n",
       "      <td>9</td>\n",
       "      <td>9</td>\n",
       "      <td>0</td>\n",
       "      <td>9</td>\n",
       "    </tr>\n",
       "    <tr>\n",
       "      <th>h</th>\n",
       "      <td>5</td>\n",
       "      <td>4</td>\n",
       "      <td>8</td>\n",
       "      <td>9</td>\n",
       "      <td>5</td>\n",
       "      <td>1</td>\n",
       "      <td>2</td>\n",
       "      <td>9</td>\n",
       "      <td>1</td>\n",
       "    </tr>\n",
       "    <tr>\n",
       "      <th>i</th>\n",
       "      <td>6</td>\n",
       "      <td>3</td>\n",
       "      <td>5</td>\n",
       "      <td>7</td>\n",
       "      <td>4</td>\n",
       "      <td>3</td>\n",
       "      <td>1</td>\n",
       "      <td>6</td>\n",
       "      <td>4</td>\n",
       "    </tr>\n",
       "    <tr>\n",
       "      <th>j</th>\n",
       "      <td>2</td>\n",
       "      <td>0</td>\n",
       "      <td>2</td>\n",
       "      <td>5</td>\n",
       "      <td>2</td>\n",
       "      <td>4</td>\n",
       "      <td>4</td>\n",
       "      <td>3</td>\n",
       "      <td>0</td>\n",
       "    </tr>\n",
       "  </tbody>\n",
       "</table>\n",
       "</div>"
      ],
      "text/plain": [
       "       perform  leader  latest  fun  serious  bargain  value  trendy  rebuy\n",
       "brand                                                                      \n",
       "a            0       2       6    8        0        6      6       2      2\n",
       "b            9       8       9    0        8        5      5       8      7\n",
       "c            7       9       3    1        9        2      3       4      5\n",
       "d            1       1       4    4        1        0      0       7      3\n",
       "e            3       6       7    6        6        7      7       5      6\n",
       "f            4       7       1    3        7        8      8       1      8\n",
       "g            8       5       0    2        3        9      9       0      9\n",
       "h            5       4       8    9        5        1      2       9      1\n",
       "i            6       3       5    7        4        3      1       6      4\n",
       "j            2       0       2    5        2        4      4       3      0"
      ]
     },
     "execution_count": 140,
     "metadata": {},
     "output_type": "execute_result"
    }
   ],
   "source": [
    "# 순위나 범주형 변수와 같은 비측도 데이터의 경우 metric=False 인수를 전달\n",
    "\n",
    "# 설명을 위해 평균 평점을 원시 값 대신 순위로 변환하기\n",
    "# 이것은 측도가 아닌 서수 데이터.\n",
    "# 전체 등급이 아닌 각 결과 열을 순위로 코딩하는 apply()를 사용해 열에 argsort()를 적용\n",
    "\n",
    "brand_ranks = brand_means.apply(lambda col: col.argsort().argsort())\n",
    "brand_ranks"
   ]
  },
  {
   "cell_type": "code",
   "execution_count": 141,
   "id": "22bfcdef",
   "metadata": {},
   "outputs": [],
   "source": [
    "brand_mds_nonmetric = manifold.MDS(metric=False).fit_transform(brand_ranks)"
   ]
  },
  {
   "cell_type": "code",
   "execution_count": 142,
   "id": "24a4bdcd",
   "metadata": {},
   "outputs": [
    {
     "data": {
      "image/png": "[encoded data removed]",
      "text/plain": [
       "<Figure size 432x288 with 1 Axes>"
      ]
     },
     "metadata": {
      "needs_background": "light"
     },
     "output_type": "display_data"
    }
   ],
   "source": [
    "# 비측도 솔루션의 브랜드 위치는 상당히 다르지만,\n",
    "# 가장 가까운 이웅ㅅ 브랜드는 측도 솔루션보다 훨씬 더 분리된 브랜드 b와 c를 제외하고는 대체로 일관성이 있다.\n",
    "\n",
    "plt.scatter(\n",
    "    x=brand_mds_nonmetric[:,0],\n",
    "    y=brand_mds_nonmetric[:,1],\n",
    "    color='grey'\n",
    ")\n",
    "\n",
    "for i,p in enumerate(brand_mds_nonmetric):\n",
    "    plt.annotate(text=brand_means.index[i], xy=p+.01)"
   ]
  },
  {
   "cell_type": "code",
   "execution_count": 143,
   "id": "beaac5e8",
   "metadata": {},
   "outputs": [],
   "source": [
    "# PCA는 비측도 데이터에 대해서는 작동하지 않기 때문에,\n",
    "# 비측도 데이터는 MDS nonmetric을 활용하기"
   ]
  },
  {
   "cell_type": "code",
   "execution_count": 144,
   "id": "04c13ca4",
   "metadata": {},
   "outputs": [],
   "source": [
    "#######################################\n",
    "# 다차원 척도법 MDS는 소비자의 피드백, 의견, 온라인 제품 리뷰와 같은 텍스트 데이터를 처리할 때 특히 유용할 수 있다.\n",
    "# 텍스트 빈도는 거리 점수로 변환될 수 있다.\n",
    "# 예를 들어, 온라인 리뷰에서 브랜드 간의 유사성에 관심이 있다면 소비자의 게시물에서 다양한 브랜드 쌍이 함께 나타나는 횟수를 계산할 수 있다."
   ]
  },
  {
   "cell_type": "markdown",
   "id": "f8b0faa8",
   "metadata": {},
   "source": [
    "## 저차원 임베딩을 사용한 시각화"
   ]
  },
  {
   "cell_type": "code",
   "execution_count": 145,
   "id": "b498571f",
   "metadata": {},
   "outputs": [],
   "source": [
    "# 고차원 데이터를 시각화하는 것은 어려움 -> 사실상 2차원으로 제한돼 있기 때문\n",
    "# PCA를 사용해 차원을 2차원으로 줄일 수 있지만 결과 산점도는 종종 해석하기가 매우 어려움.\n",
    "# 2차원으로 고차원 구조를 나타내는 시각화에 명시적으로 맞춤화된 몇 가지 비선형 차원 축소 도구들이 있음."
   ]
  },
  {
   "cell_type": "markdown",
   "id": "c13cb36c",
   "metadata": {},
   "source": [
    "### t-SNE"
   ]
  },
  {
   "cell_type": "code",
   "execution_count": 146,
   "id": "7e9e673d",
   "metadata": {},
   "outputs": [],
   "source": [
    "# 주로 신경망 아키텍처에서 학습한 높은 수준의 표현 등과 같은 고차원 시스템을 시각화하는 데 사용되는 비선형 차원 기술\n",
    "# 특정 매개변수에 민감하고 확률적이므로 실행될 때마다 표현이 달라짐. \n",
    "# 그러나 데이터에서 고차원 구조를 강조하는 데는 탁월함."
   ]
  },
  {
   "cell_type": "code",
   "execution_count": 147,
   "id": "68193dbc",
   "metadata": {},
   "outputs": [
    {
     "name": "stderr",
     "output_type": "stream",
     "text": [
      "/Users/wonbinchoi/opt/anaconda3/lib/python3.9/site-packages/sklearn/manifold/_t_sne.py:780: FutureWarning: The default initialization in TSNE will change from 'random' to 'pca' in 1.2.\n",
      "  warnings.warn(\n",
      "/Users/wonbinchoi/opt/anaconda3/lib/python3.9/site-packages/sklearn/manifold/_t_sne.py:790: FutureWarning: The default learning rate in TSNE will change from 200.0 to 'auto' in 1.2.\n",
      "  warnings.warn(\n"
     ]
    }
   ],
   "source": [
    "brand_tsne = manifold.TSNE().fit_transform(brand_ratings_sc_vals)\n",
    "brand_tsne_df = pd.DataFrame(brand_tsne, columns=['x', 'y'])\n",
    "brand_tsne_df['brand'] = brand_ratings_sc.brand"
   ]
  },
  {
   "cell_type": "code",
   "execution_count": 168,
   "id": "e31f7a7a",
   "metadata": {},
   "outputs": [
    {
     "data": {
      "text/plain": [
       "<seaborn.axisgrid.PairGrid at 0x7fee13c651f0>"
      ]
     },
     "execution_count": 168,
     "metadata": {},
     "output_type": "execute_result"
    },
    {
     "data": {
      "image/png": "[encoded data removed]",
      "text/plain": [
       "<Figure size 762.375x720 with 1 Axes>"
      ]
     },
     "metadata": {
      "needs_background": "light"
     },
     "output_type": "display_data"
    }
   ],
   "source": [
    "# 각 응답을 t-SNE 적합화 공간으로 변환\n",
    "# 모든 포인트의 산점도에 브랜드를 겹치면, 서로 다른 브랜드의 상대적 위치를 볼 수 있음.\n",
    "\n",
    "sns.pairplot(\n",
    "    brand_tsne_df, \n",
    "    x_vars=['x'],\n",
    "    y_vars=['y'],\n",
    "    hue='brand',\n",
    "    palette=sns.color_palette('Paired', n_colors=10),\n",
    "    height=10, plot_kws=dict(edgecolor=\"k\", linewidth=1.2)\n",
    ")"
   ]
  },
  {
   "cell_type": "markdown",
   "id": "82cf7d73",
   "metadata": {},
   "source": [
    "### UMAP"
   ]
  },
  {
   "cell_type": "code",
   "execution_count": 169,
   "id": "87716e7b",
   "metadata": {},
   "outputs": [],
   "source": [
    "# 유사한 기술\n",
    "# 고차원 구조를 2차원으로 시각화하기 위한 또 다른 차원 축소 기술"
   ]
  },
  {
   "cell_type": "code",
   "execution_count": 172,
   "id": "84de50e9",
   "metadata": {},
   "outputs": [
    {
     "ename": "AttributeError",
     "evalue": "module 'umap' has no attribute 'UMAP'",
     "output_type": "error",
     "traceback": [
      "\u001b[0;31m---------------------------------------------------------------------------\u001b[0m",
      "\u001b[0;31mAttributeError\u001b[0m                            Traceback (most recent call last)",
      "Input \u001b[0;32mIn [172]\u001b[0m, in \u001b[0;36m<cell line: 3>\u001b[0;34m()\u001b[0m\n\u001b[1;32m      1\u001b[0m \u001b[38;5;28;01mimport\u001b[39;00m \u001b[38;5;21;01mumap\u001b[39;00m\n\u001b[0;32m----> 3\u001b[0m brand_embedding \u001b[38;5;241m=\u001b[39m \u001b[43mumap\u001b[49m\u001b[38;5;241;43m.\u001b[39;49m\u001b[43mUMAP\u001b[49m()\u001b[38;5;241m.\u001b[39mfit_transform(brand_ratings_sc_vals)\n",
      "\u001b[0;31mAttributeError\u001b[0m: module 'umap' has no attribute 'UMAP'"
     ]
    }
   ],
   "source": [
    "import umap\n",
    "\n",
    "umap.get"
   ]
  },
  {
   "cell_type": "code",
   "execution_count": null,
   "id": "6d040242",
   "metadata": {},
   "outputs": [],
   "source": []
  },
  {
   "cell_type": "code",
   "execution_count": null,
   "id": "5dde5152",
   "metadata": {},
   "outputs": [],
   "source": []
  },
  {
   "cell_type": "code",
   "execution_count": null,
   "id": "e082bc3d",
   "metadata": {},
   "outputs": [],
   "source": []
  },
  {
   "cell_type": "code",
   "execution_count": null,
   "id": "d25cfaf4",
   "metadata": {},
   "outputs": [],
   "source": []
  },
  {
   "cell_type": "code",
   "execution_count": null,
   "id": "b0992c56",
   "metadata": {},
   "outputs": [],
   "source": []
  },
  {
   "cell_type": "code",
   "execution_count": null,
   "id": "7f88616a",
   "metadata": {},
   "outputs": [],
   "source": []
  },
  {
   "cell_type": "code",
   "execution_count": null,
   "id": "03feb375",
   "metadata": {},
   "outputs": [],
   "source": []
  },
  {
   "cell_type": "code",
   "execution_count": null,
   "id": "7b367c64",
   "metadata": {},
   "outputs": [],
   "source": []
  },
  {
   "cell_type": "code",
   "execution_count": null,
   "id": "cb9bb7ef",
   "metadata": {},
   "outputs": [],
   "source": []
  },
  {
   "cell_type": "code",
   "execution_count": null,
   "id": "2114e71a",
   "metadata": {},
   "outputs": [],
   "source": []
  },
  {
   "cell_type": "code",
   "execution_count": null,
   "id": "bad2d63c",
   "metadata": {},
   "outputs": [],
   "source": []
  },
  {
   "cell_type": "code",
   "execution_count": null,
   "id": "effeb094",
   "metadata": {},
   "outputs": [],
   "source": []
  },
  {
   "cell_type": "code",
   "execution_count": null,
   "id": "c95d7c8b",
   "metadata": {},
   "outputs": [],
   "source": []
  },
  {
   "cell_type": "code",
   "execution_count": null,
   "id": "f15eb05b",
   "metadata": {},
   "outputs": [],
   "source": []
  },
  {
   "cell_type": "code",
   "execution_count": null,
   "id": "cc695701",
   "metadata": {},
   "outputs": [],
   "source": []
  },
  {
   "cell_type": "code",
   "execution_count": null,
   "id": "59a34e8b",
   "metadata": {},
   "outputs": [],
   "source": []
  },
  {
   "cell_type": "code",
   "execution_count": null,
   "id": "d0feb9d4",
   "metadata": {},
   "outputs": [],
   "source": []
  },
  {
   "cell_type": "code",
   "execution_count": null,
   "id": "7d557f0b",
   "metadata": {},
   "outputs": [],
   "source": []
  },
  {
   "cell_type": "code",
   "execution_count": null,
   "id": "28227972",
   "metadata": {},
   "outputs": [],
   "source": []
  },
  {
   "cell_type": "code",
   "execution_count": null,
   "id": "aa8649b5",
   "metadata": {},
   "outputs": [],
   "source": []
  },
  {
   "cell_type": "code",
   "execution_count": null,
   "id": "ae8bf204",
   "metadata": {},
   "outputs": [],
   "source": []
  },
  {
   "cell_type": "code",
   "execution_count": null,
   "id": "2d18c19c",
   "metadata": {},
   "outputs": [],
   "source": []
  },
  {
   "cell_type": "code",
   "execution_count": null,
   "id": "1e600fe7",
   "metadata": {},
   "outputs": [],
   "source": []
  },
  {
   "cell_type": "code",
   "execution_count": null,
   "id": "866a9a45",
   "metadata": {},
   "outputs": [],
   "source": []
  },
  {
   "cell_type": "code",
   "execution_count": null,
   "id": "5296095f",
   "metadata": {},
   "outputs": [],
   "source": []
  },
  {
   "cell_type": "code",
   "execution_count": null,
   "id": "a0312fb2",
   "metadata": {},
   "outputs": [],
   "source": []
  },
  {
   "cell_type": "code",
   "execution_count": null,
   "id": "42240441",
   "metadata": {},
   "outputs": [],
   "source": []
  },
  {
   "cell_type": "code",
   "execution_count": null,
   "id": "bc9107c9",
   "metadata": {},
   "outputs": [],
   "source": []
  },
  {
   "cell_type": "code",
   "execution_count": null,
   "id": "836eb0d5",
   "metadata": {},
   "outputs": [],
   "source": []
  },
  {
   "cell_type": "code",
   "execution_count": null,
   "id": "0d684c7f",
   "metadata": {},
   "outputs": [],
   "source": []
  },
  {
   "cell_type": "code",
   "execution_count": null,
   "id": "11a2c881",
   "metadata": {},
   "outputs": [],
   "source": []
  },
  {
   "cell_type": "code",
   "execution_count": null,
   "id": "100b7b13",
   "metadata": {},
   "outputs": [],
   "source": []
  },
  {
   "cell_type": "code",
   "execution_count": null,
   "id": "e16ed1ae",
   "metadata": {},
   "outputs": [],
   "source": []
  },
  {
   "cell_type": "code",
   "execution_count": null,
   "id": "c4f81963",
   "metadata": {},
   "outputs": [],
   "source": []
  }
 ],
 "metadata": {
  "kernelspec": {
   "display_name": "Python 3 (ipykernel)",
   "language": "python",
   "name": "python3"
  },
  "language_info": {
   "codemirror_mode": {
    "name": "ipython",
    "version": 3
   },
   "file_extension": ".py",
   "mimetype": "text/x-python",
   "name": "python",
   "nbconvert_exporter": "python",
   "pygments_lexer": "ipython3",
   "version": "3.9.12"
  },
  "toc": {
   "base_numbering": 1,
   "nav_menu": {},
   "number_sections": true,
   "sideBar": true,
   "skip_h1_title": false,
   "title_cell": "Table of Contents",
   "title_sidebar": "Contents",
   "toc_cell": false,
   "toc_position": {},
   "toc_section_display": true,
   "toc_window_display": true
  },
  "varInspector": {
   "cols": {
    "lenName": 16,
    "lenType": 16,
    "lenVar": 40
   },
   "kernels_config": {
    "python": {
     "delete_cmd_postfix": "",
     "delete_cmd_prefix": "del ",
     "library": "var_list.py",
     "varRefreshCmd": "print(var_dic_list())"
    },
    "r": {
     "delete_cmd_postfix": ") ",
     "delete_cmd_prefix": "rm(",
     "library": "var_list.r",
     "varRefreshCmd": "cat(var_dic_list()) "
    }
   },
   "types_to_exclude": [
    "module",
    "function",
    "builtin_function_or_method",
    "instance",
    "_Feature"
   ],
   "window_display": false
  }
 },
 "nbformat": 4,
 "nbformat_minor": 5
}
